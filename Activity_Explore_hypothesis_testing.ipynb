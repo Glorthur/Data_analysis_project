{
  "cells": [
    {
      "cell_type": "markdown",
      "metadata": {
        "id": "view-in-github",
        "colab_type": "text"
      },
      "source": [
        "<a href=\"https://colab.research.google.com/github/Glorthur/Data_analysis_project/blob/main/Activity_Explore_hypothesis_testing.ipynb\" target=\"_parent\"><img src=\"https://colab.research.google.com/assets/colab-badge.svg\" alt=\"Open In Colab\"/></a>"
      ]
    },
    {
      "cell_type": "markdown",
      "metadata": {
        "id": "d25eed62-5910-4d10-a976-c18c4f7d99f7"
      },
      "source": [
        "# Activity: Explore hypothesis testing"
      ],
      "id": "d25eed62-5910-4d10-a976-c18c4f7d99f7"
    },
    {
      "cell_type": "markdown",
      "metadata": {
        "id": "b50579ec-09df-4bb1-ad5a-d28f4790ca16"
      },
      "source": [
        "## Introduction"
      ],
      "id": "b50579ec-09df-4bb1-ad5a-d28f4790ca16"
    },
    {
      "cell_type": "markdown",
      "metadata": {
        "id": "6a8992ac-22d5-41db-aa09-263b464950e0"
      },
      "source": [
        "You work for an environmental think tank called Repair Our Air (ROA). ROA is formulating policy recommendations to improve the air quality in America, using the Environmental Protection Agency's Air Quality Index (AQI) to guide their decision making. An AQI value close to 0 signals \"little to no\" public health concern, while higher values are associated with increased risk to public health.\n",
        "\n",
        "They've tasked you with leveraging AQI data to help them prioritize their strategy for improving air quality in America."
      ],
      "id": "6a8992ac-22d5-41db-aa09-263b464950e0"
    },
    {
      "cell_type": "markdown",
      "metadata": {
        "id": "6e4e3b8a-b5f9-4fe1-a824-0bd3aece693c"
      },
      "source": [
        "ROA is considering the following decisions. For each, construct a hypothesis test and an accompanying visualization, using your results of that test to make a recommendation:\n",
        "\n",
        "1. ROA is considering a metropolitan-focused approach. Within California, they want to know if the mean AQI in Los Angeles County is statistically different from the rest of California.\n",
        "2. With limited resources, ROA has to choose between New York and Ohio for their next regional office. Does New York have a lower AQI than Ohio?\n",
        "3. A new policy will affect those states with a mean AQI of 10 or greater. Will Michigan be affected by this new policy?\n",
        "\n",
        "**Notes:**\n",
        "1. For your analysis, you'll default to a 5% level of significance.\n",
        "2. Throughout the lab, for two-sample t-tests, use Welch's t-test (i.e., setting the `equal_var` parameter to `False` in `scipy.stats.ttest_ind()`). This will account for the possibly unequal variances between the two groups in the comparison."
      ],
      "id": "6e4e3b8a-b5f9-4fe1-a824-0bd3aece693c"
    },
    {
      "cell_type": "markdown",
      "metadata": {
        "id": "3b4dc9a5-d724-4696-a704-57fefa9d5938"
      },
      "source": [
        "## Step 1: Imports\n",
        "\n",
        "To proceed with your analysis, import `pandas` and `numpy`. To conduct your hypothesis testing, import `stats` from `scipy`."
      ],
      "id": "3b4dc9a5-d724-4696-a704-57fefa9d5938"
    },
    {
      "cell_type": "markdown",
      "metadata": {
        "id": "3d28827d-9bb3-45c7-a969-c00f6feda0e2"
      },
      "source": [
        "#### Import Packages"
      ],
      "id": "3d28827d-9bb3-45c7-a969-c00f6feda0e2"
    },
    {
      "cell_type": "code",
      "execution_count": 2,
      "metadata": {
        "id": "0b3d0e1c-23b9-4491-82a5-ac1e4bd36f30"
      },
      "outputs": [],
      "source": [
        "# Import relevant packages\n",
        "import pandas as pd\n",
        "import numpy as np\n",
        "from scipy import stats\n",
        "### YOUR CODE HERE ###"
      ],
      "id": "0b3d0e1c-23b9-4491-82a5-ac1e4bd36f30"
    },
    {
      "cell_type": "markdown",
      "metadata": {
        "id": "a4f7c0d0-027e-475a-bce5-ad96d059cd04"
      },
      "source": [
        "You are also provided with a dataset with national Air Quality Index (AQI) measurements by state over time for this analysis. `Pandas` was used to import the file `c4_epa_air_quality.csv` as a dataframe named `aqi`. As shown in this cell, the dataset has been automatically loaded in for you. You do not need to download the .csv file, or provide more code, in order to access the dataset and proceed with this lab. Please continue with this activity by completing the following instructions.\n",
        "\n",
        "**Note:** For purposes of your analysis, you can assume this data is randomly sampled from a larger population."
      ],
      "id": "a4f7c0d0-027e-475a-bce5-ad96d059cd04"
    },
    {
      "cell_type": "markdown",
      "metadata": {
        "id": "4b765030-5f02-47d2-aa77-8ac5b2117cc1"
      },
      "source": [
        "#### Load Dataset"
      ],
      "id": "4b765030-5f02-47d2-aa77-8ac5b2117cc1"
    },
    {
      "cell_type": "code",
      "execution_count": 3,
      "metadata": {
        "id": "1ce82ed7-cf32-4028-ac77-a377e7638458",
        "tags": [],
        "colab": {
          "base_uri": "https://localhost:8080/"
        },
        "outputId": "ae997bd4-d9b5-42ab-8704-8f3c339a3d17"
      },
      "outputs": [
        {
          "output_type": "stream",
          "name": "stdout",
          "text": [
            "/content/drive/MyDrive/Coursera/Files_11\n"
          ]
        }
      ],
      "source": [
        "# RUN THIS CELL TO IMPORT YOUR DATA.\n",
        "%cd /content/drive/MyDrive/Coursera/Files_11\n",
        "### YOUR CODE HERE ###\n",
        "aqi = pd.read_csv('c4_epa_air_quality.csv')"
      ],
      "id": "1ce82ed7-cf32-4028-ac77-a377e7638458"
    },
    {
      "cell_type": "code",
      "source": [
        "from google.colab import drive\n",
        "drive.mount('/content/drive')"
      ],
      "metadata": {
        "colab": {
          "base_uri": "https://localhost:8080/"
        },
        "id": "7OEjhb_rDJe-",
        "outputId": "57eb8f76-5365-453c-b59a-3b0ea4298c7a"
      },
      "id": "7OEjhb_rDJe-",
      "execution_count": 4,
      "outputs": [
        {
          "output_type": "stream",
          "name": "stdout",
          "text": [
            "Drive already mounted at /content/drive; to attempt to forcibly remount, call drive.mount(\"/content/drive\", force_remount=True).\n"
          ]
        }
      ]
    },
    {
      "cell_type": "markdown",
      "metadata": {
        "id": "ZDz9XgvMy0MD"
      },
      "source": [
        "## Step 2: Data Exploration"
      ],
      "id": "ZDz9XgvMy0MD"
    },
    {
      "cell_type": "markdown",
      "metadata": {
        "id": "c1ee0813-5e74-4564-8ea1-8d724700754a"
      },
      "source": [
        "### Before proceeding to your deliverables, explore your datasets.\n",
        "\n",
        "Use the following space to surface descriptive statistics about your data. In particular, explore whether you believe the research questions you were given are readily answerable with this data."
      ],
      "id": "c1ee0813-5e74-4564-8ea1-8d724700754a"
    },
    {
      "cell_type": "code",
      "execution_count": 5,
      "metadata": {
        "id": "0444122d-6fba-4051-8b09-b15392aacebf",
        "tags": [],
        "colab": {
          "base_uri": "https://localhost:8080/",
          "height": 365
        },
        "outputId": "f6829d80-ee1b-4e01-d751-1106a32c880f"
      },
      "outputs": [
        {
          "output_type": "execute_result",
          "data": {
            "text/plain": [
              "   Unnamed: 0  date_local    state_name   county_name      city_name  \\\n",
              "0           0  2018-01-01       Arizona      Maricopa        Buckeye   \n",
              "1           1  2018-01-01          Ohio       Belmont      Shadyside   \n",
              "2           2  2018-01-01       Wyoming         Teton  Not in a city   \n",
              "3           3  2018-01-01  Pennsylvania  Philadelphia   Philadelphia   \n",
              "4           4  2018-01-01          Iowa          Polk     Des Moines   \n",
              "\n",
              "                                     local_site_name   parameter_name  \\\n",
              "0                                            BUCKEYE  Carbon monoxide   \n",
              "1                                          Shadyside  Carbon monoxide   \n",
              "2  Yellowstone National Park - Old Faithful Snow ...  Carbon monoxide   \n",
              "3                             North East Waste (NEW)  Carbon monoxide   \n",
              "4                                          CARPENTER  Carbon monoxide   \n",
              "\n",
              "    units_of_measure  arithmetic_mean  aqi  \n",
              "0  Parts per million         0.473684    7  \n",
              "1  Parts per million         0.263158    5  \n",
              "2  Parts per million         0.111111    2  \n",
              "3  Parts per million         0.300000    3  \n",
              "4  Parts per million         0.215789    3  "
            ],
            "text/html": [
              "\n",
              "  <div id=\"df-59d95864-c608-48e7-8e37-71a0e17bea6f\" class=\"colab-df-container\">\n",
              "    <div>\n",
              "<style scoped>\n",
              "    .dataframe tbody tr th:only-of-type {\n",
              "        vertical-align: middle;\n",
              "    }\n",
              "\n",
              "    .dataframe tbody tr th {\n",
              "        vertical-align: top;\n",
              "    }\n",
              "\n",
              "    .dataframe thead th {\n",
              "        text-align: right;\n",
              "    }\n",
              "</style>\n",
              "<table border=\"1\" class=\"dataframe\">\n",
              "  <thead>\n",
              "    <tr style=\"text-align: right;\">\n",
              "      <th></th>\n",
              "      <th>Unnamed: 0</th>\n",
              "      <th>date_local</th>\n",
              "      <th>state_name</th>\n",
              "      <th>county_name</th>\n",
              "      <th>city_name</th>\n",
              "      <th>local_site_name</th>\n",
              "      <th>parameter_name</th>\n",
              "      <th>units_of_measure</th>\n",
              "      <th>arithmetic_mean</th>\n",
              "      <th>aqi</th>\n",
              "    </tr>\n",
              "  </thead>\n",
              "  <tbody>\n",
              "    <tr>\n",
              "      <th>0</th>\n",
              "      <td>0</td>\n",
              "      <td>2018-01-01</td>\n",
              "      <td>Arizona</td>\n",
              "      <td>Maricopa</td>\n",
              "      <td>Buckeye</td>\n",
              "      <td>BUCKEYE</td>\n",
              "      <td>Carbon monoxide</td>\n",
              "      <td>Parts per million</td>\n",
              "      <td>0.473684</td>\n",
              "      <td>7</td>\n",
              "    </tr>\n",
              "    <tr>\n",
              "      <th>1</th>\n",
              "      <td>1</td>\n",
              "      <td>2018-01-01</td>\n",
              "      <td>Ohio</td>\n",
              "      <td>Belmont</td>\n",
              "      <td>Shadyside</td>\n",
              "      <td>Shadyside</td>\n",
              "      <td>Carbon monoxide</td>\n",
              "      <td>Parts per million</td>\n",
              "      <td>0.263158</td>\n",
              "      <td>5</td>\n",
              "    </tr>\n",
              "    <tr>\n",
              "      <th>2</th>\n",
              "      <td>2</td>\n",
              "      <td>2018-01-01</td>\n",
              "      <td>Wyoming</td>\n",
              "      <td>Teton</td>\n",
              "      <td>Not in a city</td>\n",
              "      <td>Yellowstone National Park - Old Faithful Snow ...</td>\n",
              "      <td>Carbon monoxide</td>\n",
              "      <td>Parts per million</td>\n",
              "      <td>0.111111</td>\n",
              "      <td>2</td>\n",
              "    </tr>\n",
              "    <tr>\n",
              "      <th>3</th>\n",
              "      <td>3</td>\n",
              "      <td>2018-01-01</td>\n",
              "      <td>Pennsylvania</td>\n",
              "      <td>Philadelphia</td>\n",
              "      <td>Philadelphia</td>\n",
              "      <td>North East Waste (NEW)</td>\n",
              "      <td>Carbon monoxide</td>\n",
              "      <td>Parts per million</td>\n",
              "      <td>0.300000</td>\n",
              "      <td>3</td>\n",
              "    </tr>\n",
              "    <tr>\n",
              "      <th>4</th>\n",
              "      <td>4</td>\n",
              "      <td>2018-01-01</td>\n",
              "      <td>Iowa</td>\n",
              "      <td>Polk</td>\n",
              "      <td>Des Moines</td>\n",
              "      <td>CARPENTER</td>\n",
              "      <td>Carbon monoxide</td>\n",
              "      <td>Parts per million</td>\n",
              "      <td>0.215789</td>\n",
              "      <td>3</td>\n",
              "    </tr>\n",
              "  </tbody>\n",
              "</table>\n",
              "</div>\n",
              "    <div class=\"colab-df-buttons\">\n",
              "\n",
              "  <div class=\"colab-df-container\">\n",
              "    <button class=\"colab-df-convert\" onclick=\"convertToInteractive('df-59d95864-c608-48e7-8e37-71a0e17bea6f')\"\n",
              "            title=\"Convert this dataframe to an interactive table.\"\n",
              "            style=\"display:none;\">\n",
              "\n",
              "  <svg xmlns=\"http://www.w3.org/2000/svg\" height=\"24px\" viewBox=\"0 -960 960 960\">\n",
              "    <path d=\"M120-120v-720h720v720H120Zm60-500h600v-160H180v160Zm220 220h160v-160H400v160Zm0 220h160v-160H400v160ZM180-400h160v-160H180v160Zm440 0h160v-160H620v160ZM180-180h160v-160H180v160Zm440 0h160v-160H620v160Z\"/>\n",
              "  </svg>\n",
              "    </button>\n",
              "\n",
              "  <style>\n",
              "    .colab-df-container {\n",
              "      display:flex;\n",
              "      gap: 12px;\n",
              "    }\n",
              "\n",
              "    .colab-df-convert {\n",
              "      background-color: #E8F0FE;\n",
              "      border: none;\n",
              "      border-radius: 50%;\n",
              "      cursor: pointer;\n",
              "      display: none;\n",
              "      fill: #1967D2;\n",
              "      height: 32px;\n",
              "      padding: 0 0 0 0;\n",
              "      width: 32px;\n",
              "    }\n",
              "\n",
              "    .colab-df-convert:hover {\n",
              "      background-color: #E2EBFA;\n",
              "      box-shadow: 0px 1px 2px rgba(60, 64, 67, 0.3), 0px 1px 3px 1px rgba(60, 64, 67, 0.15);\n",
              "      fill: #174EA6;\n",
              "    }\n",
              "\n",
              "    .colab-df-buttons div {\n",
              "      margin-bottom: 4px;\n",
              "    }\n",
              "\n",
              "    [theme=dark] .colab-df-convert {\n",
              "      background-color: #3B4455;\n",
              "      fill: #D2E3FC;\n",
              "    }\n",
              "\n",
              "    [theme=dark] .colab-df-convert:hover {\n",
              "      background-color: #434B5C;\n",
              "      box-shadow: 0px 1px 3px 1px rgba(0, 0, 0, 0.15);\n",
              "      filter: drop-shadow(0px 1px 2px rgba(0, 0, 0, 0.3));\n",
              "      fill: #FFFFFF;\n",
              "    }\n",
              "  </style>\n",
              "\n",
              "    <script>\n",
              "      const buttonEl =\n",
              "        document.querySelector('#df-59d95864-c608-48e7-8e37-71a0e17bea6f button.colab-df-convert');\n",
              "      buttonEl.style.display =\n",
              "        google.colab.kernel.accessAllowed ? 'block' : 'none';\n",
              "\n",
              "      async function convertToInteractive(key) {\n",
              "        const element = document.querySelector('#df-59d95864-c608-48e7-8e37-71a0e17bea6f');\n",
              "        const dataTable =\n",
              "          await google.colab.kernel.invokeFunction('convertToInteractive',\n",
              "                                                    [key], {});\n",
              "        if (!dataTable) return;\n",
              "\n",
              "        const docLinkHtml = 'Like what you see? Visit the ' +\n",
              "          '<a target=\"_blank\" href=https://colab.research.google.com/notebooks/data_table.ipynb>data table notebook</a>'\n",
              "          + ' to learn more about interactive tables.';\n",
              "        element.innerHTML = '';\n",
              "        dataTable['output_type'] = 'display_data';\n",
              "        await google.colab.output.renderOutput(dataTable, element);\n",
              "        const docLink = document.createElement('div');\n",
              "        docLink.innerHTML = docLinkHtml;\n",
              "        element.appendChild(docLink);\n",
              "      }\n",
              "    </script>\n",
              "  </div>\n",
              "\n",
              "\n",
              "<div id=\"df-880a5dcf-d4a8-4063-aa12-9487d566a03a\">\n",
              "  <button class=\"colab-df-quickchart\" onclick=\"quickchart('df-880a5dcf-d4a8-4063-aa12-9487d566a03a')\"\n",
              "            title=\"Suggest charts\"\n",
              "            style=\"display:none;\">\n",
              "\n",
              "<svg xmlns=\"http://www.w3.org/2000/svg\" height=\"24px\"viewBox=\"0 0 24 24\"\n",
              "     width=\"24px\">\n",
              "    <g>\n",
              "        <path d=\"M19 3H5c-1.1 0-2 .9-2 2v14c0 1.1.9 2 2 2h14c1.1 0 2-.9 2-2V5c0-1.1-.9-2-2-2zM9 17H7v-7h2v7zm4 0h-2V7h2v10zm4 0h-2v-4h2v4z\"/>\n",
              "    </g>\n",
              "</svg>\n",
              "  </button>\n",
              "\n",
              "<style>\n",
              "  .colab-df-quickchart {\n",
              "      --bg-color: #E8F0FE;\n",
              "      --fill-color: #1967D2;\n",
              "      --hover-bg-color: #E2EBFA;\n",
              "      --hover-fill-color: #174EA6;\n",
              "      --disabled-fill-color: #AAA;\n",
              "      --disabled-bg-color: #DDD;\n",
              "  }\n",
              "\n",
              "  [theme=dark] .colab-df-quickchart {\n",
              "      --bg-color: #3B4455;\n",
              "      --fill-color: #D2E3FC;\n",
              "      --hover-bg-color: #434B5C;\n",
              "      --hover-fill-color: #FFFFFF;\n",
              "      --disabled-bg-color: #3B4455;\n",
              "      --disabled-fill-color: #666;\n",
              "  }\n",
              "\n",
              "  .colab-df-quickchart {\n",
              "    background-color: var(--bg-color);\n",
              "    border: none;\n",
              "    border-radius: 50%;\n",
              "    cursor: pointer;\n",
              "    display: none;\n",
              "    fill: var(--fill-color);\n",
              "    height: 32px;\n",
              "    padding: 0;\n",
              "    width: 32px;\n",
              "  }\n",
              "\n",
              "  .colab-df-quickchart:hover {\n",
              "    background-color: var(--hover-bg-color);\n",
              "    box-shadow: 0 1px 2px rgba(60, 64, 67, 0.3), 0 1px 3px 1px rgba(60, 64, 67, 0.15);\n",
              "    fill: var(--button-hover-fill-color);\n",
              "  }\n",
              "\n",
              "  .colab-df-quickchart-complete:disabled,\n",
              "  .colab-df-quickchart-complete:disabled:hover {\n",
              "    background-color: var(--disabled-bg-color);\n",
              "    fill: var(--disabled-fill-color);\n",
              "    box-shadow: none;\n",
              "  }\n",
              "\n",
              "  .colab-df-spinner {\n",
              "    border: 2px solid var(--fill-color);\n",
              "    border-color: transparent;\n",
              "    border-bottom-color: var(--fill-color);\n",
              "    animation:\n",
              "      spin 1s steps(1) infinite;\n",
              "  }\n",
              "\n",
              "  @keyframes spin {\n",
              "    0% {\n",
              "      border-color: transparent;\n",
              "      border-bottom-color: var(--fill-color);\n",
              "      border-left-color: var(--fill-color);\n",
              "    }\n",
              "    20% {\n",
              "      border-color: transparent;\n",
              "      border-left-color: var(--fill-color);\n",
              "      border-top-color: var(--fill-color);\n",
              "    }\n",
              "    30% {\n",
              "      border-color: transparent;\n",
              "      border-left-color: var(--fill-color);\n",
              "      border-top-color: var(--fill-color);\n",
              "      border-right-color: var(--fill-color);\n",
              "    }\n",
              "    40% {\n",
              "      border-color: transparent;\n",
              "      border-right-color: var(--fill-color);\n",
              "      border-top-color: var(--fill-color);\n",
              "    }\n",
              "    60% {\n",
              "      border-color: transparent;\n",
              "      border-right-color: var(--fill-color);\n",
              "    }\n",
              "    80% {\n",
              "      border-color: transparent;\n",
              "      border-right-color: var(--fill-color);\n",
              "      border-bottom-color: var(--fill-color);\n",
              "    }\n",
              "    90% {\n",
              "      border-color: transparent;\n",
              "      border-bottom-color: var(--fill-color);\n",
              "    }\n",
              "  }\n",
              "</style>\n",
              "\n",
              "  <script>\n",
              "    async function quickchart(key) {\n",
              "      const quickchartButtonEl =\n",
              "        document.querySelector('#' + key + ' button');\n",
              "      quickchartButtonEl.disabled = true;  // To prevent multiple clicks.\n",
              "      quickchartButtonEl.classList.add('colab-df-spinner');\n",
              "      try {\n",
              "        const charts = await google.colab.kernel.invokeFunction(\n",
              "            'suggestCharts', [key], {});\n",
              "      } catch (error) {\n",
              "        console.error('Error during call to suggestCharts:', error);\n",
              "      }\n",
              "      quickchartButtonEl.classList.remove('colab-df-spinner');\n",
              "      quickchartButtonEl.classList.add('colab-df-quickchart-complete');\n",
              "    }\n",
              "    (() => {\n",
              "      let quickchartButtonEl =\n",
              "        document.querySelector('#df-880a5dcf-d4a8-4063-aa12-9487d566a03a button');\n",
              "      quickchartButtonEl.style.display =\n",
              "        google.colab.kernel.accessAllowed ? 'block' : 'none';\n",
              "    })();\n",
              "  </script>\n",
              "</div>\n",
              "\n",
              "    </div>\n",
              "  </div>\n"
            ],
            "application/vnd.google.colaboratory.intrinsic+json": {
              "type": "dataframe",
              "summary": "{\n  \"name\": \"### YOUR CODE HERE ###\",\n  \"rows\": 5,\n  \"fields\": [\n    {\n      \"column\": \"Unnamed: 0\",\n      \"properties\": {\n        \"dtype\": \"number\",\n        \"std\": 1,\n        \"min\": 0,\n        \"max\": 4,\n        \"num_unique_values\": 5,\n        \"samples\": [\n          1,\n          4,\n          2\n        ],\n        \"semantic_type\": \"\",\n        \"description\": \"\"\n      }\n    },\n    {\n      \"column\": \"date_local\",\n      \"properties\": {\n        \"dtype\": \"object\",\n        \"num_unique_values\": 1,\n        \"samples\": [\n          \"2018-01-01\"\n        ],\n        \"semantic_type\": \"\",\n        \"description\": \"\"\n      }\n    },\n    {\n      \"column\": \"state_name\",\n      \"properties\": {\n        \"dtype\": \"string\",\n        \"num_unique_values\": 5,\n        \"samples\": [\n          \"Ohio\"\n        ],\n        \"semantic_type\": \"\",\n        \"description\": \"\"\n      }\n    },\n    {\n      \"column\": \"county_name\",\n      \"properties\": {\n        \"dtype\": \"string\",\n        \"num_unique_values\": 5,\n        \"samples\": [\n          \"Belmont\"\n        ],\n        \"semantic_type\": \"\",\n        \"description\": \"\"\n      }\n    },\n    {\n      \"column\": \"city_name\",\n      \"properties\": {\n        \"dtype\": \"string\",\n        \"num_unique_values\": 5,\n        \"samples\": [\n          \"Shadyside\"\n        ],\n        \"semantic_type\": \"\",\n        \"description\": \"\"\n      }\n    },\n    {\n      \"column\": \"local_site_name\",\n      \"properties\": {\n        \"dtype\": \"string\",\n        \"num_unique_values\": 5,\n        \"samples\": [\n          \"Shadyside\"\n        ],\n        \"semantic_type\": \"\",\n        \"description\": \"\"\n      }\n    },\n    {\n      \"column\": \"parameter_name\",\n      \"properties\": {\n        \"dtype\": \"category\",\n        \"num_unique_values\": 1,\n        \"samples\": [\n          \"Carbon monoxide\"\n        ],\n        \"semantic_type\": \"\",\n        \"description\": \"\"\n      }\n    },\n    {\n      \"column\": \"units_of_measure\",\n      \"properties\": {\n        \"dtype\": \"category\",\n        \"num_unique_values\": 1,\n        \"samples\": [\n          \"Parts per million\"\n        ],\n        \"semantic_type\": \"\",\n        \"description\": \"\"\n      }\n    },\n    {\n      \"column\": \"arithmetic_mean\",\n      \"properties\": {\n        \"dtype\": \"number\",\n        \"std\": 0.13283520161199738,\n        \"min\": 0.111111,\n        \"max\": 0.473684,\n        \"num_unique_values\": 5,\n        \"samples\": [\n          0.263158\n        ],\n        \"semantic_type\": \"\",\n        \"description\": \"\"\n      }\n    },\n    {\n      \"column\": \"aqi\",\n      \"properties\": {\n        \"dtype\": \"number\",\n        \"std\": 2,\n        \"min\": 2,\n        \"max\": 7,\n        \"num_unique_values\": 4,\n        \"samples\": [\n          5\n        ],\n        \"semantic_type\": \"\",\n        \"description\": \"\"\n      }\n    }\n  ]\n}"
            }
          },
          "metadata": {},
          "execution_count": 5
        }
      ],
      "source": [
        "# Explore your dataframe `aqi` here:\n",
        "aqi.head()\n",
        "\n",
        "### YOUR CODE HERE ###"
      ],
      "id": "0444122d-6fba-4051-8b09-b15392aacebf"
    },
    {
      "cell_type": "code",
      "source": [
        "aqi.describe()\n"
      ],
      "metadata": {
        "colab": {
          "base_uri": "https://localhost:8080/",
          "height": 300
        },
        "id": "q4qdTtYgiRk1",
        "outputId": "ba98c23f-9c15-41c9-981e-9e8931932765"
      },
      "id": "q4qdTtYgiRk1",
      "execution_count": null,
      "outputs": [
        {
          "output_type": "execute_result",
          "data": {
            "text/plain": [
              "       Unnamed: 0  arithmetic_mean         aqi\n",
              "count  260.000000       260.000000  260.000000\n",
              "mean   129.500000         0.403169    6.757692\n",
              "std     75.199734         0.317902    7.061707\n",
              "min      0.000000         0.000000    0.000000\n",
              "25%     64.750000         0.200000    2.000000\n",
              "50%    129.500000         0.276315    5.000000\n",
              "75%    194.250000         0.516009    9.000000\n",
              "max    259.000000         1.921053   50.000000"
            ],
            "text/html": [
              "\n",
              "  <div id=\"df-085b6c78-99ec-4303-ba5e-179a600975c3\" class=\"colab-df-container\">\n",
              "    <div>\n",
              "<style scoped>\n",
              "    .dataframe tbody tr th:only-of-type {\n",
              "        vertical-align: middle;\n",
              "    }\n",
              "\n",
              "    .dataframe tbody tr th {\n",
              "        vertical-align: top;\n",
              "    }\n",
              "\n",
              "    .dataframe thead th {\n",
              "        text-align: right;\n",
              "    }\n",
              "</style>\n",
              "<table border=\"1\" class=\"dataframe\">\n",
              "  <thead>\n",
              "    <tr style=\"text-align: right;\">\n",
              "      <th></th>\n",
              "      <th>Unnamed: 0</th>\n",
              "      <th>arithmetic_mean</th>\n",
              "      <th>aqi</th>\n",
              "    </tr>\n",
              "  </thead>\n",
              "  <tbody>\n",
              "    <tr>\n",
              "      <th>count</th>\n",
              "      <td>260.000000</td>\n",
              "      <td>260.000000</td>\n",
              "      <td>260.000000</td>\n",
              "    </tr>\n",
              "    <tr>\n",
              "      <th>mean</th>\n",
              "      <td>129.500000</td>\n",
              "      <td>0.403169</td>\n",
              "      <td>6.757692</td>\n",
              "    </tr>\n",
              "    <tr>\n",
              "      <th>std</th>\n",
              "      <td>75.199734</td>\n",
              "      <td>0.317902</td>\n",
              "      <td>7.061707</td>\n",
              "    </tr>\n",
              "    <tr>\n",
              "      <th>min</th>\n",
              "      <td>0.000000</td>\n",
              "      <td>0.000000</td>\n",
              "      <td>0.000000</td>\n",
              "    </tr>\n",
              "    <tr>\n",
              "      <th>25%</th>\n",
              "      <td>64.750000</td>\n",
              "      <td>0.200000</td>\n",
              "      <td>2.000000</td>\n",
              "    </tr>\n",
              "    <tr>\n",
              "      <th>50%</th>\n",
              "      <td>129.500000</td>\n",
              "      <td>0.276315</td>\n",
              "      <td>5.000000</td>\n",
              "    </tr>\n",
              "    <tr>\n",
              "      <th>75%</th>\n",
              "      <td>194.250000</td>\n",
              "      <td>0.516009</td>\n",
              "      <td>9.000000</td>\n",
              "    </tr>\n",
              "    <tr>\n",
              "      <th>max</th>\n",
              "      <td>259.000000</td>\n",
              "      <td>1.921053</td>\n",
              "      <td>50.000000</td>\n",
              "    </tr>\n",
              "  </tbody>\n",
              "</table>\n",
              "</div>\n",
              "    <div class=\"colab-df-buttons\">\n",
              "\n",
              "  <div class=\"colab-df-container\">\n",
              "    <button class=\"colab-df-convert\" onclick=\"convertToInteractive('df-085b6c78-99ec-4303-ba5e-179a600975c3')\"\n",
              "            title=\"Convert this dataframe to an interactive table.\"\n",
              "            style=\"display:none;\">\n",
              "\n",
              "  <svg xmlns=\"http://www.w3.org/2000/svg\" height=\"24px\" viewBox=\"0 -960 960 960\">\n",
              "    <path d=\"M120-120v-720h720v720H120Zm60-500h600v-160H180v160Zm220 220h160v-160H400v160Zm0 220h160v-160H400v160ZM180-400h160v-160H180v160Zm440 0h160v-160H620v160ZM180-180h160v-160H180v160Zm440 0h160v-160H620v160Z\"/>\n",
              "  </svg>\n",
              "    </button>\n",
              "\n",
              "  <style>\n",
              "    .colab-df-container {\n",
              "      display:flex;\n",
              "      gap: 12px;\n",
              "    }\n",
              "\n",
              "    .colab-df-convert {\n",
              "      background-color: #E8F0FE;\n",
              "      border: none;\n",
              "      border-radius: 50%;\n",
              "      cursor: pointer;\n",
              "      display: none;\n",
              "      fill: #1967D2;\n",
              "      height: 32px;\n",
              "      padding: 0 0 0 0;\n",
              "      width: 32px;\n",
              "    }\n",
              "\n",
              "    .colab-df-convert:hover {\n",
              "      background-color: #E2EBFA;\n",
              "      box-shadow: 0px 1px 2px rgba(60, 64, 67, 0.3), 0px 1px 3px 1px rgba(60, 64, 67, 0.15);\n",
              "      fill: #174EA6;\n",
              "    }\n",
              "\n",
              "    .colab-df-buttons div {\n",
              "      margin-bottom: 4px;\n",
              "    }\n",
              "\n",
              "    [theme=dark] .colab-df-convert {\n",
              "      background-color: #3B4455;\n",
              "      fill: #D2E3FC;\n",
              "    }\n",
              "\n",
              "    [theme=dark] .colab-df-convert:hover {\n",
              "      background-color: #434B5C;\n",
              "      box-shadow: 0px 1px 3px 1px rgba(0, 0, 0, 0.15);\n",
              "      filter: drop-shadow(0px 1px 2px rgba(0, 0, 0, 0.3));\n",
              "      fill: #FFFFFF;\n",
              "    }\n",
              "  </style>\n",
              "\n",
              "    <script>\n",
              "      const buttonEl =\n",
              "        document.querySelector('#df-085b6c78-99ec-4303-ba5e-179a600975c3 button.colab-df-convert');\n",
              "      buttonEl.style.display =\n",
              "        google.colab.kernel.accessAllowed ? 'block' : 'none';\n",
              "\n",
              "      async function convertToInteractive(key) {\n",
              "        const element = document.querySelector('#df-085b6c78-99ec-4303-ba5e-179a600975c3');\n",
              "        const dataTable =\n",
              "          await google.colab.kernel.invokeFunction('convertToInteractive',\n",
              "                                                    [key], {});\n",
              "        if (!dataTable) return;\n",
              "\n",
              "        const docLinkHtml = 'Like what you see? Visit the ' +\n",
              "          '<a target=\"_blank\" href=https://colab.research.google.com/notebooks/data_table.ipynb>data table notebook</a>'\n",
              "          + ' to learn more about interactive tables.';\n",
              "        element.innerHTML = '';\n",
              "        dataTable['output_type'] = 'display_data';\n",
              "        await google.colab.output.renderOutput(dataTable, element);\n",
              "        const docLink = document.createElement('div');\n",
              "        docLink.innerHTML = docLinkHtml;\n",
              "        element.appendChild(docLink);\n",
              "      }\n",
              "    </script>\n",
              "  </div>\n",
              "\n",
              "\n",
              "<div id=\"df-18ae358b-6cdc-4b82-bcbb-a57c1cc7ac51\">\n",
              "  <button class=\"colab-df-quickchart\" onclick=\"quickchart('df-18ae358b-6cdc-4b82-bcbb-a57c1cc7ac51')\"\n",
              "            title=\"Suggest charts\"\n",
              "            style=\"display:none;\">\n",
              "\n",
              "<svg xmlns=\"http://www.w3.org/2000/svg\" height=\"24px\"viewBox=\"0 0 24 24\"\n",
              "     width=\"24px\">\n",
              "    <g>\n",
              "        <path d=\"M19 3H5c-1.1 0-2 .9-2 2v14c0 1.1.9 2 2 2h14c1.1 0 2-.9 2-2V5c0-1.1-.9-2-2-2zM9 17H7v-7h2v7zm4 0h-2V7h2v10zm4 0h-2v-4h2v4z\"/>\n",
              "    </g>\n",
              "</svg>\n",
              "  </button>\n",
              "\n",
              "<style>\n",
              "  .colab-df-quickchart {\n",
              "      --bg-color: #E8F0FE;\n",
              "      --fill-color: #1967D2;\n",
              "      --hover-bg-color: #E2EBFA;\n",
              "      --hover-fill-color: #174EA6;\n",
              "      --disabled-fill-color: #AAA;\n",
              "      --disabled-bg-color: #DDD;\n",
              "  }\n",
              "\n",
              "  [theme=dark] .colab-df-quickchart {\n",
              "      --bg-color: #3B4455;\n",
              "      --fill-color: #D2E3FC;\n",
              "      --hover-bg-color: #434B5C;\n",
              "      --hover-fill-color: #FFFFFF;\n",
              "      --disabled-bg-color: #3B4455;\n",
              "      --disabled-fill-color: #666;\n",
              "  }\n",
              "\n",
              "  .colab-df-quickchart {\n",
              "    background-color: var(--bg-color);\n",
              "    border: none;\n",
              "    border-radius: 50%;\n",
              "    cursor: pointer;\n",
              "    display: none;\n",
              "    fill: var(--fill-color);\n",
              "    height: 32px;\n",
              "    padding: 0;\n",
              "    width: 32px;\n",
              "  }\n",
              "\n",
              "  .colab-df-quickchart:hover {\n",
              "    background-color: var(--hover-bg-color);\n",
              "    box-shadow: 0 1px 2px rgba(60, 64, 67, 0.3), 0 1px 3px 1px rgba(60, 64, 67, 0.15);\n",
              "    fill: var(--button-hover-fill-color);\n",
              "  }\n",
              "\n",
              "  .colab-df-quickchart-complete:disabled,\n",
              "  .colab-df-quickchart-complete:disabled:hover {\n",
              "    background-color: var(--disabled-bg-color);\n",
              "    fill: var(--disabled-fill-color);\n",
              "    box-shadow: none;\n",
              "  }\n",
              "\n",
              "  .colab-df-spinner {\n",
              "    border: 2px solid var(--fill-color);\n",
              "    border-color: transparent;\n",
              "    border-bottom-color: var(--fill-color);\n",
              "    animation:\n",
              "      spin 1s steps(1) infinite;\n",
              "  }\n",
              "\n",
              "  @keyframes spin {\n",
              "    0% {\n",
              "      border-color: transparent;\n",
              "      border-bottom-color: var(--fill-color);\n",
              "      border-left-color: var(--fill-color);\n",
              "    }\n",
              "    20% {\n",
              "      border-color: transparent;\n",
              "      border-left-color: var(--fill-color);\n",
              "      border-top-color: var(--fill-color);\n",
              "    }\n",
              "    30% {\n",
              "      border-color: transparent;\n",
              "      border-left-color: var(--fill-color);\n",
              "      border-top-color: var(--fill-color);\n",
              "      border-right-color: var(--fill-color);\n",
              "    }\n",
              "    40% {\n",
              "      border-color: transparent;\n",
              "      border-right-color: var(--fill-color);\n",
              "      border-top-color: var(--fill-color);\n",
              "    }\n",
              "    60% {\n",
              "      border-color: transparent;\n",
              "      border-right-color: var(--fill-color);\n",
              "    }\n",
              "    80% {\n",
              "      border-color: transparent;\n",
              "      border-right-color: var(--fill-color);\n",
              "      border-bottom-color: var(--fill-color);\n",
              "    }\n",
              "    90% {\n",
              "      border-color: transparent;\n",
              "      border-bottom-color: var(--fill-color);\n",
              "    }\n",
              "  }\n",
              "</style>\n",
              "\n",
              "  <script>\n",
              "    async function quickchart(key) {\n",
              "      const quickchartButtonEl =\n",
              "        document.querySelector('#' + key + ' button');\n",
              "      quickchartButtonEl.disabled = true;  // To prevent multiple clicks.\n",
              "      quickchartButtonEl.classList.add('colab-df-spinner');\n",
              "      try {\n",
              "        const charts = await google.colab.kernel.invokeFunction(\n",
              "            'suggestCharts', [key], {});\n",
              "      } catch (error) {\n",
              "        console.error('Error during call to suggestCharts:', error);\n",
              "      }\n",
              "      quickchartButtonEl.classList.remove('colab-df-spinner');\n",
              "      quickchartButtonEl.classList.add('colab-df-quickchart-complete');\n",
              "    }\n",
              "    (() => {\n",
              "      let quickchartButtonEl =\n",
              "        document.querySelector('#df-18ae358b-6cdc-4b82-bcbb-a57c1cc7ac51 button');\n",
              "      quickchartButtonEl.style.display =\n",
              "        google.colab.kernel.accessAllowed ? 'block' : 'none';\n",
              "    })();\n",
              "  </script>\n",
              "</div>\n",
              "\n",
              "    </div>\n",
              "  </div>\n"
            ],
            "application/vnd.google.colaboratory.intrinsic+json": {
              "type": "dataframe",
              "summary": "{\n  \"name\": \"aqi\",\n  \"rows\": 8,\n  \"fields\": [\n    {\n      \"column\": \"Unnamed: 0\",\n      \"properties\": {\n        \"dtype\": \"number\",\n        \"std\": 93.48689285485808,\n        \"min\": 0.0,\n        \"max\": 260.0,\n        \"num_unique_values\": 7,\n        \"samples\": [\n          260.0,\n          129.5,\n          194.25\n        ],\n        \"semantic_type\": \"\",\n        \"description\": \"\"\n      }\n    },\n    {\n      \"column\": \"arithmetic_mean\",\n      \"properties\": {\n        \"dtype\": \"number\",\n        \"std\": 91.74222148046502,\n        \"min\": 0.0,\n        \"max\": 260.0,\n        \"num_unique_values\": 8,\n        \"samples\": [\n          0.40316890769230773,\n          0.2763155,\n          260.0\n        ],\n        \"semantic_type\": \"\",\n        \"description\": \"\"\n      }\n    },\n    {\n      \"column\": \"aqi\",\n      \"properties\": {\n        \"dtype\": \"number\",\n        \"std\": 89.33954580747285,\n        \"min\": 0.0,\n        \"max\": 260.0,\n        \"num_unique_values\": 8,\n        \"samples\": [\n          6.757692307692308,\n          5.0,\n          260.0\n        ],\n        \"semantic_type\": \"\",\n        \"description\": \"\"\n      }\n    }\n  ]\n}"
            }
          },
          "metadata": {},
          "execution_count": 9
        }
      ]
    },
    {
      "cell_type": "code",
      "source": [
        "aqi.value_counts()\n"
      ],
      "metadata": {
        "colab": {
          "base_uri": "https://localhost:8080/",
          "height": 788
        },
        "id": "BWuC9VYJib5V",
        "outputId": "f8df06f0-c8ae-4d0d-fe58-909ad2b302a8"
      },
      "id": "BWuC9VYJib5V",
      "execution_count": null,
      "outputs": [
        {
          "output_type": "execute_result",
          "data": {
            "text/plain": [
              "Unnamed: 0  date_local  state_name      county_name  city_name                                  local_site_name                 parameter_name   units_of_measure   arithmetic_mean  aqi\n",
              "0           2018-01-01  Arizona         Maricopa     Buckeye                                    BUCKEYE                         Carbon monoxide  Parts per million  0.473684         7      1\n",
              "131         2018-01-01  Arizona         Maricopa     Phoenix                                    CENTRAL PHOENIX                 Carbon monoxide  Parts per million  1.110526         27     1\n",
              "165         2018-01-01  Utah            Weber        Ogden                                      Ogden                           Carbon monoxide  Parts per million  0.326316         7      1\n",
              "166         2018-01-01  New Jersey      Hudson       Jersey City                                Jersey City                     Carbon monoxide  Parts per million  0.133333         3      1\n",
              "167         2018-01-01  New York        New York     New York                                   CCNY                            Carbon monoxide  Parts per million  0.200000         2      1\n",
              "                                                                                                                                                                                           ..\n",
              "93          2018-01-01  Oklahoma        Oklahoma     Oklahoma City                              Near Road                       Carbon monoxide  Parts per million  0.284211         5      1\n",
              "94          2018-01-01  Florida         Pinellas     Saint Petersburg                           Sawgrass Lake Park (Near-Road)  Carbon monoxide  Parts per million  0.315789         9      1\n",
              "95          2018-01-01  Colorado        Mesa         Grand Junction                             GRAND JUNCTION - PITKIN         Carbon monoxide  Parts per million  0.305263         6      1\n",
              "96          2018-01-01  Minnesota       Dakota       Inver Grove Heights (RR name Inver Grove)  Flint Hills Refinery 423        Carbon monoxide  Parts per million  0.200000         2      1\n",
              "259         2018-01-01  North Carolina  Wake         Not in a city                              Triple Oak                      Carbon monoxide  Parts per million  0.188889         2      1\n",
              "Name: count, Length: 257, dtype: int64"
            ],
            "text/html": [
              "<div>\n",
              "<style scoped>\n",
              "    .dataframe tbody tr th:only-of-type {\n",
              "        vertical-align: middle;\n",
              "    }\n",
              "\n",
              "    .dataframe tbody tr th {\n",
              "        vertical-align: top;\n",
              "    }\n",
              "\n",
              "    .dataframe thead th {\n",
              "        text-align: right;\n",
              "    }\n",
              "</style>\n",
              "<table border=\"1\" class=\"dataframe\">\n",
              "  <thead>\n",
              "    <tr style=\"text-align: right;\">\n",
              "      <th></th>\n",
              "      <th></th>\n",
              "      <th></th>\n",
              "      <th></th>\n",
              "      <th></th>\n",
              "      <th></th>\n",
              "      <th></th>\n",
              "      <th></th>\n",
              "      <th></th>\n",
              "      <th></th>\n",
              "      <th>count</th>\n",
              "    </tr>\n",
              "    <tr>\n",
              "      <th>Unnamed: 0</th>\n",
              "      <th>date_local</th>\n",
              "      <th>state_name</th>\n",
              "      <th>county_name</th>\n",
              "      <th>city_name</th>\n",
              "      <th>local_site_name</th>\n",
              "      <th>parameter_name</th>\n",
              "      <th>units_of_measure</th>\n",
              "      <th>arithmetic_mean</th>\n",
              "      <th>aqi</th>\n",
              "      <th></th>\n",
              "    </tr>\n",
              "  </thead>\n",
              "  <tbody>\n",
              "    <tr>\n",
              "      <th>0</th>\n",
              "      <th>2018-01-01</th>\n",
              "      <th>Arizona</th>\n",
              "      <th>Maricopa</th>\n",
              "      <th>Buckeye</th>\n",
              "      <th>BUCKEYE</th>\n",
              "      <th>Carbon monoxide</th>\n",
              "      <th>Parts per million</th>\n",
              "      <th>0.473684</th>\n",
              "      <th>7</th>\n",
              "      <td>1</td>\n",
              "    </tr>\n",
              "    <tr>\n",
              "      <th>131</th>\n",
              "      <th>2018-01-01</th>\n",
              "      <th>Arizona</th>\n",
              "      <th>Maricopa</th>\n",
              "      <th>Phoenix</th>\n",
              "      <th>CENTRAL PHOENIX</th>\n",
              "      <th>Carbon monoxide</th>\n",
              "      <th>Parts per million</th>\n",
              "      <th>1.110526</th>\n",
              "      <th>27</th>\n",
              "      <td>1</td>\n",
              "    </tr>\n",
              "    <tr>\n",
              "      <th>165</th>\n",
              "      <th>2018-01-01</th>\n",
              "      <th>Utah</th>\n",
              "      <th>Weber</th>\n",
              "      <th>Ogden</th>\n",
              "      <th>Ogden</th>\n",
              "      <th>Carbon monoxide</th>\n",
              "      <th>Parts per million</th>\n",
              "      <th>0.326316</th>\n",
              "      <th>7</th>\n",
              "      <td>1</td>\n",
              "    </tr>\n",
              "    <tr>\n",
              "      <th>166</th>\n",
              "      <th>2018-01-01</th>\n",
              "      <th>New Jersey</th>\n",
              "      <th>Hudson</th>\n",
              "      <th>Jersey City</th>\n",
              "      <th>Jersey City</th>\n",
              "      <th>Carbon monoxide</th>\n",
              "      <th>Parts per million</th>\n",
              "      <th>0.133333</th>\n",
              "      <th>3</th>\n",
              "      <td>1</td>\n",
              "    </tr>\n",
              "    <tr>\n",
              "      <th>167</th>\n",
              "      <th>2018-01-01</th>\n",
              "      <th>New York</th>\n",
              "      <th>New York</th>\n",
              "      <th>New York</th>\n",
              "      <th>CCNY</th>\n",
              "      <th>Carbon monoxide</th>\n",
              "      <th>Parts per million</th>\n",
              "      <th>0.200000</th>\n",
              "      <th>2</th>\n",
              "      <td>1</td>\n",
              "    </tr>\n",
              "    <tr>\n",
              "      <th>...</th>\n",
              "      <th>...</th>\n",
              "      <th>...</th>\n",
              "      <th>...</th>\n",
              "      <th>...</th>\n",
              "      <th>...</th>\n",
              "      <th>...</th>\n",
              "      <th>...</th>\n",
              "      <th>...</th>\n",
              "      <th>...</th>\n",
              "      <td>...</td>\n",
              "    </tr>\n",
              "    <tr>\n",
              "      <th>93</th>\n",
              "      <th>2018-01-01</th>\n",
              "      <th>Oklahoma</th>\n",
              "      <th>Oklahoma</th>\n",
              "      <th>Oklahoma City</th>\n",
              "      <th>Near Road</th>\n",
              "      <th>Carbon monoxide</th>\n",
              "      <th>Parts per million</th>\n",
              "      <th>0.284211</th>\n",
              "      <th>5</th>\n",
              "      <td>1</td>\n",
              "    </tr>\n",
              "    <tr>\n",
              "      <th>94</th>\n",
              "      <th>2018-01-01</th>\n",
              "      <th>Florida</th>\n",
              "      <th>Pinellas</th>\n",
              "      <th>Saint Petersburg</th>\n",
              "      <th>Sawgrass Lake Park (Near-Road)</th>\n",
              "      <th>Carbon monoxide</th>\n",
              "      <th>Parts per million</th>\n",
              "      <th>0.315789</th>\n",
              "      <th>9</th>\n",
              "      <td>1</td>\n",
              "    </tr>\n",
              "    <tr>\n",
              "      <th>95</th>\n",
              "      <th>2018-01-01</th>\n",
              "      <th>Colorado</th>\n",
              "      <th>Mesa</th>\n",
              "      <th>Grand Junction</th>\n",
              "      <th>GRAND JUNCTION - PITKIN</th>\n",
              "      <th>Carbon monoxide</th>\n",
              "      <th>Parts per million</th>\n",
              "      <th>0.305263</th>\n",
              "      <th>6</th>\n",
              "      <td>1</td>\n",
              "    </tr>\n",
              "    <tr>\n",
              "      <th>96</th>\n",
              "      <th>2018-01-01</th>\n",
              "      <th>Minnesota</th>\n",
              "      <th>Dakota</th>\n",
              "      <th>Inver Grove Heights (RR name Inver Grove)</th>\n",
              "      <th>Flint Hills Refinery 423</th>\n",
              "      <th>Carbon monoxide</th>\n",
              "      <th>Parts per million</th>\n",
              "      <th>0.200000</th>\n",
              "      <th>2</th>\n",
              "      <td>1</td>\n",
              "    </tr>\n",
              "    <tr>\n",
              "      <th>259</th>\n",
              "      <th>2018-01-01</th>\n",
              "      <th>North Carolina</th>\n",
              "      <th>Wake</th>\n",
              "      <th>Not in a city</th>\n",
              "      <th>Triple Oak</th>\n",
              "      <th>Carbon monoxide</th>\n",
              "      <th>Parts per million</th>\n",
              "      <th>0.188889</th>\n",
              "      <th>2</th>\n",
              "      <td>1</td>\n",
              "    </tr>\n",
              "  </tbody>\n",
              "</table>\n",
              "<p>257 rows × 1 columns</p>\n",
              "</div><br><label><b>dtype:</b> int64</label>"
            ]
          },
          "metadata": {},
          "execution_count": 10
        }
      ]
    },
    {
      "cell_type": "code",
      "source": [
        "aqi['aqi'].value_counts()\n",
        "aqi.shape"
      ],
      "metadata": {
        "colab": {
          "base_uri": "https://localhost:8080/"
        },
        "id": "0k_RHlLQihYD",
        "outputId": "e212a86e-9aba-4e08-ff0e-f56192f05784"
      },
      "id": "0k_RHlLQihYD",
      "execution_count": null,
      "outputs": [
        {
          "output_type": "execute_result",
          "data": {
            "text/plain": [
              "(260, 10)"
            ]
          },
          "metadata": {},
          "execution_count": 11
        }
      ]
    },
    {
      "cell_type": "code",
      "source": [
        "# more descriptive statistics\n",
        "aqi.mode().iloc[0]"
      ],
      "metadata": {
        "colab": {
          "base_uri": "https://localhost:8080/",
          "height": 398
        },
        "id": "wAubUKyHjjp8",
        "outputId": "67094375-9d74-42ec-feed-91450a97efc9"
      },
      "id": "wAubUKyHjjp8",
      "execution_count": null,
      "outputs": [
        {
          "output_type": "execute_result",
          "data": {
            "text/plain": [
              "Unnamed: 0                          0\n",
              "date_local                 2018-01-01\n",
              "state_name                 California\n",
              "county_name               Los Angeles\n",
              "city_name               Not in a city\n",
              "local_site_name               Kapolei\n",
              "parameter_name        Carbon monoxide\n",
              "units_of_measure    Parts per million\n",
              "arithmetic_mean                   0.2\n",
              "aqi                               2.0\n",
              "Name: 0, dtype: object"
            ],
            "text/html": [
              "<div>\n",
              "<style scoped>\n",
              "    .dataframe tbody tr th:only-of-type {\n",
              "        vertical-align: middle;\n",
              "    }\n",
              "\n",
              "    .dataframe tbody tr th {\n",
              "        vertical-align: top;\n",
              "    }\n",
              "\n",
              "    .dataframe thead th {\n",
              "        text-align: right;\n",
              "    }\n",
              "</style>\n",
              "<table border=\"1\" class=\"dataframe\">\n",
              "  <thead>\n",
              "    <tr style=\"text-align: right;\">\n",
              "      <th></th>\n",
              "      <th>0</th>\n",
              "    </tr>\n",
              "  </thead>\n",
              "  <tbody>\n",
              "    <tr>\n",
              "      <th>Unnamed: 0</th>\n",
              "      <td>0</td>\n",
              "    </tr>\n",
              "    <tr>\n",
              "      <th>date_local</th>\n",
              "      <td>2018-01-01</td>\n",
              "    </tr>\n",
              "    <tr>\n",
              "      <th>state_name</th>\n",
              "      <td>California</td>\n",
              "    </tr>\n",
              "    <tr>\n",
              "      <th>county_name</th>\n",
              "      <td>Los Angeles</td>\n",
              "    </tr>\n",
              "    <tr>\n",
              "      <th>city_name</th>\n",
              "      <td>Not in a city</td>\n",
              "    </tr>\n",
              "    <tr>\n",
              "      <th>local_site_name</th>\n",
              "      <td>Kapolei</td>\n",
              "    </tr>\n",
              "    <tr>\n",
              "      <th>parameter_name</th>\n",
              "      <td>Carbon monoxide</td>\n",
              "    </tr>\n",
              "    <tr>\n",
              "      <th>units_of_measure</th>\n",
              "      <td>Parts per million</td>\n",
              "    </tr>\n",
              "    <tr>\n",
              "      <th>arithmetic_mean</th>\n",
              "      <td>0.2</td>\n",
              "    </tr>\n",
              "    <tr>\n",
              "      <th>aqi</th>\n",
              "      <td>2.0</td>\n",
              "    </tr>\n",
              "  </tbody>\n",
              "</table>\n",
              "</div><br><label><b>dtype:</b> object</label>"
            ]
          },
          "metadata": {},
          "execution_count": 12
        }
      ]
    },
    {
      "cell_type": "code",
      "source": [
        "range = aqi['aqi'].max() - aqi['aqi'].min()\n",
        "print(range)"
      ],
      "metadata": {
        "colab": {
          "base_uri": "https://localhost:8080/"
        },
        "id": "W3B7q3xAkHEA",
        "outputId": "2a7ec0f2-7909-493d-9e57-f8e517e7c32e"
      },
      "id": "W3B7q3xAkHEA",
      "execution_count": null,
      "outputs": [
        {
          "output_type": "stream",
          "name": "stdout",
          "text": [
            "50\n"
          ]
        }
      ]
    },
    {
      "cell_type": "code",
      "source": [
        "iqr = aqi['aqi'].quantile(0.75) - aqi['aqi'].quantile(0.25)\n",
        "print(iqr)"
      ],
      "metadata": {
        "colab": {
          "base_uri": "https://localhost:8080/"
        },
        "id": "HH0ZJOdZk40F",
        "outputId": "3ed8c749-cd7a-43da-f93a-f06c5d594aec"
      },
      "id": "HH0ZJOdZk40F",
      "execution_count": null,
      "outputs": [
        {
          "output_type": "stream",
          "name": "stdout",
          "text": [
            "7.0\n"
          ]
        }
      ]
    },
    {
      "cell_type": "code",
      "source": [
        "skewness = aqi['aqi'].skew()\n",
        "skewness"
      ],
      "metadata": {
        "colab": {
          "base_uri": "https://localhost:8080/"
        },
        "id": "7_wnBfgElICJ",
        "outputId": "bcf5213f-5d7a-4694-e32e-80f86562f344"
      },
      "id": "7_wnBfgElICJ",
      "execution_count": null,
      "outputs": [
        {
          "output_type": "execute_result",
          "data": {
            "text/plain": [
              "2.686105789368923"
            ]
          },
          "metadata": {},
          "execution_count": 23
        }
      ]
    },
    {
      "cell_type": "code",
      "source": [
        "kurtosis = kurtosis = aqi['aqi'].kurtosis()\n",
        "kurtosis"
      ],
      "metadata": {
        "colab": {
          "base_uri": "https://localhost:8080/"
        },
        "id": "uvnFjYNTlP0Y",
        "outputId": "717ebaf7-a930-43a1-af0f-914b9e1da9ec"
      },
      "id": "uvnFjYNTlP0Y",
      "execution_count": null,
      "outputs": [
        {
          "output_type": "execute_result",
          "data": {
            "text/plain": [
              "9.755537864959088"
            ]
          },
          "metadata": {},
          "execution_count": 25
        }
      ]
    },
    {
      "cell_type": "markdown",
      "metadata": {
        "id": "797aa5f9-b5e6-4c8d-95ab-f0604d27d9f8"
      },
      "source": [
        "<details>\n",
        "  <summary><h4><strong>HINT 1</strong></h4></summary>\n",
        "\n",
        "  Consider referring to the material on descriptive statisics.\n",
        "</details>"
      ],
      "id": "797aa5f9-b5e6-4c8d-95ab-f0604d27d9f8"
    },
    {
      "cell_type": "markdown",
      "metadata": {
        "id": "753d0f10-d5ca-4da4-828a-3162e8ebccf8"
      },
      "source": [
        "<details>\n",
        "  <summary><h4><strong>HINT 2</strong></h4></summary>\n",
        "\n",
        "  Consider using `pandas` or `numpy` to explore the `aqi` dataframe.\n",
        "</details>"
      ],
      "id": "753d0f10-d5ca-4da4-828a-3162e8ebccf8"
    },
    {
      "cell_type": "markdown",
      "metadata": {
        "id": "5ccfa752-01c9-4a6d-a1d3-41b30e9bac09"
      },
      "source": [
        "<details>\n",
        "  <summary><h4><strong>HINT 3</strong></h4></summary>\n",
        "\n",
        "Any of the following functions may be useful:\n",
        "- `pandas`: `describe()`,`value_counts()`,`shape()`, `head()`\n",
        "- `numpy`: `unique()`,`mean()`\n",
        "    \n",
        "</details>"
      ],
      "id": "5ccfa752-01c9-4a6d-a1d3-41b30e9bac09"
    },
    {
      "cell_type": "markdown",
      "metadata": {
        "id": "4a29c065-73b4-409f-a57c-b49c740f3d1d"
      },
      "source": [
        "#### **Question 1: From the preceding data exploration, what do you recognize?**"
      ],
      "id": "4a29c065-73b4-409f-a57c-b49c740f3d1d"
    },
    {
      "cell_type": "markdown",
      "metadata": {
        "id": "yxdjmP4WJ4wH"
      },
      "source": [
        "Median (5.0): The AQI value at the midpoint of the dataset is 5. This indicates that half of the AQI values are below 5 and half are above.\n",
        "Mode (2): The most frequently occurring AQI value is 2, suggesting that this value appears more often than any other in the dataset.\n",
        "Range (50): The difference between the maximum (50) and minimum (0) AQI values is 50, indicating a wide spread of AQI values in the dataset.\n",
        "Interquartile Range (IQR) (7): The IQR is 7, which means the middle 50% of the AQI values range from the 25th percentile (2) to the 75th percentile (9). This indicates moderate variability within the central part of the dataset.\n",
        "Skewness (2.77): The positive skewness indicates that the AQI distribution is right-skewed, meaning there are more low AQI values and a long tail of higher AQI values.\n",
        "Kurtosis (9.92): The high kurtosis value indicates a distribution with heavy tails and a sharp peak, suggesting the presence of outliers or extreme AQI values."
      ],
      "id": "yxdjmP4WJ4wH"
    },
    {
      "cell_type": "markdown",
      "metadata": {
        "id": "TCEJUvQ7-519"
      },
      "source": [],
      "id": "TCEJUvQ7-519"
    },
    {
      "cell_type": "markdown",
      "metadata": {
        "id": "fd48d0f0-3f90-455e-87a1-0da43fcac202"
      },
      "source": [
        "## Step 3. Statistical Tests\n",
        "\n",
        "Before you proceed, recall the following steps for conducting hypothesis testing:\n",
        "\n",
        "1. Formulate the null hypothesis and the alternative hypothesis.<br>\n",
        "2. Set the significance level.<br>\n",
        "3. Determine the appropriate test procedure.<br>\n",
        "4. Compute the p-value.<br>\n",
        "5. Draw your conclusion."
      ],
      "id": "fd48d0f0-3f90-455e-87a1-0da43fcac202"
    },
    {
      "cell_type": "markdown",
      "metadata": {
        "id": "d572fbab-b82e-4898-96d5-93a8f20c3094"
      },
      "source": [
        "### Hypothesis 1: ROA is considering a metropolitan-focused approach. Within California, they want to know if the mean AQI in Los Angeles County is statistically different from the rest of California.\n",
        "\n",
        "Before proceeding with your analysis, it will be helpful to subset the data for your comparison."
      ],
      "id": "d572fbab-b82e-4898-96d5-93a8f20c3094"
    },
    {
      "cell_type": "code",
      "execution_count": 6,
      "metadata": {
        "id": "c8e42529-af00-4699-96b4-bd0f8989014a",
        "colab": {
          "base_uri": "https://localhost:8080/"
        },
        "outputId": "1270d286-151c-40ee-b939-4d221c952bda"
      },
      "outputs": [
        {
          "output_type": "stream",
          "name": "stdout",
          "text": [
            "     Unnamed: 0  date_local  state_name  county_name         city_name  \\\n",
            "33           33  2018-01-01  California  Los Angeles         Lancaster   \n",
            "42           42  2018-01-01  California  Los Angeles     Santa Clarita   \n",
            "61           61  2018-01-01  California  Los Angeles          Pasadena   \n",
            "76           76  2018-01-01  California  Los Angeles       Los Angeles   \n",
            "109         109  2018-01-01  California  Los Angeles       Los Angeles   \n",
            "110         110  2018-01-01  California  Los Angeles       Los Angeles   \n",
            "119         119  2018-01-01  California  Los Angeles            Reseda   \n",
            "132         132  2018-01-01  California  Los Angeles           Compton   \n",
            "163         163  2018-01-01  California  Los Angeles             Azusa   \n",
            "172         172  2018-01-01  California  Los Angeles       Pico Rivera   \n",
            "177         177  2018-01-01  California  Los Angeles        Long Beach   \n",
            "189         189  2018-01-01  California  Los Angeles            Pomona   \n",
            "233         233  2018-01-01  California  Los Angeles          Glendora   \n",
            "250         250  2018-01-01  California  Los Angeles  West Los Angeles   \n",
            "\n",
            "                   local_site_name   parameter_name   units_of_measure  \\\n",
            "33       Lancaster-Division Street  Carbon monoxide  Parts per million   \n",
            "42                   Santa Clarita  Carbon monoxide  Parts per million   \n",
            "61                        Pasadena  Carbon monoxide  Parts per million   \n",
            "76                    LAX Hastings  Carbon monoxide  Parts per million   \n",
            "109  Los Angeles-North Main Street  Carbon monoxide  Parts per million   \n",
            "110  Los Angeles-North Main Street  Carbon monoxide  Parts per million   \n",
            "119                         Reseda  Carbon monoxide  Parts per million   \n",
            "132                        Compton  Carbon monoxide  Parts per million   \n",
            "163                          Azusa  Carbon monoxide  Parts per million   \n",
            "172                 Pico Rivera #2  Carbon monoxide  Parts per million   \n",
            "177            Long Beach (Hudson)  Carbon monoxide  Parts per million   \n",
            "189                         Pomona  Carbon monoxide  Parts per million   \n",
            "233                       Glendora  Carbon monoxide  Parts per million   \n",
            "250               West Los Angeles  Carbon monoxide  Parts per million   \n",
            "\n",
            "     arithmetic_mean  aqi  \n",
            "33          0.394737    7  \n",
            "42          0.394737    7  \n",
            "61          0.789474   16  \n",
            "76          0.863158   17  \n",
            "109         0.994737   17  \n",
            "110         0.900000   16  \n",
            "119         1.015789   19  \n",
            "132         1.742105   40  \n",
            "163         0.673684   10  \n",
            "172         1.047368   18  \n",
            "177         1.200000   24  \n",
            "189         1.000000   20  \n",
            "233         0.389474    6  \n",
            "250         0.655556   11  \n"
          ]
        }
      ],
      "source": [
        "# Create dataframes for each sample being compared in your test\n",
        "la_county = aqi[aqi['county_name'] == 'Los Angeles']\n",
        "print(la_county)\n",
        "### YOUR CODE HERE ###"
      ],
      "id": "c8e42529-af00-4699-96b4-bd0f8989014a"
    },
    {
      "cell_type": "code",
      "source": [
        "rest_of_ca = aqi[(aqi['state_name'] == 'California') & (aqi['county_name'] != 'Los Angeles')]\n",
        "\n",
        "print(rest_of_ca)"
      ],
      "metadata": {
        "colab": {
          "base_uri": "https://localhost:8080/"
        },
        "id": "B3bmVwNtq0xa",
        "outputId": "4bb9abe1-5855-434f-8690-02ac016ba702"
      },
      "id": "B3bmVwNtq0xa",
      "execution_count": 7,
      "outputs": [
        {
          "output_type": "stream",
          "name": "stdout",
          "text": [
            "     Unnamed: 0  date_local  state_name     county_name  \\\n",
            "16           16  2018-01-01  California  San Bernardino   \n",
            "18           18  2018-01-01  California      Sacramento   \n",
            "26           26  2018-01-01  California          Orange   \n",
            "27           27  2018-01-01  California         Alameda   \n",
            "34           34  2018-01-01  California          Fresno   \n",
            "40           40  2018-01-01  California       San Mateo   \n",
            "43           43  2018-01-01  California    Contra Costa   \n",
            "45           45  2018-01-01  California           Butte   \n",
            "46           46  2018-01-01  California       Riverside   \n",
            "58           58  2018-01-01  California            Kern   \n",
            "62           62  2018-01-01  California         Alameda   \n",
            "63           63  2018-01-01  California      Sacramento   \n",
            "75           75  2018-01-01  California     San Joaquin   \n",
            "77           77  2018-01-01  California       Riverside   \n",
            "81           81  2018-01-01  California   Santa Barbara   \n",
            "86           86  2018-01-01  California     Santa Clara   \n",
            "87           87  2018-01-01  California        Humboldt   \n",
            "99           99  2018-01-01  California   Santa Barbara   \n",
            "106         106  2018-01-01  California        Imperial   \n",
            "117         117  2018-01-01  California       San Diego   \n",
            "127         127  2018-01-01  California           Marin   \n",
            "130         130  2018-01-01  California  San Bernardino   \n",
            "134         134  2018-01-01  California         Alameda   \n",
            "139         139  2018-01-01  California  San Bernardino   \n",
            "141         141  2018-01-01  California   San Francisco   \n",
            "147         147  2018-01-01  California     Santa Clara   \n",
            "148         148  2018-01-01  California    Contra Costa   \n",
            "151         151  2018-01-01  California          Orange   \n",
            "156         156  2018-01-01  California          Fresno   \n",
            "158         158  2018-01-01  California      Stanislaus   \n",
            "161         161  2018-01-01  California            Kern   \n",
            "170         170  2018-01-01  California       San Diego   \n",
            "171         171  2018-01-01  California            Inyo   \n",
            "176         176  2018-01-01  California    Contra Costa   \n",
            "190         190  2018-01-01  California          Madera   \n",
            "194         194  2018-01-01  California  San Bernardino   \n",
            "198         198  2018-01-01  California       Riverside   \n",
            "199         199  2018-01-01  California       Riverside   \n",
            "200         200  2018-01-01  California       Riverside   \n",
            "203         203  2018-01-01  California   Santa Barbara   \n",
            "206         206  2018-01-01  California  San Bernardino   \n",
            "211         211  2018-01-01  California          Fresno   \n",
            "213         213  2018-01-01  California   Santa Barbara   \n",
            "218         218  2018-01-01  California          Sonoma   \n",
            "220         220  2018-01-01  California            Napa   \n",
            "222         222  2018-01-01  California  San Bernardino   \n",
            "224         224  2018-01-01  California      Sacramento   \n",
            "227         227  2018-01-01  California   Santa Barbara   \n",
            "230         230  2018-01-01  California        Monterey   \n",
            "236         236  2018-01-01  California          Solano   \n",
            "239         239  2018-01-01  California         Alameda   \n",
            "249         249  2018-01-01  California          Orange   \n",
            "\n",
            "                     city_name  \\\n",
            "16                     Ontario   \n",
            "18                Arden-Arcade   \n",
            "26                    La Habra   \n",
            "27               Not in a city   \n",
            "34                      Fresno   \n",
            "40                Redwood City   \n",
            "43                     Concord   \n",
            "45                       Chico   \n",
            "46                   Mira Loma   \n",
            "58                       Arvin   \n",
            "62                     Oakland   \n",
            "63               Not in a city   \n",
            "75                    Stockton   \n",
            "77               Lake Elsinore   \n",
            "81   Vandenberg Air Force Base   \n",
            "86                    San Jose   \n",
            "87                      Eureka   \n",
            "99                      Goleta   \n",
            "106                   Calexico   \n",
            "117                   El Cajon   \n",
            "127                 San Rafael   \n",
            "130                    Fontana   \n",
            "134                    Oakland   \n",
            "139                Victorville   \n",
            "141              San Francisco   \n",
            "147                   San Jose   \n",
            "148                  San Pablo   \n",
            "151                    Anaheim   \n",
            "156                     Clovis   \n",
            "158                    Modesto   \n",
            "161                Bakersfield   \n",
            "170                  San Diego   \n",
            "171              Not in a city   \n",
            "176              Bethel Island   \n",
            "190                     Madera   \n",
            "194                     Upland   \n",
            "198               Palm Springs   \n",
            "199                   Rubidoux   \n",
            "200                   Rubidoux   \n",
            "203                Santa Maria   \n",
            "206             San Bernardino   \n",
            "211              Not in a city   \n",
            "213                    Capitan   \n",
            "218                 Sebastopol   \n",
            "220                       Napa   \n",
            "222                    Barstow   \n",
            "224                 Sacramento   \n",
            "227                     Lompoc   \n",
            "230                    Salinas   \n",
            "236                    Vallejo   \n",
            "239                    Oakland   \n",
            "249                    Anaheim   \n",
            "\n",
            "                                       local_site_name   parameter_name  \\\n",
            "16                        Ontario Near Road (Etiwanda)  Carbon monoxide   \n",
            "18                           Sacramento-Del Paso Manor  Carbon monoxide   \n",
            "26                                            La Habra  Carbon monoxide   \n",
            "27                              Berkeley- Aquatic Park  Carbon monoxide   \n",
            "34                                    Fresno - Garland  Carbon monoxide   \n",
            "40                                        Redwood City  Carbon monoxide   \n",
            "43                                             Concord  Carbon monoxide   \n",
            "45                                   Chico-East Avenue  Carbon monoxide   \n",
            "46                               Mira Loma (Van Buren)  Carbon monoxide   \n",
            "58                                    Arvin-Di Giorgio  Carbon monoxide   \n",
            "62                                       Laney College  Carbon monoxide   \n",
            "63                           North Highlands-Blackfoot  Carbon monoxide   \n",
            "75                                   Stockton-Hazelton  Carbon monoxide   \n",
            "77                                       Lake Elsinore  Carbon monoxide   \n",
            "81                                     VAFB South Base  Carbon monoxide   \n",
            "86                                  San Jose - Jackson  Carbon monoxide   \n",
            "87                                              Jacobs  Carbon monoxide   \n",
            "99                                              Goleta  Carbon monoxide   \n",
            "106                              Calexico-Ethel Street  Carbon monoxide   \n",
            "117             El Cajon - Lexington Elementary School  Carbon monoxide   \n",
            "127                                         San Rafael  Carbon monoxide   \n",
            "130                                            Fontana  Carbon monoxide   \n",
            "134                                            Oakland  Carbon monoxide   \n",
            "139                            Victorville-Park Avenue  Carbon monoxide   \n",
            "141                                      San Francisco  Carbon monoxide   \n",
            "147                             San Jose - Knox Avenue  Carbon monoxide   \n",
            "148                                          San Pablo  Carbon monoxide   \n",
            "151                                            Anaheim  Carbon monoxide   \n",
            "156                                       Clovis-Villa  Carbon monoxide   \n",
            "158                                Modesto-14th Street  Carbon monoxide   \n",
            "161                                   Bakersfield-Muni  Carbon monoxide   \n",
            "170                     San Diego -Rancho Carmel Drive  Carbon monoxide   \n",
            "171  White Mountain Research Center - Owens Valley Lab  Carbon monoxide   \n",
            "176                                      Bethel Island  Carbon monoxide   \n",
            "190                                   Madera-Pump Yard  Carbon monoxide   \n",
            "194                                             Upland  Carbon monoxide   \n",
            "198                                       Palm Springs  Carbon monoxide   \n",
            "199                                           Rubidoux  Carbon monoxide   \n",
            "200                                           Rubidoux  Carbon monoxide   \n",
            "203                                        Santa Maria  Carbon monoxide   \n",
            "206                                     San Bernardino  Carbon monoxide   \n",
            "211                                       Tranquillity  Carbon monoxide   \n",
            "213                               Los Flores Canyon #1  Carbon monoxide   \n",
            "218                                         Sebastopol  Carbon monoxide   \n",
            "220                                               Napa  Carbon monoxide   \n",
            "222                                            Barstow  Carbon monoxide   \n",
            "224                            Sacramento-Bercut Drive  Carbon monoxide   \n",
            "227                                    Lompoc H Street  Carbon monoxide   \n",
            "230                                          Salinas 3  Carbon monoxide   \n",
            "236                                            Vallejo  Carbon monoxide   \n",
            "239                                       Oakland West  Carbon monoxide   \n",
            "249                                  Anaheim Near-Road  Carbon monoxide   \n",
            "\n",
            "      units_of_measure  arithmetic_mean  aqi  \n",
            "16   Parts per million         0.747368   11  \n",
            "18   Parts per million         0.752632   16  \n",
            "26   Parts per million         0.673684   13  \n",
            "27   Parts per million         1.088889   15  \n",
            "34   Parts per million         1.000000   15  \n",
            "40   Parts per million         0.672222   10  \n",
            "43   Parts per million         0.294444    5  \n",
            "45   Parts per million         0.466667    9  \n",
            "46   Parts per million         1.231579   27  \n",
            "58   Parts per million         0.278947    3  \n",
            "62   Parts per million         0.611111    9  \n",
            "63   Parts per million         0.836842   18  \n",
            "75   Parts per million         1.084211   20  \n",
            "77   Parts per million         0.510526    9  \n",
            "81   Parts per million         0.200000    2  \n",
            "86   Parts per million         0.747059   15  \n",
            "87   Parts per million         0.393750    5  \n",
            "99   Parts per million         0.222222    3  \n",
            "106  Parts per million         1.183333   26  \n",
            "117  Parts per million         0.626667   11  \n",
            "127  Parts per million         0.505556    7  \n",
            "130  Parts per million         0.626316   11  \n",
            "134  Parts per million         0.600000   10  \n",
            "139  Parts per million         0.621053   13  \n",
            "141  Parts per million         0.650000    8  \n",
            "147  Parts per million         1.111111   18  \n",
            "148  Parts per million         0.405556    7  \n",
            "151  Parts per million         0.694737   11  \n",
            "156  Parts per million         0.761111   10  \n",
            "158  Parts per million         0.488889    9  \n",
            "161  Parts per million         0.633333   13  \n",
            "170  Parts per million         0.933333   11  \n",
            "171  Parts per million         0.100000    1  \n",
            "176  Parts per million         0.511111    7  \n",
            "190  Parts per million         0.347368    5  \n",
            "194  Parts per million         0.884211   13  \n",
            "198  Parts per million         0.157895    3  \n",
            "199  Parts per million         1.021053   23  \n",
            "200  Parts per million         0.984211   22  \n",
            "203  Parts per million         0.227778    3  \n",
            "206  Parts per million         1.100000   28  \n",
            "211  Parts per million         0.215789    3  \n",
            "213  Parts per million         0.273333    3  \n",
            "218  Parts per million         0.572222    8  \n",
            "220  Parts per million         0.588889   10  \n",
            "222  Parts per million         0.305263    5  \n",
            "224  Parts per million         0.627778   13  \n",
            "227  Parts per million         0.393333    6  \n",
            "230  Parts per million         0.552632   10  \n",
            "236  Parts per million         0.620000    9  \n",
            "239  Parts per million         0.988889   15  \n",
            "249  Parts per million         1.015789   15  \n"
          ]
        }
      ]
    },
    {
      "cell_type": "markdown",
      "metadata": {
        "id": "c57f5c93-1aad-4d67-b5fe-d8764103a2e5"
      },
      "source": [
        "<details>\n",
        "  <summary><h4><strong>HINT 1</strong></h4></summary>\n",
        "\n",
        "  Consider referencing the material on subsetting dataframes.  \n",
        "</details>"
      ],
      "id": "c57f5c93-1aad-4d67-b5fe-d8764103a2e5"
    },
    {
      "cell_type": "markdown",
      "metadata": {
        "id": "bf95629f-9b89-4165-a8a9-c53903660564"
      },
      "source": [
        "<details>\n",
        "  <summary><h4><strong>HINT 2</strong></h4></summary>\n",
        "\n",
        "  Consider creating two dataframes, one for Los Angeles, and one for all other California observations.\n",
        "</details>"
      ],
      "id": "bf95629f-9b89-4165-a8a9-c53903660564"
    },
    {
      "cell_type": "markdown",
      "metadata": {
        "id": "c1db6a6f-4547-421d-a9cb-56d085372ba5"
      },
      "source": [
        "<details>\n",
        "  <summary><h4><strong>HINT 3</strong></h4></summary>\n",
        "\n",
        "For your first dataframe, filter to `county_name` of `Los Angeles`. For your second dataframe, filter to `state_name` of `Calfornia` and `county_name` not equal to `Los Angeles`.\n",
        "    \n",
        "</details>"
      ],
      "id": "c1db6a6f-4547-421d-a9cb-56d085372ba5"
    },
    {
      "cell_type": "markdown",
      "metadata": {
        "id": "7dff76cf-3a49-49d2-9660-0b5ec17d5f0a"
      },
      "source": [
        "#### Formulate your hypothesis:"
      ],
      "id": "7dff76cf-3a49-49d2-9660-0b5ec17d5f0a"
    },
    {
      "cell_type": "markdown",
      "metadata": {
        "id": "fdddef66-6207-4cc0-853c-0b578674bbfc"
      },
      "source": [
        "**Formulate your null and alternative hypotheses:**\n",
        "\n",
        "*   $H_0$: There is no difference in the mean AQI between Los Angeles County and the rest of California.\n",
        "*   $H_A$: There is a difference in the mean AQI between Los Angeles County and the rest of California.\n"
      ],
      "id": "fdddef66-6207-4cc0-853c-0b578674bbfc"
    },
    {
      "cell_type": "markdown",
      "metadata": {
        "id": "5dac3136-16bf-45d2-a560-05fe5361f5cb"
      },
      "source": [
        "#### Set the significance level:"
      ],
      "id": "5dac3136-16bf-45d2-a560-05fe5361f5cb"
    },
    {
      "cell_type": "code",
      "execution_count": null,
      "metadata": {
        "id": "5ef36549-7ccb-4547-bf04-d23b166c65d4"
      },
      "outputs": [],
      "source": [
        "# For this analysis, the significance level is 5%\n",
        "level_of_significance = 0.05\n",
        "### YOUR CODE HERE"
      ],
      "id": "5ef36549-7ccb-4547-bf04-d23b166c65d4"
    },
    {
      "cell_type": "markdown",
      "metadata": {
        "id": "4ebb679d-188d-4ca8-a886-6edb9ba1301e"
      },
      "source": [
        "#### Determine the appropriate test procedure:"
      ],
      "id": "4ebb679d-188d-4ca8-a886-6edb9ba1301e"
    },
    {
      "cell_type": "markdown",
      "metadata": {
        "id": "ab717428-91e5-4f88-b6d5-0a8c3034e010"
      },
      "source": [
        "Here, you are comparing the sample means between two independent samples. Therefore, you will utilize a **two-sample  𝑡-test**."
      ],
      "id": "ab717428-91e5-4f88-b6d5-0a8c3034e010"
    },
    {
      "cell_type": "markdown",
      "metadata": {
        "id": "e862eb4d-a170-4126-9373-a527bf5659da"
      },
      "source": [
        "#### Compute the P-value"
      ],
      "id": "e862eb4d-a170-4126-9373-a527bf5659da"
    },
    {
      "cell_type": "code",
      "execution_count": null,
      "metadata": {
        "id": "83ef0d80-48ec-4a5a-8acd-0fab137243c3",
        "tags": []
      },
      "outputs": [],
      "source": [
        "# Compute your p-value here\n",
        "### YOUR CODE HERE ###"
      ],
      "id": "83ef0d80-48ec-4a5a-8acd-0fab137243c3"
    },
    {
      "cell_type": "code",
      "source": [
        "t_test = stats.ttest_ind(a = la_county['aqi'], b= rest_of_ca['aqi'] , equal_var=False)\n",
        "t_test"
      ],
      "metadata": {
        "colab": {
          "base_uri": "https://localhost:8080/"
        },
        "id": "GcgunJIpxKsz",
        "outputId": "fec0cfc6-ec71-434f-a423-f437d91e37bc"
      },
      "id": "GcgunJIpxKsz",
      "execution_count": 9,
      "outputs": [
        {
          "output_type": "execute_result",
          "data": {
            "text/plain": [
              "TtestResult(statistic=2.1107010796372014, pvalue=0.049839056842410995, df=17.08246830361151)"
            ]
          },
          "metadata": {},
          "execution_count": 9
        }
      ]
    },
    {
      "cell_type": "markdown",
      "metadata": {
        "id": "baf0078e-b142-47c0-927f-64bf93051c07"
      },
      "source": [
        "<details>\n",
        "  <summary><h4><strong>HINT 1</strong></h4></summary>\n",
        "\n",
        "  Consider referencing the material on how to perform a two-sample t-test.\n",
        "</details>"
      ],
      "id": "baf0078e-b142-47c0-927f-64bf93051c07"
    },
    {
      "cell_type": "markdown",
      "metadata": {
        "id": "9a4f077a-89a6-47f4-bbb3-fcdfde51177e"
      },
      "source": [
        "<details>\n",
        "  <summary><h4><strong>HINT 2</strong></h4></summary>\n",
        "\n",
        "  In `ttest_ind()`, a is the aqi column from our \"Los Angeles\" dataframe, and b is the aqi column from the \"Other California\" dataframe.\n",
        "</details>"
      ],
      "id": "9a4f077a-89a6-47f4-bbb3-fcdfde51177e"
    },
    {
      "cell_type": "markdown",
      "metadata": {
        "id": "d8b19b4d-7ef8-4a85-82d3-47aa85169f44"
      },
      "source": [
        "<details>\n",
        "  <summary><h4><strong>HINT 3</strong></h4></summary>\n",
        "\n",
        "  Be sure to set `equal_var` = False.\n",
        "\n",
        "</details>"
      ],
      "id": "d8b19b4d-7ef8-4a85-82d3-47aa85169f44"
    },
    {
      "cell_type": "markdown",
      "metadata": {
        "id": "2d62e8b0-59e5-471d-a5fc-d50395955a2a"
      },
      "source": [
        "#### **Question 2. What is your P-value for hypothesis 1, and what does this indicate for your null hypothesis?**"
      ],
      "id": "2d62e8b0-59e5-471d-a5fc-d50395955a2a"
    },
    {
      "cell_type": "markdown",
      "metadata": {
        "id": "KUEKceuOJ1S2"
      },
      "source": [
        "pvalue is 0.04983 therefore we reject the null hypothesis in favour of the alternate hypothesis."
      ],
      "id": "KUEKceuOJ1S2"
    },
    {
      "cell_type": "markdown",
      "metadata": {
        "id": "94a88155-3328-4c7e-8e60-67a2ba9d7967"
      },
      "source": [
        "### Hypothesis 2: With limited resources, ROA has to choose between New York and Ohio for their next regional office. Does New York have a lower AQI than Ohio?\n",
        "\n",
        "Before proceeding with your analysis, it will be helpful to subset the data for your comparison."
      ],
      "id": "94a88155-3328-4c7e-8e60-67a2ba9d7967"
    },
    {
      "cell_type": "code",
      "execution_count": 15,
      "metadata": {
        "id": "f39b7d83-9fbf-4bba-90c2-c99f903badd8",
        "colab": {
          "base_uri": "https://localhost:8080/",
          "height": 330
        },
        "outputId": "2960d5fd-5dab-4a82-d19e-648ffce31287"
      },
      "outputs": [
        {
          "output_type": "execute_result",
          "data": {
            "text/plain": [
              "    Unnamed: 0  date_local state_name county_name   city_name local_site_name  \\\n",
              "1            1  2018-01-01       Ohio     Belmont   Shadyside       Shadyside   \n",
              "12          12  2018-01-01       Ohio    Hamilton  Cincinnati      Taft NCore   \n",
              "22          22  2018-01-01       Ohio       Stark      Canton          Canton   \n",
              "51          51  2018-01-01       Ohio      Summit       Akron    NIHF STEM MS   \n",
              "59          59  2018-01-01       Ohio    Cuyahoga   Cleveland  GT Craig NCore   \n",
              "\n",
              "     parameter_name   units_of_measure  arithmetic_mean  aqi  \n",
              "1   Carbon monoxide  Parts per million         0.263158    5  \n",
              "12  Carbon monoxide  Parts per million         0.252632    3  \n",
              "22  Carbon monoxide  Parts per million         0.394737    6  \n",
              "51  Carbon monoxide  Parts per million         0.083333    3  \n",
              "59  Carbon monoxide  Parts per million         0.250000    3  "
            ],
            "text/html": [
              "\n",
              "  <div id=\"df-ed0610fa-2f56-4bce-909a-2a6685660709\" class=\"colab-df-container\">\n",
              "    <div>\n",
              "<style scoped>\n",
              "    .dataframe tbody tr th:only-of-type {\n",
              "        vertical-align: middle;\n",
              "    }\n",
              "\n",
              "    .dataframe tbody tr th {\n",
              "        vertical-align: top;\n",
              "    }\n",
              "\n",
              "    .dataframe thead th {\n",
              "        text-align: right;\n",
              "    }\n",
              "</style>\n",
              "<table border=\"1\" class=\"dataframe\">\n",
              "  <thead>\n",
              "    <tr style=\"text-align: right;\">\n",
              "      <th></th>\n",
              "      <th>Unnamed: 0</th>\n",
              "      <th>date_local</th>\n",
              "      <th>state_name</th>\n",
              "      <th>county_name</th>\n",
              "      <th>city_name</th>\n",
              "      <th>local_site_name</th>\n",
              "      <th>parameter_name</th>\n",
              "      <th>units_of_measure</th>\n",
              "      <th>arithmetic_mean</th>\n",
              "      <th>aqi</th>\n",
              "    </tr>\n",
              "  </thead>\n",
              "  <tbody>\n",
              "    <tr>\n",
              "      <th>1</th>\n",
              "      <td>1</td>\n",
              "      <td>2018-01-01</td>\n",
              "      <td>Ohio</td>\n",
              "      <td>Belmont</td>\n",
              "      <td>Shadyside</td>\n",
              "      <td>Shadyside</td>\n",
              "      <td>Carbon monoxide</td>\n",
              "      <td>Parts per million</td>\n",
              "      <td>0.263158</td>\n",
              "      <td>5</td>\n",
              "    </tr>\n",
              "    <tr>\n",
              "      <th>12</th>\n",
              "      <td>12</td>\n",
              "      <td>2018-01-01</td>\n",
              "      <td>Ohio</td>\n",
              "      <td>Hamilton</td>\n",
              "      <td>Cincinnati</td>\n",
              "      <td>Taft NCore</td>\n",
              "      <td>Carbon monoxide</td>\n",
              "      <td>Parts per million</td>\n",
              "      <td>0.252632</td>\n",
              "      <td>3</td>\n",
              "    </tr>\n",
              "    <tr>\n",
              "      <th>22</th>\n",
              "      <td>22</td>\n",
              "      <td>2018-01-01</td>\n",
              "      <td>Ohio</td>\n",
              "      <td>Stark</td>\n",
              "      <td>Canton</td>\n",
              "      <td>Canton</td>\n",
              "      <td>Carbon monoxide</td>\n",
              "      <td>Parts per million</td>\n",
              "      <td>0.394737</td>\n",
              "      <td>6</td>\n",
              "    </tr>\n",
              "    <tr>\n",
              "      <th>51</th>\n",
              "      <td>51</td>\n",
              "      <td>2018-01-01</td>\n",
              "      <td>Ohio</td>\n",
              "      <td>Summit</td>\n",
              "      <td>Akron</td>\n",
              "      <td>NIHF STEM MS</td>\n",
              "      <td>Carbon monoxide</td>\n",
              "      <td>Parts per million</td>\n",
              "      <td>0.083333</td>\n",
              "      <td>3</td>\n",
              "    </tr>\n",
              "    <tr>\n",
              "      <th>59</th>\n",
              "      <td>59</td>\n",
              "      <td>2018-01-01</td>\n",
              "      <td>Ohio</td>\n",
              "      <td>Cuyahoga</td>\n",
              "      <td>Cleveland</td>\n",
              "      <td>GT Craig NCore</td>\n",
              "      <td>Carbon monoxide</td>\n",
              "      <td>Parts per million</td>\n",
              "      <td>0.250000</td>\n",
              "      <td>3</td>\n",
              "    </tr>\n",
              "  </tbody>\n",
              "</table>\n",
              "</div>\n",
              "    <div class=\"colab-df-buttons\">\n",
              "\n",
              "  <div class=\"colab-df-container\">\n",
              "    <button class=\"colab-df-convert\" onclick=\"convertToInteractive('df-ed0610fa-2f56-4bce-909a-2a6685660709')\"\n",
              "            title=\"Convert this dataframe to an interactive table.\"\n",
              "            style=\"display:none;\">\n",
              "\n",
              "  <svg xmlns=\"http://www.w3.org/2000/svg\" height=\"24px\" viewBox=\"0 -960 960 960\">\n",
              "    <path d=\"M120-120v-720h720v720H120Zm60-500h600v-160H180v160Zm220 220h160v-160H400v160Zm0 220h160v-160H400v160ZM180-400h160v-160H180v160Zm440 0h160v-160H620v160ZM180-180h160v-160H180v160Zm440 0h160v-160H620v160Z\"/>\n",
              "  </svg>\n",
              "    </button>\n",
              "\n",
              "  <style>\n",
              "    .colab-df-container {\n",
              "      display:flex;\n",
              "      gap: 12px;\n",
              "    }\n",
              "\n",
              "    .colab-df-convert {\n",
              "      background-color: #E8F0FE;\n",
              "      border: none;\n",
              "      border-radius: 50%;\n",
              "      cursor: pointer;\n",
              "      display: none;\n",
              "      fill: #1967D2;\n",
              "      height: 32px;\n",
              "      padding: 0 0 0 0;\n",
              "      width: 32px;\n",
              "    }\n",
              "\n",
              "    .colab-df-convert:hover {\n",
              "      background-color: #E2EBFA;\n",
              "      box-shadow: 0px 1px 2px rgba(60, 64, 67, 0.3), 0px 1px 3px 1px rgba(60, 64, 67, 0.15);\n",
              "      fill: #174EA6;\n",
              "    }\n",
              "\n",
              "    .colab-df-buttons div {\n",
              "      margin-bottom: 4px;\n",
              "    }\n",
              "\n",
              "    [theme=dark] .colab-df-convert {\n",
              "      background-color: #3B4455;\n",
              "      fill: #D2E3FC;\n",
              "    }\n",
              "\n",
              "    [theme=dark] .colab-df-convert:hover {\n",
              "      background-color: #434B5C;\n",
              "      box-shadow: 0px 1px 3px 1px rgba(0, 0, 0, 0.15);\n",
              "      filter: drop-shadow(0px 1px 2px rgba(0, 0, 0, 0.3));\n",
              "      fill: #FFFFFF;\n",
              "    }\n",
              "  </style>\n",
              "\n",
              "    <script>\n",
              "      const buttonEl =\n",
              "        document.querySelector('#df-ed0610fa-2f56-4bce-909a-2a6685660709 button.colab-df-convert');\n",
              "      buttonEl.style.display =\n",
              "        google.colab.kernel.accessAllowed ? 'block' : 'none';\n",
              "\n",
              "      async function convertToInteractive(key) {\n",
              "        const element = document.querySelector('#df-ed0610fa-2f56-4bce-909a-2a6685660709');\n",
              "        const dataTable =\n",
              "          await google.colab.kernel.invokeFunction('convertToInteractive',\n",
              "                                                    [key], {});\n",
              "        if (!dataTable) return;\n",
              "\n",
              "        const docLinkHtml = 'Like what you see? Visit the ' +\n",
              "          '<a target=\"_blank\" href=https://colab.research.google.com/notebooks/data_table.ipynb>data table notebook</a>'\n",
              "          + ' to learn more about interactive tables.';\n",
              "        element.innerHTML = '';\n",
              "        dataTable['output_type'] = 'display_data';\n",
              "        await google.colab.output.renderOutput(dataTable, element);\n",
              "        const docLink = document.createElement('div');\n",
              "        docLink.innerHTML = docLinkHtml;\n",
              "        element.appendChild(docLink);\n",
              "      }\n",
              "    </script>\n",
              "  </div>\n",
              "\n",
              "\n",
              "<div id=\"df-74a4d857-f277-47e9-9747-423ed3ee8754\">\n",
              "  <button class=\"colab-df-quickchart\" onclick=\"quickchart('df-74a4d857-f277-47e9-9747-423ed3ee8754')\"\n",
              "            title=\"Suggest charts\"\n",
              "            style=\"display:none;\">\n",
              "\n",
              "<svg xmlns=\"http://www.w3.org/2000/svg\" height=\"24px\"viewBox=\"0 0 24 24\"\n",
              "     width=\"24px\">\n",
              "    <g>\n",
              "        <path d=\"M19 3H5c-1.1 0-2 .9-2 2v14c0 1.1.9 2 2 2h14c1.1 0 2-.9 2-2V5c0-1.1-.9-2-2-2zM9 17H7v-7h2v7zm4 0h-2V7h2v10zm4 0h-2v-4h2v4z\"/>\n",
              "    </g>\n",
              "</svg>\n",
              "  </button>\n",
              "\n",
              "<style>\n",
              "  .colab-df-quickchart {\n",
              "      --bg-color: #E8F0FE;\n",
              "      --fill-color: #1967D2;\n",
              "      --hover-bg-color: #E2EBFA;\n",
              "      --hover-fill-color: #174EA6;\n",
              "      --disabled-fill-color: #AAA;\n",
              "      --disabled-bg-color: #DDD;\n",
              "  }\n",
              "\n",
              "  [theme=dark] .colab-df-quickchart {\n",
              "      --bg-color: #3B4455;\n",
              "      --fill-color: #D2E3FC;\n",
              "      --hover-bg-color: #434B5C;\n",
              "      --hover-fill-color: #FFFFFF;\n",
              "      --disabled-bg-color: #3B4455;\n",
              "      --disabled-fill-color: #666;\n",
              "  }\n",
              "\n",
              "  .colab-df-quickchart {\n",
              "    background-color: var(--bg-color);\n",
              "    border: none;\n",
              "    border-radius: 50%;\n",
              "    cursor: pointer;\n",
              "    display: none;\n",
              "    fill: var(--fill-color);\n",
              "    height: 32px;\n",
              "    padding: 0;\n",
              "    width: 32px;\n",
              "  }\n",
              "\n",
              "  .colab-df-quickchart:hover {\n",
              "    background-color: var(--hover-bg-color);\n",
              "    box-shadow: 0 1px 2px rgba(60, 64, 67, 0.3), 0 1px 3px 1px rgba(60, 64, 67, 0.15);\n",
              "    fill: var(--button-hover-fill-color);\n",
              "  }\n",
              "\n",
              "  .colab-df-quickchart-complete:disabled,\n",
              "  .colab-df-quickchart-complete:disabled:hover {\n",
              "    background-color: var(--disabled-bg-color);\n",
              "    fill: var(--disabled-fill-color);\n",
              "    box-shadow: none;\n",
              "  }\n",
              "\n",
              "  .colab-df-spinner {\n",
              "    border: 2px solid var(--fill-color);\n",
              "    border-color: transparent;\n",
              "    border-bottom-color: var(--fill-color);\n",
              "    animation:\n",
              "      spin 1s steps(1) infinite;\n",
              "  }\n",
              "\n",
              "  @keyframes spin {\n",
              "    0% {\n",
              "      border-color: transparent;\n",
              "      border-bottom-color: var(--fill-color);\n",
              "      border-left-color: var(--fill-color);\n",
              "    }\n",
              "    20% {\n",
              "      border-color: transparent;\n",
              "      border-left-color: var(--fill-color);\n",
              "      border-top-color: var(--fill-color);\n",
              "    }\n",
              "    30% {\n",
              "      border-color: transparent;\n",
              "      border-left-color: var(--fill-color);\n",
              "      border-top-color: var(--fill-color);\n",
              "      border-right-color: var(--fill-color);\n",
              "    }\n",
              "    40% {\n",
              "      border-color: transparent;\n",
              "      border-right-color: var(--fill-color);\n",
              "      border-top-color: var(--fill-color);\n",
              "    }\n",
              "    60% {\n",
              "      border-color: transparent;\n",
              "      border-right-color: var(--fill-color);\n",
              "    }\n",
              "    80% {\n",
              "      border-color: transparent;\n",
              "      border-right-color: var(--fill-color);\n",
              "      border-bottom-color: var(--fill-color);\n",
              "    }\n",
              "    90% {\n",
              "      border-color: transparent;\n",
              "      border-bottom-color: var(--fill-color);\n",
              "    }\n",
              "  }\n",
              "</style>\n",
              "\n",
              "  <script>\n",
              "    async function quickchart(key) {\n",
              "      const quickchartButtonEl =\n",
              "        document.querySelector('#' + key + ' button');\n",
              "      quickchartButtonEl.disabled = true;  // To prevent multiple clicks.\n",
              "      quickchartButtonEl.classList.add('colab-df-spinner');\n",
              "      try {\n",
              "        const charts = await google.colab.kernel.invokeFunction(\n",
              "            'suggestCharts', [key], {});\n",
              "      } catch (error) {\n",
              "        console.error('Error during call to suggestCharts:', error);\n",
              "      }\n",
              "      quickchartButtonEl.classList.remove('colab-df-spinner');\n",
              "      quickchartButtonEl.classList.add('colab-df-quickchart-complete');\n",
              "    }\n",
              "    (() => {\n",
              "      let quickchartButtonEl =\n",
              "        document.querySelector('#df-74a4d857-f277-47e9-9747-423ed3ee8754 button');\n",
              "      quickchartButtonEl.style.display =\n",
              "        google.colab.kernel.accessAllowed ? 'block' : 'none';\n",
              "    })();\n",
              "  </script>\n",
              "</div>\n",
              "\n",
              "    </div>\n",
              "  </div>\n"
            ],
            "application/vnd.google.colaboratory.intrinsic+json": {
              "type": "dataframe",
              "repr_error": "0"
            }
          },
          "metadata": {},
          "execution_count": 15
        }
      ],
      "source": [
        "# Create dataframes for each sample being compared in your test\n",
        "New_york_df = aqi[aqi['state_name'] == 'New York']\n",
        "New_york_df.head()\n",
        "\n",
        "Ohio_df = aqi[aqi['state_name'] == 'Ohio']\n",
        "Ohio_df.head()\n",
        "### YOUR CODE HERE ###"
      ],
      "id": "f39b7d83-9fbf-4bba-90c2-c99f903badd8"
    },
    {
      "cell_type": "markdown",
      "metadata": {
        "id": "91fcd91a-45a4-4d09-8e27-cef43d230d77"
      },
      "source": [
        "<details>\n",
        "  <summary><h4><strong>HINT 1</strong></h4></summary>\n",
        "\n",
        "  Consider referencing the materials on subsetting dataframes.  \n",
        "</details>"
      ],
      "id": "91fcd91a-45a4-4d09-8e27-cef43d230d77"
    },
    {
      "cell_type": "markdown",
      "metadata": {
        "id": "ee48c4a6-2838-4d61-88ed-9447dfa7dbb8"
      },
      "source": [
        "<details>\n",
        "  <summary><h4><strong>HINT 2</strong></h4></summary>\n",
        "\n",
        "  Consider creating two dataframes, one for New York, and one for Ohio observations.\n",
        "</details>"
      ],
      "id": "ee48c4a6-2838-4d61-88ed-9447dfa7dbb8"
    },
    {
      "cell_type": "markdown",
      "metadata": {
        "id": "843a0f97-13b9-4b03-bd21-f0914a0cc5c1"
      },
      "source": [
        "<details>\n",
        "  <summary><h4><strong>HINT 3</strong></h4></summary>\n",
        "\n",
        "For your first dataframe, filter to `state_name` of `New York`. For your second dataframe, filter to `state_name` of `Ohio`.\n",
        "    \n",
        "</details>"
      ],
      "id": "843a0f97-13b9-4b03-bd21-f0914a0cc5c1"
    },
    {
      "cell_type": "markdown",
      "metadata": {
        "id": "7478185b-a351-4c7c-b1b8-6eaa1a26d2ed"
      },
      "source": [
        "#### Formulate your hypothesis:"
      ],
      "id": "7478185b-a351-4c7c-b1b8-6eaa1a26d2ed"
    },
    {
      "cell_type": "markdown",
      "metadata": {
        "id": "029b0f9c-0d0c-475f-b745-643a313e2b79"
      },
      "source": [
        "**Formulate your null and alternative hypotheses:**\n",
        "\n",
        "*   $H_0$: The mean AQI of New York is greater than or equal to that of Ohio.\n",
        "*   $H_A$: The mean AQI of New York is **below** that of Ohio.\n"
      ],
      "id": "029b0f9c-0d0c-475f-b745-643a313e2b79"
    },
    {
      "cell_type": "markdown",
      "metadata": {
        "id": "b12559f5-bd57-4664-be80-7208ca8818b4"
      },
      "source": [
        "#### Significance Level (remains at 5%)"
      ],
      "id": "b12559f5-bd57-4664-be80-7208ca8818b4"
    },
    {
      "cell_type": "markdown",
      "metadata": {
        "id": "2b57fcf8-6f9d-4dae-ba0d-4af9a24d991d"
      },
      "source": [
        "#### Determine the appropriate test procedure:"
      ],
      "id": "2b57fcf8-6f9d-4dae-ba0d-4af9a24d991d"
    },
    {
      "cell_type": "markdown",
      "metadata": {
        "id": "8ac7075f-1342-4522-9c49-1f43574d05f8"
      },
      "source": [
        "Here, you are comparing the sample means between two independent samples in one direction. Therefore, you will utilize a **two-sample  𝑡-test**."
      ],
      "id": "8ac7075f-1342-4522-9c49-1f43574d05f8"
    },
    {
      "cell_type": "markdown",
      "metadata": {
        "id": "77f03fc8-0663-48b2-af4b-2936b35027e7"
      },
      "source": [
        "#### Compute the P-value"
      ],
      "id": "77f03fc8-0663-48b2-af4b-2936b35027e7"
    },
    {
      "cell_type": "code",
      "execution_count": 20,
      "metadata": {
        "id": "e495500f-c3d9-4cf2-ad1d-4687640a01b4",
        "tags": [],
        "colab": {
          "base_uri": "https://localhost:8080/"
        },
        "outputId": "4b23d96e-59f4-4ec6-a7c0-cb1987d76d68"
      },
      "outputs": [
        {
          "output_type": "execute_result",
          "data": {
            "text/plain": [
              "(-2.025951038880333, 0.03044650269193468)"
            ]
          },
          "metadata": {},
          "execution_count": 20
        }
      ],
      "source": [
        "# Compute your p-value here\n",
        "tstat, pvalue = stats.ttest_ind(a = New_york_df['aqi'], b = Ohio_df['aqi'], alternative= 'less' , equal_var = False)\n",
        "tstat, pvalue\n",
        "### YOUR CODE HERE ###"
      ],
      "id": "e495500f-c3d9-4cf2-ad1d-4687640a01b4"
    },
    {
      "cell_type": "markdown",
      "metadata": {
        "id": "bd2a3a68-4267-4622-8b08-55807f387a17"
      },
      "source": [
        "<details>\n",
        "  <summary><h4><strong>HINT 1</strong></h4></summary>\n",
        "\n",
        "  Consider referencing the material on how to perform a two-sample t-test.\n",
        "</details>"
      ],
      "id": "bd2a3a68-4267-4622-8b08-55807f387a17"
    },
    {
      "cell_type": "markdown",
      "metadata": {
        "id": "311bc999-a930-4cf0-85c6-6ae97855f0e9"
      },
      "source": [
        "<details>\n",
        "  <summary><h4><strong>HINT 2</strong></h4></summary>\n",
        "\n",
        "  In `ttest_ind()`, a is the aqi column from the \"New York\" dataframe, an b is the aqi column from the \"Ohio\" dataframe.\n",
        "</details>"
      ],
      "id": "311bc999-a930-4cf0-85c6-6ae97855f0e9"
    },
    {
      "cell_type": "markdown",
      "metadata": {
        "id": "7d54093d-253b-4d2a-a324-257eea617ac4"
      },
      "source": [
        "<details>\n",
        "  <summary><h4><strong>HINT 3</strong></h4></summary>\n",
        "\n",
        "  You can assign `tstat`, `pvalue` to the output of `ttest_ind`. Be sure to include `alternative = less` as part of your code.  \n",
        "\n",
        "</details>"
      ],
      "id": "7d54093d-253b-4d2a-a324-257eea617ac4"
    },
    {
      "cell_type": "markdown",
      "metadata": {
        "id": "d56642db-8f45-405a-af7d-69bd3ad3fe58"
      },
      "source": [
        "#### **Question 3. What is your P-value for hypothesis 2, and what does this indicate for your null hypothesis?**"
      ],
      "id": "d56642db-8f45-405a-af7d-69bd3ad3fe58"
    },
    {
      "cell_type": "markdown",
      "metadata": {
        "id": "dFDxoQ9aJxz3"
      },
      "source": [
        "pvalue = 0.03\n",
        "therefore we reject the null hypothesis.\n",
        "The mean AQI of New York is below that of Ohio."
      ],
      "id": "dFDxoQ9aJxz3"
    },
    {
      "cell_type": "markdown",
      "metadata": {
        "id": "4308fdf1-3080-4697-a0b4-4c7c59c49b9b"
      },
      "source": [
        "###  Hypothesis 3: A new policy will affect those states with a mean AQI of 10 or greater. Will Michigan be affected by this new policy?\n",
        "\n",
        "Before proceeding with your analysis, it will be helpful to subset the data for your comparison."
      ],
      "id": "4308fdf1-3080-4697-a0b4-4c7c59c49b9b"
    },
    {
      "cell_type": "code",
      "execution_count": 22,
      "metadata": {
        "id": "559c43b4-ccb3-4a05-91d4-8f4aaee4d8b7",
        "colab": {
          "base_uri": "https://localhost:8080/",
          "height": 330
        },
        "outputId": "f2d9a4ed-406e-4f2c-d2e2-8fac25c492df"
      },
      "outputs": [
        {
          "output_type": "execute_result",
          "data": {
            "text/plain": [
              "     Unnamed: 0  date_local state_name county_name   city_name  \\\n",
              "65           65  2018-01-01   Michigan       Wayne     Livonia   \n",
              "122         122  2018-01-01   Michigan       Wayne     Detroit   \n",
              "123         123  2018-01-01   Michigan       Wayne     Detroit   \n",
              "129         129  2018-01-01   Michigan       Wayne     Detroit   \n",
              "192         192  2018-01-01   Michigan       Wayne  Allen Park   \n",
              "\n",
              "              local_site_name   parameter_name   units_of_measure  \\\n",
              "65                 LIVONIA-NR  Carbon monoxide  Parts per million   \n",
              "122               West corner  Carbon monoxide  Parts per million   \n",
              "123  MARK TWAIN MIDDLE SCHOOL  Carbon monoxide  Parts per million   \n",
              "129                  ELIZA-NR  Carbon monoxide  Parts per million   \n",
              "192                Allen Park  Carbon monoxide  Parts per million   \n",
              "\n",
              "     arithmetic_mean  aqi  \n",
              "65          0.338889    5  \n",
              "122         0.394737    8  \n",
              "123         0.515789    9  \n",
              "129         0.616667   11  \n",
              "192         0.811111   13  "
            ],
            "text/html": [
              "\n",
              "  <div id=\"df-3dc05207-4007-447e-92fc-a88c5b1b7c65\" class=\"colab-df-container\">\n",
              "    <div>\n",
              "<style scoped>\n",
              "    .dataframe tbody tr th:only-of-type {\n",
              "        vertical-align: middle;\n",
              "    }\n",
              "\n",
              "    .dataframe tbody tr th {\n",
              "        vertical-align: top;\n",
              "    }\n",
              "\n",
              "    .dataframe thead th {\n",
              "        text-align: right;\n",
              "    }\n",
              "</style>\n",
              "<table border=\"1\" class=\"dataframe\">\n",
              "  <thead>\n",
              "    <tr style=\"text-align: right;\">\n",
              "      <th></th>\n",
              "      <th>Unnamed: 0</th>\n",
              "      <th>date_local</th>\n",
              "      <th>state_name</th>\n",
              "      <th>county_name</th>\n",
              "      <th>city_name</th>\n",
              "      <th>local_site_name</th>\n",
              "      <th>parameter_name</th>\n",
              "      <th>units_of_measure</th>\n",
              "      <th>arithmetic_mean</th>\n",
              "      <th>aqi</th>\n",
              "    </tr>\n",
              "  </thead>\n",
              "  <tbody>\n",
              "    <tr>\n",
              "      <th>65</th>\n",
              "      <td>65</td>\n",
              "      <td>2018-01-01</td>\n",
              "      <td>Michigan</td>\n",
              "      <td>Wayne</td>\n",
              "      <td>Livonia</td>\n",
              "      <td>LIVONIA-NR</td>\n",
              "      <td>Carbon monoxide</td>\n",
              "      <td>Parts per million</td>\n",
              "      <td>0.338889</td>\n",
              "      <td>5</td>\n",
              "    </tr>\n",
              "    <tr>\n",
              "      <th>122</th>\n",
              "      <td>122</td>\n",
              "      <td>2018-01-01</td>\n",
              "      <td>Michigan</td>\n",
              "      <td>Wayne</td>\n",
              "      <td>Detroit</td>\n",
              "      <td>West corner</td>\n",
              "      <td>Carbon monoxide</td>\n",
              "      <td>Parts per million</td>\n",
              "      <td>0.394737</td>\n",
              "      <td>8</td>\n",
              "    </tr>\n",
              "    <tr>\n",
              "      <th>123</th>\n",
              "      <td>123</td>\n",
              "      <td>2018-01-01</td>\n",
              "      <td>Michigan</td>\n",
              "      <td>Wayne</td>\n",
              "      <td>Detroit</td>\n",
              "      <td>MARK TWAIN MIDDLE SCHOOL</td>\n",
              "      <td>Carbon monoxide</td>\n",
              "      <td>Parts per million</td>\n",
              "      <td>0.515789</td>\n",
              "      <td>9</td>\n",
              "    </tr>\n",
              "    <tr>\n",
              "      <th>129</th>\n",
              "      <td>129</td>\n",
              "      <td>2018-01-01</td>\n",
              "      <td>Michigan</td>\n",
              "      <td>Wayne</td>\n",
              "      <td>Detroit</td>\n",
              "      <td>ELIZA-NR</td>\n",
              "      <td>Carbon monoxide</td>\n",
              "      <td>Parts per million</td>\n",
              "      <td>0.616667</td>\n",
              "      <td>11</td>\n",
              "    </tr>\n",
              "    <tr>\n",
              "      <th>192</th>\n",
              "      <td>192</td>\n",
              "      <td>2018-01-01</td>\n",
              "      <td>Michigan</td>\n",
              "      <td>Wayne</td>\n",
              "      <td>Allen Park</td>\n",
              "      <td>Allen Park</td>\n",
              "      <td>Carbon monoxide</td>\n",
              "      <td>Parts per million</td>\n",
              "      <td>0.811111</td>\n",
              "      <td>13</td>\n",
              "    </tr>\n",
              "  </tbody>\n",
              "</table>\n",
              "</div>\n",
              "    <div class=\"colab-df-buttons\">\n",
              "\n",
              "  <div class=\"colab-df-container\">\n",
              "    <button class=\"colab-df-convert\" onclick=\"convertToInteractive('df-3dc05207-4007-447e-92fc-a88c5b1b7c65')\"\n",
              "            title=\"Convert this dataframe to an interactive table.\"\n",
              "            style=\"display:none;\">\n",
              "\n",
              "  <svg xmlns=\"http://www.w3.org/2000/svg\" height=\"24px\" viewBox=\"0 -960 960 960\">\n",
              "    <path d=\"M120-120v-720h720v720H120Zm60-500h600v-160H180v160Zm220 220h160v-160H400v160Zm0 220h160v-160H400v160ZM180-400h160v-160H180v160Zm440 0h160v-160H620v160ZM180-180h160v-160H180v160Zm440 0h160v-160H620v160Z\"/>\n",
              "  </svg>\n",
              "    </button>\n",
              "\n",
              "  <style>\n",
              "    .colab-df-container {\n",
              "      display:flex;\n",
              "      gap: 12px;\n",
              "    }\n",
              "\n",
              "    .colab-df-convert {\n",
              "      background-color: #E8F0FE;\n",
              "      border: none;\n",
              "      border-radius: 50%;\n",
              "      cursor: pointer;\n",
              "      display: none;\n",
              "      fill: #1967D2;\n",
              "      height: 32px;\n",
              "      padding: 0 0 0 0;\n",
              "      width: 32px;\n",
              "    }\n",
              "\n",
              "    .colab-df-convert:hover {\n",
              "      background-color: #E2EBFA;\n",
              "      box-shadow: 0px 1px 2px rgba(60, 64, 67, 0.3), 0px 1px 3px 1px rgba(60, 64, 67, 0.15);\n",
              "      fill: #174EA6;\n",
              "    }\n",
              "\n",
              "    .colab-df-buttons div {\n",
              "      margin-bottom: 4px;\n",
              "    }\n",
              "\n",
              "    [theme=dark] .colab-df-convert {\n",
              "      background-color: #3B4455;\n",
              "      fill: #D2E3FC;\n",
              "    }\n",
              "\n",
              "    [theme=dark] .colab-df-convert:hover {\n",
              "      background-color: #434B5C;\n",
              "      box-shadow: 0px 1px 3px 1px rgba(0, 0, 0, 0.15);\n",
              "      filter: drop-shadow(0px 1px 2px rgba(0, 0, 0, 0.3));\n",
              "      fill: #FFFFFF;\n",
              "    }\n",
              "  </style>\n",
              "\n",
              "    <script>\n",
              "      const buttonEl =\n",
              "        document.querySelector('#df-3dc05207-4007-447e-92fc-a88c5b1b7c65 button.colab-df-convert');\n",
              "      buttonEl.style.display =\n",
              "        google.colab.kernel.accessAllowed ? 'block' : 'none';\n",
              "\n",
              "      async function convertToInteractive(key) {\n",
              "        const element = document.querySelector('#df-3dc05207-4007-447e-92fc-a88c5b1b7c65');\n",
              "        const dataTable =\n",
              "          await google.colab.kernel.invokeFunction('convertToInteractive',\n",
              "                                                    [key], {});\n",
              "        if (!dataTable) return;\n",
              "\n",
              "        const docLinkHtml = 'Like what you see? Visit the ' +\n",
              "          '<a target=\"_blank\" href=https://colab.research.google.com/notebooks/data_table.ipynb>data table notebook</a>'\n",
              "          + ' to learn more about interactive tables.';\n",
              "        element.innerHTML = '';\n",
              "        dataTable['output_type'] = 'display_data';\n",
              "        await google.colab.output.renderOutput(dataTable, element);\n",
              "        const docLink = document.createElement('div');\n",
              "        docLink.innerHTML = docLinkHtml;\n",
              "        element.appendChild(docLink);\n",
              "      }\n",
              "    </script>\n",
              "  </div>\n",
              "\n",
              "\n",
              "<div id=\"df-5ee5a3ab-1548-4b99-a218-9f9a6b6d3222\">\n",
              "  <button class=\"colab-df-quickchart\" onclick=\"quickchart('df-5ee5a3ab-1548-4b99-a218-9f9a6b6d3222')\"\n",
              "            title=\"Suggest charts\"\n",
              "            style=\"display:none;\">\n",
              "\n",
              "<svg xmlns=\"http://www.w3.org/2000/svg\" height=\"24px\"viewBox=\"0 0 24 24\"\n",
              "     width=\"24px\">\n",
              "    <g>\n",
              "        <path d=\"M19 3H5c-1.1 0-2 .9-2 2v14c0 1.1.9 2 2 2h14c1.1 0 2-.9 2-2V5c0-1.1-.9-2-2-2zM9 17H7v-7h2v7zm4 0h-2V7h2v10zm4 0h-2v-4h2v4z\"/>\n",
              "    </g>\n",
              "</svg>\n",
              "  </button>\n",
              "\n",
              "<style>\n",
              "  .colab-df-quickchart {\n",
              "      --bg-color: #E8F0FE;\n",
              "      --fill-color: #1967D2;\n",
              "      --hover-bg-color: #E2EBFA;\n",
              "      --hover-fill-color: #174EA6;\n",
              "      --disabled-fill-color: #AAA;\n",
              "      --disabled-bg-color: #DDD;\n",
              "  }\n",
              "\n",
              "  [theme=dark] .colab-df-quickchart {\n",
              "      --bg-color: #3B4455;\n",
              "      --fill-color: #D2E3FC;\n",
              "      --hover-bg-color: #434B5C;\n",
              "      --hover-fill-color: #FFFFFF;\n",
              "      --disabled-bg-color: #3B4455;\n",
              "      --disabled-fill-color: #666;\n",
              "  }\n",
              "\n",
              "  .colab-df-quickchart {\n",
              "    background-color: var(--bg-color);\n",
              "    border: none;\n",
              "    border-radius: 50%;\n",
              "    cursor: pointer;\n",
              "    display: none;\n",
              "    fill: var(--fill-color);\n",
              "    height: 32px;\n",
              "    padding: 0;\n",
              "    width: 32px;\n",
              "  }\n",
              "\n",
              "  .colab-df-quickchart:hover {\n",
              "    background-color: var(--hover-bg-color);\n",
              "    box-shadow: 0 1px 2px rgba(60, 64, 67, 0.3), 0 1px 3px 1px rgba(60, 64, 67, 0.15);\n",
              "    fill: var(--button-hover-fill-color);\n",
              "  }\n",
              "\n",
              "  .colab-df-quickchart-complete:disabled,\n",
              "  .colab-df-quickchart-complete:disabled:hover {\n",
              "    background-color: var(--disabled-bg-color);\n",
              "    fill: var(--disabled-fill-color);\n",
              "    box-shadow: none;\n",
              "  }\n",
              "\n",
              "  .colab-df-spinner {\n",
              "    border: 2px solid var(--fill-color);\n",
              "    border-color: transparent;\n",
              "    border-bottom-color: var(--fill-color);\n",
              "    animation:\n",
              "      spin 1s steps(1) infinite;\n",
              "  }\n",
              "\n",
              "  @keyframes spin {\n",
              "    0% {\n",
              "      border-color: transparent;\n",
              "      border-bottom-color: var(--fill-color);\n",
              "      border-left-color: var(--fill-color);\n",
              "    }\n",
              "    20% {\n",
              "      border-color: transparent;\n",
              "      border-left-color: var(--fill-color);\n",
              "      border-top-color: var(--fill-color);\n",
              "    }\n",
              "    30% {\n",
              "      border-color: transparent;\n",
              "      border-left-color: var(--fill-color);\n",
              "      border-top-color: var(--fill-color);\n",
              "      border-right-color: var(--fill-color);\n",
              "    }\n",
              "    40% {\n",
              "      border-color: transparent;\n",
              "      border-right-color: var(--fill-color);\n",
              "      border-top-color: var(--fill-color);\n",
              "    }\n",
              "    60% {\n",
              "      border-color: transparent;\n",
              "      border-right-color: var(--fill-color);\n",
              "    }\n",
              "    80% {\n",
              "      border-color: transparent;\n",
              "      border-right-color: var(--fill-color);\n",
              "      border-bottom-color: var(--fill-color);\n",
              "    }\n",
              "    90% {\n",
              "      border-color: transparent;\n",
              "      border-bottom-color: var(--fill-color);\n",
              "    }\n",
              "  }\n",
              "</style>\n",
              "\n",
              "  <script>\n",
              "    async function quickchart(key) {\n",
              "      const quickchartButtonEl =\n",
              "        document.querySelector('#' + key + ' button');\n",
              "      quickchartButtonEl.disabled = true;  // To prevent multiple clicks.\n",
              "      quickchartButtonEl.classList.add('colab-df-spinner');\n",
              "      try {\n",
              "        const charts = await google.colab.kernel.invokeFunction(\n",
              "            'suggestCharts', [key], {});\n",
              "      } catch (error) {\n",
              "        console.error('Error during call to suggestCharts:', error);\n",
              "      }\n",
              "      quickchartButtonEl.classList.remove('colab-df-spinner');\n",
              "      quickchartButtonEl.classList.add('colab-df-quickchart-complete');\n",
              "    }\n",
              "    (() => {\n",
              "      let quickchartButtonEl =\n",
              "        document.querySelector('#df-5ee5a3ab-1548-4b99-a218-9f9a6b6d3222 button');\n",
              "      quickchartButtonEl.style.display =\n",
              "        google.colab.kernel.accessAllowed ? 'block' : 'none';\n",
              "    })();\n",
              "  </script>\n",
              "</div>\n",
              "\n",
              "    </div>\n",
              "  </div>\n"
            ],
            "application/vnd.google.colaboratory.intrinsic+json": {
              "type": "dataframe",
              "repr_error": "0"
            }
          },
          "metadata": {},
          "execution_count": 22
        }
      ],
      "source": [
        "# Create dataframes for each sample being compared in your test\n",
        "michigan_df = aqi[aqi['state_name'] == 'Michigan']\n",
        "michigan_df.head()\n",
        "### YOUR CODE HERE ###"
      ],
      "id": "559c43b4-ccb3-4a05-91d4-8f4aaee4d8b7"
    },
    {
      "cell_type": "markdown",
      "metadata": {
        "id": "170dd37b-b178-4ea0-8f75-04d312b83331"
      },
      "source": [
        "<details>\n",
        "  <summary><h4><strong>HINT 1</strong></h4></summary>\n",
        "\n",
        "  Consider referencing the material on subsetting dataframes.  \n",
        "</details>"
      ],
      "id": "170dd37b-b178-4ea0-8f75-04d312b83331"
    },
    {
      "cell_type": "markdown",
      "metadata": {
        "id": "63121346-1ff3-42ea-ab94-42838fd8c3e0"
      },
      "source": [
        "<details>\n",
        "  <summary><h4><strong>HINT 2</strong></h4></summary>\n",
        "\n",
        "  Consider creating one dataframe which only includes Michigan.\n",
        "</details>"
      ],
      "id": "63121346-1ff3-42ea-ab94-42838fd8c3e0"
    },
    {
      "cell_type": "markdown",
      "metadata": {
        "id": "6886d303-82ca-42c5-980c-3893868241eb"
      },
      "source": [
        "#### Formulate your hypothesis:"
      ],
      "id": "6886d303-82ca-42c5-980c-3893868241eb"
    },
    {
      "cell_type": "markdown",
      "metadata": {
        "id": "b25225ee-02d7-4d42-8746-9e68598b7bf6"
      },
      "source": [
        "**Formulate your null and alternative hypotheses here:**\n",
        "\n",
        "*   $H_0$: The mean AQI of Michigan is less than or equal to 10.\n",
        "*   $H_A$: The mean AQI of Michigan is greater than 10.\n"
      ],
      "id": "b25225ee-02d7-4d42-8746-9e68598b7bf6"
    },
    {
      "cell_type": "markdown",
      "metadata": {
        "id": "32581125-a9ef-4b17-b8d5-0e1085d4c746"
      },
      "source": [
        "#### Significance Level (remains at 5%)"
      ],
      "id": "32581125-a9ef-4b17-b8d5-0e1085d4c746"
    },
    {
      "cell_type": "markdown",
      "metadata": {
        "id": "915f8cd0-d06b-44ab-81f6-0effa96fae09"
      },
      "source": [
        "#### Determine the appropriate test procedure:"
      ],
      "id": "915f8cd0-d06b-44ab-81f6-0effa96fae09"
    },
    {
      "cell_type": "markdown",
      "metadata": {
        "id": "6753e251-d152-48c9-a5ad-bd46b62636ee"
      },
      "source": [
        "Here, you are comparing one sample mean relative to a particular value in one direction. Therefore, you will utilize a **one-sample  𝑡-test**."
      ],
      "id": "6753e251-d152-48c9-a5ad-bd46b62636ee"
    },
    {
      "cell_type": "markdown",
      "metadata": {
        "id": "95443324-76bb-4473-b07b-dcc0c9be7251"
      },
      "source": [
        "#### Compute the P-value"
      ],
      "id": "95443324-76bb-4473-b07b-dcc0c9be7251"
    },
    {
      "cell_type": "code",
      "execution_count": 26,
      "metadata": {
        "id": "8b86c9f5-284a-4ed7-b2d4-2b531e0092f9",
        "tags": [],
        "colab": {
          "base_uri": "https://localhost:8080/"
        },
        "outputId": "5679640b-ffe5-41dc-da04-6e8c449d8832"
      },
      "outputs": [
        {
          "output_type": "execute_result",
          "data": {
            "text/plain": [
              "(-1.7395913343286131, 0.9399405193140109)"
            ]
          },
          "metadata": {},
          "execution_count": 26
        }
      ],
      "source": [
        "# Compute your p-value here\n",
        "tstat, pvalue = stats.ttest_1samp(a = michigan_df['aqi'], popmean = 10, alternative = 'greater')\n",
        "tstat, pvalue\n",
        "### YOUR CODE HERE ###"
      ],
      "id": "8b86c9f5-284a-4ed7-b2d4-2b531e0092f9"
    },
    {
      "cell_type": "markdown",
      "metadata": {
        "id": "1a1a64bb-7517-456b-a485-7de62754df68"
      },
      "source": [
        "<details>\n",
        "  <summary><h4><strong>HINT 1</strong></h4></summary>\n",
        "\n",
        "  Consider referencing the material on how to perform a one-sample t-test.\n",
        "</details>"
      ],
      "id": "1a1a64bb-7517-456b-a485-7de62754df68"
    },
    {
      "cell_type": "markdown",
      "metadata": {
        "id": "695247c4-693d-427a-8b61-570aba635b18"
      },
      "source": [
        "<details>\n",
        "  <summary><h4><strong>HINT 2</strong></h4></summary>\n",
        "\n",
        "  In `ttest_1samp)`, you are comparing the aqi column from your Michigan data relative to 10, the new policy threshold.\n",
        "</details>"
      ],
      "id": "695247c4-693d-427a-8b61-570aba635b18"
    },
    {
      "cell_type": "markdown",
      "metadata": {
        "id": "e21ffe2e-bcd3-495e-9924-6f21d15494cb"
      },
      "source": [
        "<details>\n",
        "  <summary><h4><strong>HINT 3</strong></h4></summary>\n",
        "\n",
        "  You can assign `tstat`, `pvalue` to the output of `ttest_1samp`. Be sure to include `alternative = greater` as part of your code.  \n",
        "\n",
        "</details>"
      ],
      "id": "e21ffe2e-bcd3-495e-9924-6f21d15494cb"
    },
    {
      "cell_type": "markdown",
      "metadata": {
        "id": "33175451-2fed-4105-8a46-1bfb0ad3b714"
      },
      "source": [
        "#### **Question 4. What is your P-value for hypothesis 3, and what does this indicate for your null hypothesis?**"
      ],
      "id": "33175451-2fed-4105-8a46-1bfb0ad3b714"
    },
    {
      "cell_type": "markdown",
      "metadata": {
        "id": "Li8YaXdqJuBF"
      },
      "source": [
        "pvalue = 0.93\n",
        "we fail to reject the null hypothesis."
      ],
      "id": "Li8YaXdqJuBF"
    },
    {
      "cell_type": "markdown",
      "metadata": {
        "id": "oS3JWcpU127z"
      },
      "source": [
        "## Step 4. Results and Evaluation\n",
        "\n",
        "Now that you've completed your statistical tests, you can consider your hypotheses and the results you gathered."
      ],
      "id": "oS3JWcpU127z"
    },
    {
      "cell_type": "markdown",
      "metadata": {
        "id": "q2p_8BmC16V-"
      },
      "source": [
        "#### **Question 5. Did your results show that the AQI in Los Angeles County was statistically different from the rest of California?**"
      ],
      "id": "q2p_8BmC16V-"
    },
    {
      "cell_type": "markdown",
      "metadata": {
        "id": "US0JnLp3JrfX"
      },
      "source": [
        " There is a difference in the mean AQI between Los Angeles County and the rest of California.\n",
        "\n",
        " we reject the null hypothesis."
      ],
      "id": "US0JnLp3JrfX"
    },
    {
      "cell_type": "markdown",
      "metadata": {
        "id": "G7-YawsW68Yd"
      },
      "source": [
        "#### **Question 6. Did New York or Ohio have a lower AQI?**"
      ],
      "id": "G7-YawsW68Yd"
    },
    {
      "cell_type": "markdown",
      "metadata": {
        "id": "zzSBoJwMJpgG"
      },
      "source": [
        "The mean AQI of New York is below that of Ohio.\n",
        "\n",
        "we reject the null hypothesis."
      ],
      "id": "zzSBoJwMJpgG"
    },
    {
      "cell_type": "markdown",
      "metadata": {
        "id": "ppAmh9nD7HkZ"
      },
      "source": [
        "#### **Question 7: Will Michigan be affected by the new policy impacting states with a mean AQI of 10 or greater?**\n",
        "\n"
      ],
      "id": "ppAmh9nD7HkZ"
    },
    {
      "cell_type": "markdown",
      "metadata": {
        "id": "1nfqgTngJnLV"
      },
      "source": [
        "The mean AQI of Michigan is less than or equal to 10.\n",
        "\n",
        "we fail to reject the null hypothesis."
      ],
      "id": "1nfqgTngJnLV"
    },
    {
      "cell_type": "markdown",
      "metadata": {
        "id": "e2bf2c48-c712-4310-a83e-96a13edc4da1"
      },
      "source": [
        "# Conclusion\n",
        "\n",
        "**What are key takeaways from this lab?**\n",
        "\n",
        "**What would you consider presenting to your manager as part of your findings?**\n",
        "\n",
        "**What would you convey to external stakeholders?**\n"
      ],
      "id": "e2bf2c48-c712-4310-a83e-96a13edc4da1"
    },
    {
      "cell_type": "markdown",
      "metadata": {
        "id": "fjBy128jB6IN"
      },
      "source": [
        "**Congratulations!** You've completed this lab. However, you may not notice a green check mark next to this item on Coursera's platform. Please continue your progress regardless of the check mark. Just click on the \"save\" icon at the top of this notebook to ensure your work has been logged."
      ],
      "id": "fjBy128jB6IN"
    }
  ],
  "metadata": {
    "colab": {
      "collapsed_sections": [
        "b12559f5-bd57-4664-be80-7208ca8818b4",
        "32581125-a9ef-4b17-b8d5-0e1085d4c746"
      ],
      "provenance": [],
      "include_colab_link": true
    },
    "kernelspec": {
      "display_name": "Python 3",
      "language": "python",
      "name": "python3"
    },
    "language_info": {
      "codemirror_mode": {
        "name": "ipython",
        "version": 3
      },
      "file_extension": ".py",
      "mimetype": "text/x-python",
      "name": "python",
      "nbconvert_exporter": "python",
      "pygments_lexer": "ipython3",
      "version": "3.7.6"
    }
  },
  "nbformat": 4,
  "nbformat_minor": 5
}