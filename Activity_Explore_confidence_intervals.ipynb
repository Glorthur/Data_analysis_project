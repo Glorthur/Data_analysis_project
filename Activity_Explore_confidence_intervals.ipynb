{
  "cells": [
    {
      "cell_type": "markdown",
      "metadata": {
        "id": "view-in-github",
        "colab_type": "text"
      },
      "source": [
        "<a href=\"https://colab.research.google.com/github/Glorthur/Data_analysis_project/blob/main/Activity_Explore_confidence_intervals.ipynb\" target=\"_parent\"><img src=\"https://colab.research.google.com/assets/colab-badge.svg\" alt=\"Open In Colab\"/></a>"
      ]
    },
    {
      "cell_type": "markdown",
      "metadata": {
        "id": "d25eed62-5910-4d10-a976-c18c4f7d99f7"
      },
      "source": [
        "# Activity: Explore confidence intervals"
      ],
      "id": "d25eed62-5910-4d10-a976-c18c4f7d99f7"
    },
    {
      "cell_type": "markdown",
      "metadata": {
        "id": "b50579ec-09df-4bb1-ad5a-d28f4790ca16"
      },
      "source": [
        "## Introduction"
      ],
      "id": "b50579ec-09df-4bb1-ad5a-d28f4790ca16"
    },
    {
      "cell_type": "markdown",
      "metadata": {
        "id": "6a8992ac-22d5-41db-aa09-263b464950e0"
      },
      "source": [
        "The Air Quality Index (AQI) is the Environmental Protection Agency's index for reporting air quality. A value close to 0 signals little to no public health concern, while higher values are associated with increased risk to public health. The United States is considering a new federal policy that would create a subsidy for renewable energy in states observing an average AQI of 10 or above. <br>\n",
        "\n",
        "You've just started your new role as a data analyst in the Strategy division of Ripple Renewable Energy (RRE). **RRE operates in the following U.S. states: `California`, `Florida`, `Michigan`, `Ohio`, `Pennsylvania`, `Texas`.** You've been tasked with constructing an analysis which identifies which of these states are most likely to be affected, should the new federal policy be enacted."
      ],
      "id": "6a8992ac-22d5-41db-aa09-263b464950e0"
    },
    {
      "cell_type": "markdown",
      "metadata": {
        "id": "6e4e3b8a-b5f9-4fe1-a824-0bd3aece693c"
      },
      "source": [
        "Your manager has requested that you do the following for your analysis:\n",
        "1. Provide a summary of the mean AQI for the states in which RRE operates.\n",
        "2. Construct a boxplot visualization for AQI of these states using `seaborn`.\n",
        "3. Evaluate which state(s) may be most affected by this policy, based on the data and your boxplot visualization.\n",
        "4. Construct a confidence interval for the RRE state with the highest mean AQI."
      ],
      "id": "6e4e3b8a-b5f9-4fe1-a824-0bd3aece693c"
    },
    {
      "cell_type": "markdown",
      "metadata": {
        "id": "3b4dc9a5-d724-4696-a704-57fefa9d5938"
      },
      "source": [
        "## Step 1: Imports\n",
        "\n",
        "### Import packages\n",
        "\n",
        "Import `pandas` and `numpy`."
      ],
      "id": "3b4dc9a5-d724-4696-a704-57fefa9d5938"
    },
    {
      "cell_type": "code",
      "execution_count": 2,
      "metadata": {
        "id": "0b3d0e1c-23b9-4491-82a5-ac1e4bd36f30"
      },
      "outputs": [],
      "source": [
        "# Import relevant packages\n",
        "import pandas as pd\n",
        "import numpy as np\n",
        "import seaborn as sns\n",
        "from scipy import stats\n",
        "### YOUR CODE HERE ###"
      ],
      "id": "0b3d0e1c-23b9-4491-82a5-ac1e4bd36f30"
    },
    {
      "cell_type": "code",
      "source": [
        "from google.colab import drive\n",
        "drive.mount('/content/drive')\n"
      ],
      "metadata": {
        "colab": {
          "base_uri": "https://localhost:8080/"
        },
        "id": "Orr13bULVW6l",
        "outputId": "6ac8ee2e-2340-407c-b8d6-f3b2abefa950"
      },
      "id": "Orr13bULVW6l",
      "execution_count": 3,
      "outputs": [
        {
          "output_type": "stream",
          "name": "stdout",
          "text": [
            "Mounted at /content/drive\n"
          ]
        }
      ]
    },
    {
      "cell_type": "markdown",
      "metadata": {
        "id": "a4f7c0d0-027e-475a-bce5-ad96d059cd04"
      },
      "source": [
        "### Load the dataset\n",
        "\n",
        "The dataset provided gives national Air Quality Index (AQI) measurements by state over time.  `Pandas` is used to import the file `c4_epa_air_quality.csv` as a DataFrame named `aqi`. As shown in this cell, the dataset has been automatically loaded in for you. You do not need to download the .csv file, or provide more code, in order to access the dataset and proceed with this lab. Please continue with this activity by completing the following instructions.\n",
        "\n",
        "*Note: For the purposes of your analysis, you can assume this data is randomly sampled from a larger population.*"
      ],
      "id": "a4f7c0d0-027e-475a-bce5-ad96d059cd04"
    },
    {
      "cell_type": "code",
      "execution_count": 4,
      "metadata": {
        "id": "1ce82ed7-cf32-4028-ac77-a377e7638458",
        "tags": [],
        "colab": {
          "base_uri": "https://localhost:8080/"
        },
        "outputId": "db787aa7-635f-4552-e80d-271c041e77ee"
      },
      "outputs": [
        {
          "output_type": "stream",
          "name": "stdout",
          "text": [
            "/content/drive/MyDrive/Coursera/Files/home/jovyan/work\n"
          ]
        }
      ],
      "source": [
        "# RUN THIS CELL TO IMPORT YOUR DATA\n",
        "%cd /content/drive/MyDrive/Coursera/Files/home/jovyan/work\n",
        "### YOUR CODE HERE ###\n",
        "aqi = pd.read_csv('c4_epa_air_quality.csv')"
      ],
      "id": "1ce82ed7-cf32-4028-ac77-a377e7638458"
    },
    {
      "cell_type": "markdown",
      "metadata": {
        "id": "JLW4ftpm15LA"
      },
      "source": [
        "## Step 2: Data exploration"
      ],
      "id": "JLW4ftpm15LA"
    },
    {
      "cell_type": "markdown",
      "metadata": {
        "id": "c1ee0813-5e74-4564-8ea1-8d724700754a"
      },
      "source": [
        "### Explore your dataset\n",
        "\n",
        "Before proceeding to your deliverables, spend some time exploring the `aqi` DataFrame."
      ],
      "id": "c1ee0813-5e74-4564-8ea1-8d724700754a"
    },
    {
      "cell_type": "code",
      "execution_count": 5,
      "metadata": {
        "id": "0444122d-6fba-4051-8b09-b15392aacebf",
        "colab": {
          "base_uri": "https://localhost:8080/",
          "height": 310
        },
        "outputId": "69cc7dc3-1283-40b0-a7ca-abc8cbc6c9b1"
      },
      "outputs": [
        {
          "output_type": "execute_result",
          "data": {
            "text/plain": [
              "   Unnamed: 0  date_local    state_name   county_name      city_name  \\\n",
              "0           0  2018-01-01       Arizona      Maricopa        Buckeye   \n",
              "1           1  2018-01-01          Ohio       Belmont      Shadyside   \n",
              "2           2  2018-01-01       Wyoming         Teton  Not in a city   \n",
              "3           3  2018-01-01  Pennsylvania  Philadelphia   Philadelphia   \n",
              "4           4  2018-01-01          Iowa          Polk     Des Moines   \n",
              "\n",
              "                                     local_site_name   parameter_name  \\\n",
              "0                                            BUCKEYE  Carbon monoxide   \n",
              "1                                          Shadyside  Carbon monoxide   \n",
              "2  Yellowstone National Park - Old Faithful Snow ...  Carbon monoxide   \n",
              "3                             North East Waste (NEW)  Carbon monoxide   \n",
              "4                                          CARPENTER  Carbon monoxide   \n",
              "\n",
              "    units_of_measure  arithmetic_mean  aqi  \n",
              "0  Parts per million         0.473684    7  \n",
              "1  Parts per million         0.263158    5  \n",
              "2  Parts per million         0.111111    2  \n",
              "3  Parts per million         0.300000    3  \n",
              "4  Parts per million         0.215789    3  "
            ],
            "text/html": [
              "\n",
              "  <div id=\"df-67e7c704-3875-4514-881b-356b85d7ceb5\" class=\"colab-df-container\">\n",
              "    <div>\n",
              "<style scoped>\n",
              "    .dataframe tbody tr th:only-of-type {\n",
              "        vertical-align: middle;\n",
              "    }\n",
              "\n",
              "    .dataframe tbody tr th {\n",
              "        vertical-align: top;\n",
              "    }\n",
              "\n",
              "    .dataframe thead th {\n",
              "        text-align: right;\n",
              "    }\n",
              "</style>\n",
              "<table border=\"1\" class=\"dataframe\">\n",
              "  <thead>\n",
              "    <tr style=\"text-align: right;\">\n",
              "      <th></th>\n",
              "      <th>Unnamed: 0</th>\n",
              "      <th>date_local</th>\n",
              "      <th>state_name</th>\n",
              "      <th>county_name</th>\n",
              "      <th>city_name</th>\n",
              "      <th>local_site_name</th>\n",
              "      <th>parameter_name</th>\n",
              "      <th>units_of_measure</th>\n",
              "      <th>arithmetic_mean</th>\n",
              "      <th>aqi</th>\n",
              "    </tr>\n",
              "  </thead>\n",
              "  <tbody>\n",
              "    <tr>\n",
              "      <th>0</th>\n",
              "      <td>0</td>\n",
              "      <td>2018-01-01</td>\n",
              "      <td>Arizona</td>\n",
              "      <td>Maricopa</td>\n",
              "      <td>Buckeye</td>\n",
              "      <td>BUCKEYE</td>\n",
              "      <td>Carbon monoxide</td>\n",
              "      <td>Parts per million</td>\n",
              "      <td>0.473684</td>\n",
              "      <td>7</td>\n",
              "    </tr>\n",
              "    <tr>\n",
              "      <th>1</th>\n",
              "      <td>1</td>\n",
              "      <td>2018-01-01</td>\n",
              "      <td>Ohio</td>\n",
              "      <td>Belmont</td>\n",
              "      <td>Shadyside</td>\n",
              "      <td>Shadyside</td>\n",
              "      <td>Carbon monoxide</td>\n",
              "      <td>Parts per million</td>\n",
              "      <td>0.263158</td>\n",
              "      <td>5</td>\n",
              "    </tr>\n",
              "    <tr>\n",
              "      <th>2</th>\n",
              "      <td>2</td>\n",
              "      <td>2018-01-01</td>\n",
              "      <td>Wyoming</td>\n",
              "      <td>Teton</td>\n",
              "      <td>Not in a city</td>\n",
              "      <td>Yellowstone National Park - Old Faithful Snow ...</td>\n",
              "      <td>Carbon monoxide</td>\n",
              "      <td>Parts per million</td>\n",
              "      <td>0.111111</td>\n",
              "      <td>2</td>\n",
              "    </tr>\n",
              "    <tr>\n",
              "      <th>3</th>\n",
              "      <td>3</td>\n",
              "      <td>2018-01-01</td>\n",
              "      <td>Pennsylvania</td>\n",
              "      <td>Philadelphia</td>\n",
              "      <td>Philadelphia</td>\n",
              "      <td>North East Waste (NEW)</td>\n",
              "      <td>Carbon monoxide</td>\n",
              "      <td>Parts per million</td>\n",
              "      <td>0.300000</td>\n",
              "      <td>3</td>\n",
              "    </tr>\n",
              "    <tr>\n",
              "      <th>4</th>\n",
              "      <td>4</td>\n",
              "      <td>2018-01-01</td>\n",
              "      <td>Iowa</td>\n",
              "      <td>Polk</td>\n",
              "      <td>Des Moines</td>\n",
              "      <td>CARPENTER</td>\n",
              "      <td>Carbon monoxide</td>\n",
              "      <td>Parts per million</td>\n",
              "      <td>0.215789</td>\n",
              "      <td>3</td>\n",
              "    </tr>\n",
              "  </tbody>\n",
              "</table>\n",
              "</div>\n",
              "    <div class=\"colab-df-buttons\">\n",
              "\n",
              "  <div class=\"colab-df-container\">\n",
              "    <button class=\"colab-df-convert\" onclick=\"convertToInteractive('df-67e7c704-3875-4514-881b-356b85d7ceb5')\"\n",
              "            title=\"Convert this dataframe to an interactive table.\"\n",
              "            style=\"display:none;\">\n",
              "\n",
              "  <svg xmlns=\"http://www.w3.org/2000/svg\" height=\"24px\" viewBox=\"0 -960 960 960\">\n",
              "    <path d=\"M120-120v-720h720v720H120Zm60-500h600v-160H180v160Zm220 220h160v-160H400v160Zm0 220h160v-160H400v160ZM180-400h160v-160H180v160Zm440 0h160v-160H620v160ZM180-180h160v-160H180v160Zm440 0h160v-160H620v160Z\"/>\n",
              "  </svg>\n",
              "    </button>\n",
              "\n",
              "  <style>\n",
              "    .colab-df-container {\n",
              "      display:flex;\n",
              "      gap: 12px;\n",
              "    }\n",
              "\n",
              "    .colab-df-convert {\n",
              "      background-color: #E8F0FE;\n",
              "      border: none;\n",
              "      border-radius: 50%;\n",
              "      cursor: pointer;\n",
              "      display: none;\n",
              "      fill: #1967D2;\n",
              "      height: 32px;\n",
              "      padding: 0 0 0 0;\n",
              "      width: 32px;\n",
              "    }\n",
              "\n",
              "    .colab-df-convert:hover {\n",
              "      background-color: #E2EBFA;\n",
              "      box-shadow: 0px 1px 2px rgba(60, 64, 67, 0.3), 0px 1px 3px 1px rgba(60, 64, 67, 0.15);\n",
              "      fill: #174EA6;\n",
              "    }\n",
              "\n",
              "    .colab-df-buttons div {\n",
              "      margin-bottom: 4px;\n",
              "    }\n",
              "\n",
              "    [theme=dark] .colab-df-convert {\n",
              "      background-color: #3B4455;\n",
              "      fill: #D2E3FC;\n",
              "    }\n",
              "\n",
              "    [theme=dark] .colab-df-convert:hover {\n",
              "      background-color: #434B5C;\n",
              "      box-shadow: 0px 1px 3px 1px rgba(0, 0, 0, 0.15);\n",
              "      filter: drop-shadow(0px 1px 2px rgba(0, 0, 0, 0.3));\n",
              "      fill: #FFFFFF;\n",
              "    }\n",
              "  </style>\n",
              "\n",
              "    <script>\n",
              "      const buttonEl =\n",
              "        document.querySelector('#df-67e7c704-3875-4514-881b-356b85d7ceb5 button.colab-df-convert');\n",
              "      buttonEl.style.display =\n",
              "        google.colab.kernel.accessAllowed ? 'block' : 'none';\n",
              "\n",
              "      async function convertToInteractive(key) {\n",
              "        const element = document.querySelector('#df-67e7c704-3875-4514-881b-356b85d7ceb5');\n",
              "        const dataTable =\n",
              "          await google.colab.kernel.invokeFunction('convertToInteractive',\n",
              "                                                    [key], {});\n",
              "        if (!dataTable) return;\n",
              "\n",
              "        const docLinkHtml = 'Like what you see? Visit the ' +\n",
              "          '<a target=\"_blank\" href=https://colab.research.google.com/notebooks/data_table.ipynb>data table notebook</a>'\n",
              "          + ' to learn more about interactive tables.';\n",
              "        element.innerHTML = '';\n",
              "        dataTable['output_type'] = 'display_data';\n",
              "        await google.colab.output.renderOutput(dataTable, element);\n",
              "        const docLink = document.createElement('div');\n",
              "        docLink.innerHTML = docLinkHtml;\n",
              "        element.appendChild(docLink);\n",
              "      }\n",
              "    </script>\n",
              "  </div>\n",
              "\n",
              "\n",
              "<div id=\"df-d26ff617-3f9a-471a-8963-e1711feab6e7\">\n",
              "  <button class=\"colab-df-quickchart\" onclick=\"quickchart('df-d26ff617-3f9a-471a-8963-e1711feab6e7')\"\n",
              "            title=\"Suggest charts\"\n",
              "            style=\"display:none;\">\n",
              "\n",
              "<svg xmlns=\"http://www.w3.org/2000/svg\" height=\"24px\"viewBox=\"0 0 24 24\"\n",
              "     width=\"24px\">\n",
              "    <g>\n",
              "        <path d=\"M19 3H5c-1.1 0-2 .9-2 2v14c0 1.1.9 2 2 2h14c1.1 0 2-.9 2-2V5c0-1.1-.9-2-2-2zM9 17H7v-7h2v7zm4 0h-2V7h2v10zm4 0h-2v-4h2v4z\"/>\n",
              "    </g>\n",
              "</svg>\n",
              "  </button>\n",
              "\n",
              "<style>\n",
              "  .colab-df-quickchart {\n",
              "      --bg-color: #E8F0FE;\n",
              "      --fill-color: #1967D2;\n",
              "      --hover-bg-color: #E2EBFA;\n",
              "      --hover-fill-color: #174EA6;\n",
              "      --disabled-fill-color: #AAA;\n",
              "      --disabled-bg-color: #DDD;\n",
              "  }\n",
              "\n",
              "  [theme=dark] .colab-df-quickchart {\n",
              "      --bg-color: #3B4455;\n",
              "      --fill-color: #D2E3FC;\n",
              "      --hover-bg-color: #434B5C;\n",
              "      --hover-fill-color: #FFFFFF;\n",
              "      --disabled-bg-color: #3B4455;\n",
              "      --disabled-fill-color: #666;\n",
              "  }\n",
              "\n",
              "  .colab-df-quickchart {\n",
              "    background-color: var(--bg-color);\n",
              "    border: none;\n",
              "    border-radius: 50%;\n",
              "    cursor: pointer;\n",
              "    display: none;\n",
              "    fill: var(--fill-color);\n",
              "    height: 32px;\n",
              "    padding: 0;\n",
              "    width: 32px;\n",
              "  }\n",
              "\n",
              "  .colab-df-quickchart:hover {\n",
              "    background-color: var(--hover-bg-color);\n",
              "    box-shadow: 0 1px 2px rgba(60, 64, 67, 0.3), 0 1px 3px 1px rgba(60, 64, 67, 0.15);\n",
              "    fill: var(--button-hover-fill-color);\n",
              "  }\n",
              "\n",
              "  .colab-df-quickchart-complete:disabled,\n",
              "  .colab-df-quickchart-complete:disabled:hover {\n",
              "    background-color: var(--disabled-bg-color);\n",
              "    fill: var(--disabled-fill-color);\n",
              "    box-shadow: none;\n",
              "  }\n",
              "\n",
              "  .colab-df-spinner {\n",
              "    border: 2px solid var(--fill-color);\n",
              "    border-color: transparent;\n",
              "    border-bottom-color: var(--fill-color);\n",
              "    animation:\n",
              "      spin 1s steps(1) infinite;\n",
              "  }\n",
              "\n",
              "  @keyframes spin {\n",
              "    0% {\n",
              "      border-color: transparent;\n",
              "      border-bottom-color: var(--fill-color);\n",
              "      border-left-color: var(--fill-color);\n",
              "    }\n",
              "    20% {\n",
              "      border-color: transparent;\n",
              "      border-left-color: var(--fill-color);\n",
              "      border-top-color: var(--fill-color);\n",
              "    }\n",
              "    30% {\n",
              "      border-color: transparent;\n",
              "      border-left-color: var(--fill-color);\n",
              "      border-top-color: var(--fill-color);\n",
              "      border-right-color: var(--fill-color);\n",
              "    }\n",
              "    40% {\n",
              "      border-color: transparent;\n",
              "      border-right-color: var(--fill-color);\n",
              "      border-top-color: var(--fill-color);\n",
              "    }\n",
              "    60% {\n",
              "      border-color: transparent;\n",
              "      border-right-color: var(--fill-color);\n",
              "    }\n",
              "    80% {\n",
              "      border-color: transparent;\n",
              "      border-right-color: var(--fill-color);\n",
              "      border-bottom-color: var(--fill-color);\n",
              "    }\n",
              "    90% {\n",
              "      border-color: transparent;\n",
              "      border-bottom-color: var(--fill-color);\n",
              "    }\n",
              "  }\n",
              "</style>\n",
              "\n",
              "  <script>\n",
              "    async function quickchart(key) {\n",
              "      const quickchartButtonEl =\n",
              "        document.querySelector('#' + key + ' button');\n",
              "      quickchartButtonEl.disabled = true;  // To prevent multiple clicks.\n",
              "      quickchartButtonEl.classList.add('colab-df-spinner');\n",
              "      try {\n",
              "        const charts = await google.colab.kernel.invokeFunction(\n",
              "            'suggestCharts', [key], {});\n",
              "      } catch (error) {\n",
              "        console.error('Error during call to suggestCharts:', error);\n",
              "      }\n",
              "      quickchartButtonEl.classList.remove('colab-df-spinner');\n",
              "      quickchartButtonEl.classList.add('colab-df-quickchart-complete');\n",
              "    }\n",
              "    (() => {\n",
              "      let quickchartButtonEl =\n",
              "        document.querySelector('#df-d26ff617-3f9a-471a-8963-e1711feab6e7 button');\n",
              "      quickchartButtonEl.style.display =\n",
              "        google.colab.kernel.accessAllowed ? 'block' : 'none';\n",
              "    })();\n",
              "  </script>\n",
              "</div>\n",
              "\n",
              "    </div>\n",
              "  </div>\n"
            ],
            "application/vnd.google.colaboratory.intrinsic+json": {
              "type": "dataframe",
              "summary": "{\n  \"name\": \"### YOUR CODE HERE ###\",\n  \"rows\": 5,\n  \"fields\": [\n    {\n      \"column\": \"Unnamed: 0\",\n      \"properties\": {\n        \"dtype\": \"number\",\n        \"std\": 1,\n        \"min\": 0,\n        \"max\": 4,\n        \"num_unique_values\": 5,\n        \"samples\": [\n          1,\n          4,\n          2\n        ],\n        \"semantic_type\": \"\",\n        \"description\": \"\"\n      }\n    },\n    {\n      \"column\": \"date_local\",\n      \"properties\": {\n        \"dtype\": \"object\",\n        \"num_unique_values\": 1,\n        \"samples\": [\n          \"2018-01-01\"\n        ],\n        \"semantic_type\": \"\",\n        \"description\": \"\"\n      }\n    },\n    {\n      \"column\": \"state_name\",\n      \"properties\": {\n        \"dtype\": \"string\",\n        \"num_unique_values\": 5,\n        \"samples\": [\n          \"Ohio\"\n        ],\n        \"semantic_type\": \"\",\n        \"description\": \"\"\n      }\n    },\n    {\n      \"column\": \"county_name\",\n      \"properties\": {\n        \"dtype\": \"string\",\n        \"num_unique_values\": 5,\n        \"samples\": [\n          \"Belmont\"\n        ],\n        \"semantic_type\": \"\",\n        \"description\": \"\"\n      }\n    },\n    {\n      \"column\": \"city_name\",\n      \"properties\": {\n        \"dtype\": \"string\",\n        \"num_unique_values\": 5,\n        \"samples\": [\n          \"Shadyside\"\n        ],\n        \"semantic_type\": \"\",\n        \"description\": \"\"\n      }\n    },\n    {\n      \"column\": \"local_site_name\",\n      \"properties\": {\n        \"dtype\": \"string\",\n        \"num_unique_values\": 5,\n        \"samples\": [\n          \"Shadyside\"\n        ],\n        \"semantic_type\": \"\",\n        \"description\": \"\"\n      }\n    },\n    {\n      \"column\": \"parameter_name\",\n      \"properties\": {\n        \"dtype\": \"category\",\n        \"num_unique_values\": 1,\n        \"samples\": [\n          \"Carbon monoxide\"\n        ],\n        \"semantic_type\": \"\",\n        \"description\": \"\"\n      }\n    },\n    {\n      \"column\": \"units_of_measure\",\n      \"properties\": {\n        \"dtype\": \"category\",\n        \"num_unique_values\": 1,\n        \"samples\": [\n          \"Parts per million\"\n        ],\n        \"semantic_type\": \"\",\n        \"description\": \"\"\n      }\n    },\n    {\n      \"column\": \"arithmetic_mean\",\n      \"properties\": {\n        \"dtype\": \"number\",\n        \"std\": 0.13283520161199738,\n        \"min\": 0.111111,\n        \"max\": 0.473684,\n        \"num_unique_values\": 5,\n        \"samples\": [\n          0.263158\n        ],\n        \"semantic_type\": \"\",\n        \"description\": \"\"\n      }\n    },\n    {\n      \"column\": \"aqi\",\n      \"properties\": {\n        \"dtype\": \"number\",\n        \"std\": 2,\n        \"min\": 2,\n        \"max\": 7,\n        \"num_unique_values\": 4,\n        \"samples\": [\n          5\n        ],\n        \"semantic_type\": \"\",\n        \"description\": \"\"\n      }\n    }\n  ]\n}"
            }
          },
          "metadata": {},
          "execution_count": 5
        }
      ],
      "source": [
        "# Explore your DataFrame `aqi`.\n",
        "aqi.head()\n",
        "### YOUR CODE HERE ###"
      ],
      "id": "0444122d-6fba-4051-8b09-b15392aacebf"
    },
    {
      "cell_type": "markdown",
      "metadata": {
        "id": "DOPQ6EL9ZmrB"
      },
      "source": [
        "\n",
        "\n",
        "```\n",
        "# This is formatted as code\n",
        "```\n",
        "\n",
        "**Question:** What time range does this data cover?\n",
        "\n",
        "[Write your response here. Double-click (or enter) to edit.]\n"
      ],
      "id": "DOPQ6EL9ZmrB"
    },
    {
      "cell_type": "code",
      "source": [
        "# time range\n",
        "print(aqi['date_local'].min(), aqi['date_local'].max())\n"
      ],
      "metadata": {
        "colab": {
          "base_uri": "https://localhost:8080/"
        },
        "id": "aDwiBAqLWkan",
        "outputId": "fe96efff-b43d-4414-8d1f-190d34bc850d"
      },
      "id": "aDwiBAqLWkan",
      "execution_count": 10,
      "outputs": [
        {
          "output_type": "stream",
          "name": "stdout",
          "text": [
            "2018-01-01 2018-01-01\n"
          ]
        },
        {
          "output_type": "execute_result",
          "data": {
            "text/plain": [
              "DatetimeIndex(['2018-01-01'], dtype='datetime64[ns]', freq='D')"
            ]
          },
          "metadata": {},
          "execution_count": 10
        }
      ]
    },
    {
      "cell_type": "markdown",
      "metadata": {
        "id": "Sw0U5NWpZ1wp"
      },
      "source": [
        "**Question:** What are the minimum and maximum AQI values observed in the dataset?\n",
        "\n",
        "2018-01-01 2018-01-01"
      ],
      "id": "Sw0U5NWpZ1wp"
    },
    {
      "cell_type": "code",
      "source": [
        "aqi.describe()"
      ],
      "metadata": {
        "colab": {
          "base_uri": "https://localhost:8080/",
          "height": 300
        },
        "id": "THTpLIPZXmY9",
        "outputId": "7339f8ed-ce33-41a2-8025-769e29b9e09c"
      },
      "id": "THTpLIPZXmY9",
      "execution_count": 11,
      "outputs": [
        {
          "output_type": "execute_result",
          "data": {
            "text/plain": [
              "       Unnamed: 0  arithmetic_mean         aqi\n",
              "count  260.000000       260.000000  260.000000\n",
              "mean   129.500000         0.403169    6.757692\n",
              "std     75.199734         0.317902    7.061707\n",
              "min      0.000000         0.000000    0.000000\n",
              "25%     64.750000         0.200000    2.000000\n",
              "50%    129.500000         0.276315    5.000000\n",
              "75%    194.250000         0.516009    9.000000\n",
              "max    259.000000         1.921053   50.000000"
            ],
            "text/html": [
              "\n",
              "  <div id=\"df-1dfe4fe1-dfa6-4047-8c79-b18d8d6300ea\" class=\"colab-df-container\">\n",
              "    <div>\n",
              "<style scoped>\n",
              "    .dataframe tbody tr th:only-of-type {\n",
              "        vertical-align: middle;\n",
              "    }\n",
              "\n",
              "    .dataframe tbody tr th {\n",
              "        vertical-align: top;\n",
              "    }\n",
              "\n",
              "    .dataframe thead th {\n",
              "        text-align: right;\n",
              "    }\n",
              "</style>\n",
              "<table border=\"1\" class=\"dataframe\">\n",
              "  <thead>\n",
              "    <tr style=\"text-align: right;\">\n",
              "      <th></th>\n",
              "      <th>Unnamed: 0</th>\n",
              "      <th>arithmetic_mean</th>\n",
              "      <th>aqi</th>\n",
              "    </tr>\n",
              "  </thead>\n",
              "  <tbody>\n",
              "    <tr>\n",
              "      <th>count</th>\n",
              "      <td>260.000000</td>\n",
              "      <td>260.000000</td>\n",
              "      <td>260.000000</td>\n",
              "    </tr>\n",
              "    <tr>\n",
              "      <th>mean</th>\n",
              "      <td>129.500000</td>\n",
              "      <td>0.403169</td>\n",
              "      <td>6.757692</td>\n",
              "    </tr>\n",
              "    <tr>\n",
              "      <th>std</th>\n",
              "      <td>75.199734</td>\n",
              "      <td>0.317902</td>\n",
              "      <td>7.061707</td>\n",
              "    </tr>\n",
              "    <tr>\n",
              "      <th>min</th>\n",
              "      <td>0.000000</td>\n",
              "      <td>0.000000</td>\n",
              "      <td>0.000000</td>\n",
              "    </tr>\n",
              "    <tr>\n",
              "      <th>25%</th>\n",
              "      <td>64.750000</td>\n",
              "      <td>0.200000</td>\n",
              "      <td>2.000000</td>\n",
              "    </tr>\n",
              "    <tr>\n",
              "      <th>50%</th>\n",
              "      <td>129.500000</td>\n",
              "      <td>0.276315</td>\n",
              "      <td>5.000000</td>\n",
              "    </tr>\n",
              "    <tr>\n",
              "      <th>75%</th>\n",
              "      <td>194.250000</td>\n",
              "      <td>0.516009</td>\n",
              "      <td>9.000000</td>\n",
              "    </tr>\n",
              "    <tr>\n",
              "      <th>max</th>\n",
              "      <td>259.000000</td>\n",
              "      <td>1.921053</td>\n",
              "      <td>50.000000</td>\n",
              "    </tr>\n",
              "  </tbody>\n",
              "</table>\n",
              "</div>\n",
              "    <div class=\"colab-df-buttons\">\n",
              "\n",
              "  <div class=\"colab-df-container\">\n",
              "    <button class=\"colab-df-convert\" onclick=\"convertToInteractive('df-1dfe4fe1-dfa6-4047-8c79-b18d8d6300ea')\"\n",
              "            title=\"Convert this dataframe to an interactive table.\"\n",
              "            style=\"display:none;\">\n",
              "\n",
              "  <svg xmlns=\"http://www.w3.org/2000/svg\" height=\"24px\" viewBox=\"0 -960 960 960\">\n",
              "    <path d=\"M120-120v-720h720v720H120Zm60-500h600v-160H180v160Zm220 220h160v-160H400v160Zm0 220h160v-160H400v160ZM180-400h160v-160H180v160Zm440 0h160v-160H620v160ZM180-180h160v-160H180v160Zm440 0h160v-160H620v160Z\"/>\n",
              "  </svg>\n",
              "    </button>\n",
              "\n",
              "  <style>\n",
              "    .colab-df-container {\n",
              "      display:flex;\n",
              "      gap: 12px;\n",
              "    }\n",
              "\n",
              "    .colab-df-convert {\n",
              "      background-color: #E8F0FE;\n",
              "      border: none;\n",
              "      border-radius: 50%;\n",
              "      cursor: pointer;\n",
              "      display: none;\n",
              "      fill: #1967D2;\n",
              "      height: 32px;\n",
              "      padding: 0 0 0 0;\n",
              "      width: 32px;\n",
              "    }\n",
              "\n",
              "    .colab-df-convert:hover {\n",
              "      background-color: #E2EBFA;\n",
              "      box-shadow: 0px 1px 2px rgba(60, 64, 67, 0.3), 0px 1px 3px 1px rgba(60, 64, 67, 0.15);\n",
              "      fill: #174EA6;\n",
              "    }\n",
              "\n",
              "    .colab-df-buttons div {\n",
              "      margin-bottom: 4px;\n",
              "    }\n",
              "\n",
              "    [theme=dark] .colab-df-convert {\n",
              "      background-color: #3B4455;\n",
              "      fill: #D2E3FC;\n",
              "    }\n",
              "\n",
              "    [theme=dark] .colab-df-convert:hover {\n",
              "      background-color: #434B5C;\n",
              "      box-shadow: 0px 1px 3px 1px rgba(0, 0, 0, 0.15);\n",
              "      filter: drop-shadow(0px 1px 2px rgba(0, 0, 0, 0.3));\n",
              "      fill: #FFFFFF;\n",
              "    }\n",
              "  </style>\n",
              "\n",
              "    <script>\n",
              "      const buttonEl =\n",
              "        document.querySelector('#df-1dfe4fe1-dfa6-4047-8c79-b18d8d6300ea button.colab-df-convert');\n",
              "      buttonEl.style.display =\n",
              "        google.colab.kernel.accessAllowed ? 'block' : 'none';\n",
              "\n",
              "      async function convertToInteractive(key) {\n",
              "        const element = document.querySelector('#df-1dfe4fe1-dfa6-4047-8c79-b18d8d6300ea');\n",
              "        const dataTable =\n",
              "          await google.colab.kernel.invokeFunction('convertToInteractive',\n",
              "                                                    [key], {});\n",
              "        if (!dataTable) return;\n",
              "\n",
              "        const docLinkHtml = 'Like what you see? Visit the ' +\n",
              "          '<a target=\"_blank\" href=https://colab.research.google.com/notebooks/data_table.ipynb>data table notebook</a>'\n",
              "          + ' to learn more about interactive tables.';\n",
              "        element.innerHTML = '';\n",
              "        dataTable['output_type'] = 'display_data';\n",
              "        await google.colab.output.renderOutput(dataTable, element);\n",
              "        const docLink = document.createElement('div');\n",
              "        docLink.innerHTML = docLinkHtml;\n",
              "        element.appendChild(docLink);\n",
              "      }\n",
              "    </script>\n",
              "  </div>\n",
              "\n",
              "\n",
              "<div id=\"df-71495aec-691b-4c9c-9237-b9f50ab10d7c\">\n",
              "  <button class=\"colab-df-quickchart\" onclick=\"quickchart('df-71495aec-691b-4c9c-9237-b9f50ab10d7c')\"\n",
              "            title=\"Suggest charts\"\n",
              "            style=\"display:none;\">\n",
              "\n",
              "<svg xmlns=\"http://www.w3.org/2000/svg\" height=\"24px\"viewBox=\"0 0 24 24\"\n",
              "     width=\"24px\">\n",
              "    <g>\n",
              "        <path d=\"M19 3H5c-1.1 0-2 .9-2 2v14c0 1.1.9 2 2 2h14c1.1 0 2-.9 2-2V5c0-1.1-.9-2-2-2zM9 17H7v-7h2v7zm4 0h-2V7h2v10zm4 0h-2v-4h2v4z\"/>\n",
              "    </g>\n",
              "</svg>\n",
              "  </button>\n",
              "\n",
              "<style>\n",
              "  .colab-df-quickchart {\n",
              "      --bg-color: #E8F0FE;\n",
              "      --fill-color: #1967D2;\n",
              "      --hover-bg-color: #E2EBFA;\n",
              "      --hover-fill-color: #174EA6;\n",
              "      --disabled-fill-color: #AAA;\n",
              "      --disabled-bg-color: #DDD;\n",
              "  }\n",
              "\n",
              "  [theme=dark] .colab-df-quickchart {\n",
              "      --bg-color: #3B4455;\n",
              "      --fill-color: #D2E3FC;\n",
              "      --hover-bg-color: #434B5C;\n",
              "      --hover-fill-color: #FFFFFF;\n",
              "      --disabled-bg-color: #3B4455;\n",
              "      --disabled-fill-color: #666;\n",
              "  }\n",
              "\n",
              "  .colab-df-quickchart {\n",
              "    background-color: var(--bg-color);\n",
              "    border: none;\n",
              "    border-radius: 50%;\n",
              "    cursor: pointer;\n",
              "    display: none;\n",
              "    fill: var(--fill-color);\n",
              "    height: 32px;\n",
              "    padding: 0;\n",
              "    width: 32px;\n",
              "  }\n",
              "\n",
              "  .colab-df-quickchart:hover {\n",
              "    background-color: var(--hover-bg-color);\n",
              "    box-shadow: 0 1px 2px rgba(60, 64, 67, 0.3), 0 1px 3px 1px rgba(60, 64, 67, 0.15);\n",
              "    fill: var(--button-hover-fill-color);\n",
              "  }\n",
              "\n",
              "  .colab-df-quickchart-complete:disabled,\n",
              "  .colab-df-quickchart-complete:disabled:hover {\n",
              "    background-color: var(--disabled-bg-color);\n",
              "    fill: var(--disabled-fill-color);\n",
              "    box-shadow: none;\n",
              "  }\n",
              "\n",
              "  .colab-df-spinner {\n",
              "    border: 2px solid var(--fill-color);\n",
              "    border-color: transparent;\n",
              "    border-bottom-color: var(--fill-color);\n",
              "    animation:\n",
              "      spin 1s steps(1) infinite;\n",
              "  }\n",
              "\n",
              "  @keyframes spin {\n",
              "    0% {\n",
              "      border-color: transparent;\n",
              "      border-bottom-color: var(--fill-color);\n",
              "      border-left-color: var(--fill-color);\n",
              "    }\n",
              "    20% {\n",
              "      border-color: transparent;\n",
              "      border-left-color: var(--fill-color);\n",
              "      border-top-color: var(--fill-color);\n",
              "    }\n",
              "    30% {\n",
              "      border-color: transparent;\n",
              "      border-left-color: var(--fill-color);\n",
              "      border-top-color: var(--fill-color);\n",
              "      border-right-color: var(--fill-color);\n",
              "    }\n",
              "    40% {\n",
              "      border-color: transparent;\n",
              "      border-right-color: var(--fill-color);\n",
              "      border-top-color: var(--fill-color);\n",
              "    }\n",
              "    60% {\n",
              "      border-color: transparent;\n",
              "      border-right-color: var(--fill-color);\n",
              "    }\n",
              "    80% {\n",
              "      border-color: transparent;\n",
              "      border-right-color: var(--fill-color);\n",
              "      border-bottom-color: var(--fill-color);\n",
              "    }\n",
              "    90% {\n",
              "      border-color: transparent;\n",
              "      border-bottom-color: var(--fill-color);\n",
              "    }\n",
              "  }\n",
              "</style>\n",
              "\n",
              "  <script>\n",
              "    async function quickchart(key) {\n",
              "      const quickchartButtonEl =\n",
              "        document.querySelector('#' + key + ' button');\n",
              "      quickchartButtonEl.disabled = true;  // To prevent multiple clicks.\n",
              "      quickchartButtonEl.classList.add('colab-df-spinner');\n",
              "      try {\n",
              "        const charts = await google.colab.kernel.invokeFunction(\n",
              "            'suggestCharts', [key], {});\n",
              "      } catch (error) {\n",
              "        console.error('Error during call to suggestCharts:', error);\n",
              "      }\n",
              "      quickchartButtonEl.classList.remove('colab-df-spinner');\n",
              "      quickchartButtonEl.classList.add('colab-df-quickchart-complete');\n",
              "    }\n",
              "    (() => {\n",
              "      let quickchartButtonEl =\n",
              "        document.querySelector('#df-71495aec-691b-4c9c-9237-b9f50ab10d7c button');\n",
              "      quickchartButtonEl.style.display =\n",
              "        google.colab.kernel.accessAllowed ? 'block' : 'none';\n",
              "    })();\n",
              "  </script>\n",
              "</div>\n",
              "\n",
              "    </div>\n",
              "  </div>\n"
            ],
            "application/vnd.google.colaboratory.intrinsic+json": {
              "type": "dataframe",
              "summary": "{\n  \"name\": \"aqi\",\n  \"rows\": 8,\n  \"fields\": [\n    {\n      \"column\": \"Unnamed: 0\",\n      \"properties\": {\n        \"dtype\": \"number\",\n        \"std\": 93.48689285485808,\n        \"min\": 0.0,\n        \"max\": 260.0,\n        \"num_unique_values\": 7,\n        \"samples\": [\n          260.0,\n          129.5,\n          194.25\n        ],\n        \"semantic_type\": \"\",\n        \"description\": \"\"\n      }\n    },\n    {\n      \"column\": \"arithmetic_mean\",\n      \"properties\": {\n        \"dtype\": \"number\",\n        \"std\": 91.74222148046502,\n        \"min\": 0.0,\n        \"max\": 260.0,\n        \"num_unique_values\": 8,\n        \"samples\": [\n          0.40316890769230773,\n          0.2763155,\n          260.0\n        ],\n        \"semantic_type\": \"\",\n        \"description\": \"\"\n      }\n    },\n    {\n      \"column\": \"aqi\",\n      \"properties\": {\n        \"dtype\": \"number\",\n        \"std\": 89.33954580747285,\n        \"min\": 0.0,\n        \"max\": 260.0,\n        \"num_unique_values\": 8,\n        \"samples\": [\n          6.757692307692308,\n          5.0,\n          260.0\n        ],\n        \"semantic_type\": \"\",\n        \"description\": \"\"\n      }\n    }\n  ]\n}"
            }
          },
          "metadata": {},
          "execution_count": 11
        }
      ]
    },
    {
      "cell_type": "markdown",
      "metadata": {
        "id": "LWBj7cKZZ_du"
      },
      "source": [
        "**Question:** Are all states equally represented in the dataset?\n",
        "\n",
        "[Write your response here. Double-click (or enter) to edit.]"
      ],
      "id": "LWBj7cKZZ_du"
    },
    {
      "cell_type": "markdown",
      "metadata": {
        "id": "e3fe028b-178b-49c0-9765-a566f862ab1b"
      },
      "source": [
        "<details>\n",
        "  <summary><h4><strong>Hint 1</strong></h4></summary>\n",
        "\n",
        "Refer to [the content about descriptive statisics](https://www.coursera.org/learn/the-power-of-statistics/lecture/jVRS4/measures-of-central-tendency).\n",
        "</details>"
      ],
      "id": "e3fe028b-178b-49c0-9765-a566f862ab1b"
    },
    {
      "cell_type": "markdown",
      "metadata": {
        "id": "d7cba139-a71c-4b21-aef6-47e248da9315"
      },
      "source": [
        "<details>\n",
        "  <summary><h4><strong>Hint 2</strong></h4></summary>\n",
        "\n",
        "Use `pandas` or `numpy` to explore the `aqi` DataFrame.\n",
        "</details>"
      ],
      "id": "d7cba139-a71c-4b21-aef6-47e248da9315"
    },
    {
      "cell_type": "markdown",
      "metadata": {
        "id": "8b7138ff-2e02-42df-8946-c0bd1076169c"
      },
      "source": [
        "<details>\n",
        "  <summary><h4><strong>Hint 3</strong></h4></summary>\n",
        "\n",
        "Use any of the following functions:\n",
        "- `pandas`: `describe()`,`value_counts()`,`shape()`\n",
        "- `numpy`: `unique()`,`mean()`\n",
        "    \n",
        "</details>"
      ],
      "id": "8b7138ff-2e02-42df-8946-c0bd1076169c"
    },
    {
      "cell_type": "code",
      "source": [
        "state_counts = aqi['state_name'].value_counts()\n",
        "state_counts"
      ],
      "metadata": {
        "colab": {
          "base_uri": "https://localhost:8080/",
          "height": 1000
        },
        "id": "RpId0H7yYHGB",
        "outputId": "2c977a1f-40c4-4691-d2c6-4835b2dc319b"
      },
      "id": "RpId0H7yYHGB",
      "execution_count": 12,
      "outputs": [
        {
          "output_type": "execute_result",
          "data": {
            "text/plain": [
              "state_name\n",
              "California              66\n",
              "Arizona                 14\n",
              "Ohio                    12\n",
              "Florida                 12\n",
              "Texas                   10\n",
              "New York                10\n",
              "Pennsylvania            10\n",
              "Michigan                 9\n",
              "Colorado                 9\n",
              "Minnesota                7\n",
              "New Jersey               6\n",
              "Indiana                  5\n",
              "North Carolina           4\n",
              "Massachusetts            4\n",
              "Maryland                 4\n",
              "Oklahoma                 4\n",
              "Virginia                 4\n",
              "Nevada                   4\n",
              "Connecticut              4\n",
              "Kentucky                 3\n",
              "Missouri                 3\n",
              "Wyoming                  3\n",
              "Iowa                     3\n",
              "Hawaii                   3\n",
              "Utah                     3\n",
              "Vermont                  3\n",
              "Illinois                 3\n",
              "New Hampshire            2\n",
              "District Of Columbia     2\n",
              "New Mexico               2\n",
              "Montana                  2\n",
              "Oregon                   2\n",
              "Alaska                   2\n",
              "Georgia                  2\n",
              "Washington               2\n",
              "Idaho                    2\n",
              "Nebraska                 2\n",
              "Rhode Island             2\n",
              "Tennessee                2\n",
              "Maine                    2\n",
              "South Carolina           1\n",
              "Puerto Rico              1\n",
              "Arkansas                 1\n",
              "Kansas                   1\n",
              "Mississippi              1\n",
              "Alabama                  1\n",
              "Louisiana                1\n",
              "Delaware                 1\n",
              "South Dakota             1\n",
              "West Virginia            1\n",
              "North Dakota             1\n",
              "Wisconsin                1\n",
              "Name: count, dtype: int64"
            ],
            "text/html": [
              "<div>\n",
              "<style scoped>\n",
              "    .dataframe tbody tr th:only-of-type {\n",
              "        vertical-align: middle;\n",
              "    }\n",
              "\n",
              "    .dataframe tbody tr th {\n",
              "        vertical-align: top;\n",
              "    }\n",
              "\n",
              "    .dataframe thead th {\n",
              "        text-align: right;\n",
              "    }\n",
              "</style>\n",
              "<table border=\"1\" class=\"dataframe\">\n",
              "  <thead>\n",
              "    <tr style=\"text-align: right;\">\n",
              "      <th></th>\n",
              "      <th>count</th>\n",
              "    </tr>\n",
              "    <tr>\n",
              "      <th>state_name</th>\n",
              "      <th></th>\n",
              "    </tr>\n",
              "  </thead>\n",
              "  <tbody>\n",
              "    <tr>\n",
              "      <th>California</th>\n",
              "      <td>66</td>\n",
              "    </tr>\n",
              "    <tr>\n",
              "      <th>Arizona</th>\n",
              "      <td>14</td>\n",
              "    </tr>\n",
              "    <tr>\n",
              "      <th>Ohio</th>\n",
              "      <td>12</td>\n",
              "    </tr>\n",
              "    <tr>\n",
              "      <th>Florida</th>\n",
              "      <td>12</td>\n",
              "    </tr>\n",
              "    <tr>\n",
              "      <th>Texas</th>\n",
              "      <td>10</td>\n",
              "    </tr>\n",
              "    <tr>\n",
              "      <th>New York</th>\n",
              "      <td>10</td>\n",
              "    </tr>\n",
              "    <tr>\n",
              "      <th>Pennsylvania</th>\n",
              "      <td>10</td>\n",
              "    </tr>\n",
              "    <tr>\n",
              "      <th>Michigan</th>\n",
              "      <td>9</td>\n",
              "    </tr>\n",
              "    <tr>\n",
              "      <th>Colorado</th>\n",
              "      <td>9</td>\n",
              "    </tr>\n",
              "    <tr>\n",
              "      <th>Minnesota</th>\n",
              "      <td>7</td>\n",
              "    </tr>\n",
              "    <tr>\n",
              "      <th>New Jersey</th>\n",
              "      <td>6</td>\n",
              "    </tr>\n",
              "    <tr>\n",
              "      <th>Indiana</th>\n",
              "      <td>5</td>\n",
              "    </tr>\n",
              "    <tr>\n",
              "      <th>North Carolina</th>\n",
              "      <td>4</td>\n",
              "    </tr>\n",
              "    <tr>\n",
              "      <th>Massachusetts</th>\n",
              "      <td>4</td>\n",
              "    </tr>\n",
              "    <tr>\n",
              "      <th>Maryland</th>\n",
              "      <td>4</td>\n",
              "    </tr>\n",
              "    <tr>\n",
              "      <th>Oklahoma</th>\n",
              "      <td>4</td>\n",
              "    </tr>\n",
              "    <tr>\n",
              "      <th>Virginia</th>\n",
              "      <td>4</td>\n",
              "    </tr>\n",
              "    <tr>\n",
              "      <th>Nevada</th>\n",
              "      <td>4</td>\n",
              "    </tr>\n",
              "    <tr>\n",
              "      <th>Connecticut</th>\n",
              "      <td>4</td>\n",
              "    </tr>\n",
              "    <tr>\n",
              "      <th>Kentucky</th>\n",
              "      <td>3</td>\n",
              "    </tr>\n",
              "    <tr>\n",
              "      <th>Missouri</th>\n",
              "      <td>3</td>\n",
              "    </tr>\n",
              "    <tr>\n",
              "      <th>Wyoming</th>\n",
              "      <td>3</td>\n",
              "    </tr>\n",
              "    <tr>\n",
              "      <th>Iowa</th>\n",
              "      <td>3</td>\n",
              "    </tr>\n",
              "    <tr>\n",
              "      <th>Hawaii</th>\n",
              "      <td>3</td>\n",
              "    </tr>\n",
              "    <tr>\n",
              "      <th>Utah</th>\n",
              "      <td>3</td>\n",
              "    </tr>\n",
              "    <tr>\n",
              "      <th>Vermont</th>\n",
              "      <td>3</td>\n",
              "    </tr>\n",
              "    <tr>\n",
              "      <th>Illinois</th>\n",
              "      <td>3</td>\n",
              "    </tr>\n",
              "    <tr>\n",
              "      <th>New Hampshire</th>\n",
              "      <td>2</td>\n",
              "    </tr>\n",
              "    <tr>\n",
              "      <th>District Of Columbia</th>\n",
              "      <td>2</td>\n",
              "    </tr>\n",
              "    <tr>\n",
              "      <th>New Mexico</th>\n",
              "      <td>2</td>\n",
              "    </tr>\n",
              "    <tr>\n",
              "      <th>Montana</th>\n",
              "      <td>2</td>\n",
              "    </tr>\n",
              "    <tr>\n",
              "      <th>Oregon</th>\n",
              "      <td>2</td>\n",
              "    </tr>\n",
              "    <tr>\n",
              "      <th>Alaska</th>\n",
              "      <td>2</td>\n",
              "    </tr>\n",
              "    <tr>\n",
              "      <th>Georgia</th>\n",
              "      <td>2</td>\n",
              "    </tr>\n",
              "    <tr>\n",
              "      <th>Washington</th>\n",
              "      <td>2</td>\n",
              "    </tr>\n",
              "    <tr>\n",
              "      <th>Idaho</th>\n",
              "      <td>2</td>\n",
              "    </tr>\n",
              "    <tr>\n",
              "      <th>Nebraska</th>\n",
              "      <td>2</td>\n",
              "    </tr>\n",
              "    <tr>\n",
              "      <th>Rhode Island</th>\n",
              "      <td>2</td>\n",
              "    </tr>\n",
              "    <tr>\n",
              "      <th>Tennessee</th>\n",
              "      <td>2</td>\n",
              "    </tr>\n",
              "    <tr>\n",
              "      <th>Maine</th>\n",
              "      <td>2</td>\n",
              "    </tr>\n",
              "    <tr>\n",
              "      <th>South Carolina</th>\n",
              "      <td>1</td>\n",
              "    </tr>\n",
              "    <tr>\n",
              "      <th>Puerto Rico</th>\n",
              "      <td>1</td>\n",
              "    </tr>\n",
              "    <tr>\n",
              "      <th>Arkansas</th>\n",
              "      <td>1</td>\n",
              "    </tr>\n",
              "    <tr>\n",
              "      <th>Kansas</th>\n",
              "      <td>1</td>\n",
              "    </tr>\n",
              "    <tr>\n",
              "      <th>Mississippi</th>\n",
              "      <td>1</td>\n",
              "    </tr>\n",
              "    <tr>\n",
              "      <th>Alabama</th>\n",
              "      <td>1</td>\n",
              "    </tr>\n",
              "    <tr>\n",
              "      <th>Louisiana</th>\n",
              "      <td>1</td>\n",
              "    </tr>\n",
              "    <tr>\n",
              "      <th>Delaware</th>\n",
              "      <td>1</td>\n",
              "    </tr>\n",
              "    <tr>\n",
              "      <th>South Dakota</th>\n",
              "      <td>1</td>\n",
              "    </tr>\n",
              "    <tr>\n",
              "      <th>West Virginia</th>\n",
              "      <td>1</td>\n",
              "    </tr>\n",
              "    <tr>\n",
              "      <th>North Dakota</th>\n",
              "      <td>1</td>\n",
              "    </tr>\n",
              "    <tr>\n",
              "      <th>Wisconsin</th>\n",
              "      <td>1</td>\n",
              "    </tr>\n",
              "  </tbody>\n",
              "</table>\n",
              "</div><br><label><b>dtype:</b> int64</label>"
            ]
          },
          "metadata": {},
          "execution_count": 12
        }
      ]
    },
    {
      "cell_type": "markdown",
      "metadata": {
        "id": "fd48d0f0-3f90-455e-87a1-0da43fcac202"
      },
      "source": [
        "## Step 3: Statistical tests\n",
        "\n",
        "### Summarize the mean AQI for RRE states\n",
        "\n",
        "Start with your first deliverable. Summarize the mean AQI for the states in which RRE operates (California, Florida, Michigan, Ohio, Pennsylvania, and Texas)."
      ],
      "id": "fd48d0f0-3f90-455e-87a1-0da43fcac202"
    },
    {
      "cell_type": "code",
      "execution_count": 15,
      "metadata": {
        "id": "83ef0d80-48ec-4a5a-8acd-0fab137243c3",
        "tags": [],
        "colab": {
          "base_uri": "https://localhost:8080/"
        },
        "outputId": "aedab6f2-53be-46d0-e1d7-76cef4006d3e"
      },
      "outputs": [
        {
          "output_type": "stream",
          "name": "stdout",
          "text": [
            "state_name\n",
            "California      12.121212\n",
            "Florida          5.500000\n",
            "Michigan         8.111111\n",
            "Ohio             3.333333\n",
            "Pennsylvania     2.900000\n",
            "Texas            2.700000\n",
            "Name: aqi, dtype: float64\n"
          ]
        }
      ],
      "source": [
        "# Summarize the mean AQI for RRE states.\n",
        "\n",
        "### YOUR CODE HERE ###\n",
        "\n",
        "# Create a list of RRE states.\n",
        "RRE_states = ['California', 'Florida', 'Michigan', 'Ohio', 'Pennsylvania', 'Texas']\n",
        "# Subset `aqi` to only consider these states.\n",
        "subset_aqi = aqi[aqi['state_name'].isin(RRE_states)]\n",
        "# Find the mean aqi for each of the RRE states.\n",
        "mean_aqi = subset_aqi.groupby('state_name')['aqi'].mean()\n",
        "print(mean_aqi)"
      ],
      "id": "83ef0d80-48ec-4a5a-8acd-0fab137243c3"
    },
    {
      "cell_type": "markdown",
      "metadata": {
        "id": "1078da6e-ce25-45c1-9707-9bf32ecc128f"
      },
      "source": [
        "<details>\n",
        "  <summary><h4><strong>Hint 1</strong></h4></summary>\n",
        "\n",
        "Subset your DataFrame to only include those states in which RRE operates.\n",
        "    \n",
        "</details>"
      ],
      "id": "1078da6e-ce25-45c1-9707-9bf32ecc128f"
    },
    {
      "cell_type": "markdown",
      "metadata": {
        "id": "096f97f3-7d89-4f0f-805a-2517807eec0d"
      },
      "source": [
        "<details>\n",
        "  <summary><h4><strong>Hint 2</strong></h4></summary>\n",
        "\n",
        "Define a list consisting of the states in which RRE operates and use that list to subset your DataFrame.\n",
        "    \n",
        "</details>"
      ],
      "id": "096f97f3-7d89-4f0f-805a-2517807eec0d"
    },
    {
      "cell_type": "markdown",
      "metadata": {
        "id": "77d4a686-be3d-40c1-9d27-099677f182b9"
      },
      "source": [
        "<details>\n",
        "  <summary><h4><strong>Hint 3</strong></h4></summary>\n",
        "\n",
        "Use `pandas` `isin.()` to subset your DataFrame by the list of RRE states.\n",
        "    \n",
        "</details>"
      ],
      "id": "77d4a686-be3d-40c1-9d27-099677f182b9"
    },
    {
      "cell_type": "markdown",
      "metadata": {
        "id": "883abc8c-5aa9-480e-ac4b-c1c64f8ae0fd"
      },
      "source": [
        "### Construct a boxplot visualization for the AQI of these states\n",
        "\n",
        "Seaborn is a simple visualization library, commonly imported as `sns`. Import `seaborn`. Then utilize a boxplot visualization from this library to compare the distributions of AQI scores by state."
      ],
      "id": "883abc8c-5aa9-480e-ac4b-c1c64f8ae0fd"
    },
    {
      "cell_type": "code",
      "execution_count": 18,
      "metadata": {
        "id": "ca381599-7cba-4454-922c-3383a2b7608d",
        "colab": {
          "base_uri": "https://localhost:8080/",
          "height": 564
        },
        "outputId": "06041f81-f234-449e-b72f-61002ab73234"
      },
      "outputs": [
        {
          "output_type": "display_data",
          "data": {
            "text/plain": [
              "<Figure size 1000x600 with 1 Axes>"
            ],
            "image/png": "[encoded data removed]"
          },
          "metadata": {}
        }
      ],
      "source": [
        "# Import seaborn as sns.\n",
        "import matplotlib.pyplot as plt\n",
        "plt.figure(figsize=(10, 6))\n",
        "sns.boxplot(x='state_name', y='aqi', data=subset_aqi)\n",
        "plt.title('AQI Distribution by State for RRE States')\n",
        "plt.xlabel('State')\n",
        "plt.ylabel('AQI')\n",
        "plt.show()\n",
        "### YOUR CODE HERE ###"
      ],
      "id": "ca381599-7cba-4454-922c-3383a2b7608d"
    },
    {
      "cell_type": "markdown",
      "metadata": {
        "id": "01510e30-26e6-4408-9599-e7016fdb9948"
      },
      "source": [
        "### Create an in-line visualization showing the distribution of `aqi` by `state_name`\n",
        "\n",
        "Now, create an in-line visualization showing the distribution of `aqi` by `state_name`."
      ],
      "id": "01510e30-26e6-4408-9599-e7016fdb9948"
    },
    {
      "cell_type": "code",
      "execution_count": 19,
      "metadata": {
        "id": "50040050-1ff3-4d0e-a9e1-d2fd00454ce3",
        "colab": {
          "base_uri": "https://localhost:8080/",
          "height": 564
        },
        "outputId": "f4650b84-6897-41d1-c4aa-91d741d236c7"
      },
      "outputs": [
        {
          "output_type": "display_data",
          "data": {
            "text/plain": [
              "<Figure size 1000x600 with 1 Axes>"
            ],
            "image/png": "[encoded data removed]"
          },
          "metadata": {}
        }
      ],
      "source": [
        "### YOUR CODE HERE ###\n",
        "\n",
        "plt.figure(figsize=(10, 6))\n",
        "sns.boxplot(x='state_name', y='aqi',data=subset_aqi)\n",
        "plt.title('AQI Distribution by State for RRE States')\n",
        "plt.xlabel('State')\n",
        "plt.ylabel('AQI')\n",
        "plt.show()"
      ],
      "id": "50040050-1ff3-4d0e-a9e1-d2fd00454ce3"
    },
    {
      "cell_type": "markdown",
      "metadata": {
        "id": "2ec7b69d-072c-4c42-b0b4-7cff1aaa1579"
      },
      "source": [
        "<details>\n",
        "  <summary><h4><strong>Hint 1</strong></h4></summary>\n",
        "\n",
        "Use the boxplot visual for this purpose.\n",
        "    \n",
        "</details>"
      ],
      "id": "2ec7b69d-072c-4c42-b0b4-7cff1aaa1579"
    },
    {
      "cell_type": "markdown",
      "metadata": {
        "id": "4218e686-47fc-49cc-b98d-fbca88144a34",
        "tags": []
      },
      "source": [
        "<details>\n",
        "  <summary><h4><strong>Hint 2</strong></h4></summary>\n",
        "\n",
        "Reference [Seaborn's boxplot visualization documentation](https://seaborn.pydata.org/generated/seaborn.boxplot.html).\n",
        "    \n",
        "</details>"
      ],
      "id": "4218e686-47fc-49cc-b98d-fbca88144a34"
    },
    {
      "cell_type": "markdown",
      "metadata": {
        "id": "a3f8a76b-a277-4488-adf2-0ffc9d89e496",
        "tags": []
      },
      "source": [
        "<details>\n",
        "  <summary><h4><strong>Hint 3</strong></h4></summary>\n",
        "\n",
        "Assign `state_name` to the x argument and `aqi` to the y.\n",
        "    \n",
        "</details>"
      ],
      "id": "a3f8a76b-a277-4488-adf2-0ffc9d89e496"
    },
    {
      "cell_type": "markdown",
      "metadata": {
        "id": "5e2af1a1-7816-4d8b-929b-41268234a579"
      },
      "source": [
        "**Question:** Based on the data and your visualizations, which state(s) do you suspect will be most affected by this policy?"
      ],
      "id": "5e2af1a1-7816-4d8b-929b-41268234a579"
    },
    {
      "cell_type": "markdown",
      "metadata": {
        "id": "ZbPjfp_wgVpg"
      },
      "source": [
        "Carlifonia is most affected"
      ],
      "id": "ZbPjfp_wgVpg"
    },
    {
      "cell_type": "markdown",
      "metadata": {
        "id": "30760c51-641f-4971-9837-4ae60b72cd64"
      },
      "source": [
        "<details>\n",
        "  <summary><h4><strong>Hint 1</strong></h4></summary>\n",
        "\n",
        "Consider the mean AQI for the RRE states, as well as the distribution in the boxplots relative to the policy limit (10).\n",
        "    \n",
        "</details>"
      ],
      "id": "30760c51-641f-4971-9837-4ae60b72cd64"
    },
    {
      "cell_type": "markdown",
      "metadata": {
        "id": "b01231e9-0a80-4457-a47e-c62c2c230ae4"
      },
      "source": [
        "### Construct a confidence interval for the RRE state with the highest mean AQI\n",
        "\n",
        "Recall the 4-step process in constructing a confidence interval:\n",
        "\n",
        "1.   Identify a sample statistic.\n",
        "2.   Choose a confidence level.\n",
        "3.   Find the margin of error.\n",
        "4.   Calculate the interval."
      ],
      "id": "b01231e9-0a80-4457-a47e-c62c2c230ae4"
    },
    {
      "cell_type": "markdown",
      "metadata": {
        "id": "587f8053-6cbd-454a-a390-9307e5a65b1b"
      },
      "source": [
        "### Construct your sample statistic\n",
        "\n",
        "To contruct your sample statistic, find the mean AQI for your state."
      ],
      "id": "587f8053-6cbd-454a-a390-9307e5a65b1b"
    },
    {
      "cell_type": "code",
      "execution_count": 23,
      "metadata": {
        "id": "58af6462-80ab-4055-85de-c99c87129752",
        "colab": {
          "base_uri": "https://localhost:8080/"
        },
        "outputId": "65fd0ff7-97b2-4d33-f6bb-5fb3447890e5"
      },
      "outputs": [
        {
          "output_type": "stream",
          "name": "stdout",
          "text": [
            "12.121212121212121\n"
          ]
        }
      ],
      "source": [
        "# Find the mean aqi for your state.\n",
        "#mean_aqi = aqi[aqi['state_name'] == 'California']['aqi'].mean()\n",
        "#print(mean_aqi)\n",
        "### YOUR CODE HERE ###\n",
        "highest_mean_value = mean_aqi.max()\n",
        "print(highest_mean_value)"
      ],
      "id": "58af6462-80ab-4055-85de-c99c87129752"
    },
    {
      "cell_type": "markdown",
      "metadata": {
        "id": "3361efb6-9def-4140-8d55-061487583b3e"
      },
      "source": [
        "<details>\n",
        "  <summary><h4><strong>Hint 1</strong></h4></summary>\n",
        "\n",
        "Reference what you've previously learned to recall what a [sample statistic](https://www.coursera.org/learn/the-power-of-statistics/supplement/cdOx7/construct-a-confidence-interval-for-a-small-sample-size) is.\n",
        "    \n",
        "</details>"
      ],
      "id": "3361efb6-9def-4140-8d55-061487583b3e"
    },
    {
      "cell_type": "markdown",
      "metadata": {
        "id": "54189c3c-a318-447b-b48f-b7bcd9b8a178"
      },
      "source": [
        "<details>\n",
        "  <summary><h4><strong>Hint 2</strong></h4></summary>\n",
        "\n",
        "Calculate the mean for your highest AQI state to arrive at your sample statistic.\n",
        "    \n",
        "</details>"
      ],
      "id": "54189c3c-a318-447b-b48f-b7bcd9b8a178"
    },
    {
      "cell_type": "markdown",
      "metadata": {
        "id": "a2659e8e-1f67-441f-825c-8473c9f88081"
      },
      "source": [
        "<details>\n",
        " <summary><h4><strong>Hint 3</strong></h4></summary>\n",
        "\n",
        "Call the `mean()` function within `pandas` on your DataFrame.\n",
        "    \n",
        "</details>"
      ],
      "id": "a2659e8e-1f67-441f-825c-8473c9f88081"
    },
    {
      "cell_type": "markdown",
      "metadata": {
        "id": "9a15605d-5b99-4033-940f-1fab630ad6c1"
      },
      "source": [
        "### Choose your confidence level\n",
        "\n",
        "Choose your confidence level for your analysis. The most typical confidence level chosen is 95%; however, you can choose 90% or 99% if you want decrease or increase (respectively) your level of confidence about your result."
      ],
      "id": "9a15605d-5b99-4033-940f-1fab630ad6c1"
    },
    {
      "cell_type": "code",
      "execution_count": null,
      "metadata": {
        "id": "0a9c1f39-b4e2-4ec3-9369-dd313fd2d835"
      },
      "outputs": [],
      "source": [
        "# Input your confidence level here:\n",
        "CI = 0.95\n",
        "### YOUR CODE HERE ###"
      ],
      "id": "0a9c1f39-b4e2-4ec3-9369-dd313fd2d835"
    },
    {
      "cell_type": "markdown",
      "metadata": {
        "id": "ac18cb1b-40ca-4de3-bc0a-08be82f64781"
      },
      "source": [
        "### Find your margin of error (ME)\n",
        "\n",
        "Recall **margin of error = z * standard error**, where z is the appropriate z-value for the given confidence level. To calculate your margin of error:\n",
        "\n",
        "- Find your z-value.\n",
        "- Find the approximate z for common confidence levels.\n",
        "- Calculate your **standard error** estimate.\n",
        "\n",
        "| Confidence Level | Z Score |\n",
        "| --- | --- |\n",
        "| 90% | 1.65 |\n",
        "| 95% | 1.96 |\n",
        "| 99% | 2.58 |\n"
      ],
      "id": "ac18cb1b-40ca-4de3-bc0a-08be82f64781"
    },
    {
      "cell_type": "code",
      "execution_count": 25,
      "metadata": {
        "id": "930e5fb6-171c-4bba-a601-d5e3b84e2fdb",
        "colab": {
          "base_uri": "https://localhost:8080/"
        },
        "outputId": "055732e0-aafd-4702-c20c-65b620af7919"
      },
      "outputs": [
        {
          "output_type": "stream",
          "name": "stdout",
          "text": [
            "0.8583789753812816\n"
          ]
        }
      ],
      "source": [
        "# Calculate your margin of error.\n",
        "\n",
        "### YOUR CODE HERE ###\n",
        "\n",
        "# Begin by identifying the z associated with your chosen confidence level.\n",
        "\n",
        "# Next, calculate your standard error.\n",
        "standard_error = aqi['aqi'].std() / np.sqrt(len(aqi))\n",
        "# Lastly, use the preceding result to calculate your margin of error.\n",
        "\n",
        "margin_of_error = 1.96 * standard_error\n",
        "print(margin_of_error)"
      ],
      "id": "930e5fb6-171c-4bba-a601-d5e3b84e2fdb"
    },
    {
      "cell_type": "markdown",
      "metadata": {
        "id": "6b0d173b-06d4-4e82-81d8-092b24132bd2"
      },
      "source": [
        "### Calculate your interval\n",
        "\n",
        "Calculate both a lower and upper limit surrounding your sample mean to create your interval."
      ],
      "id": "6b0d173b-06d4-4e82-81d8-092b24132bd2"
    },
    {
      "cell_type": "code",
      "execution_count": 27,
      "metadata": {
        "id": "f83a7ba7-afdd-4d8c-8b78-849cff363180",
        "colab": {
          "base_uri": "https://localhost:8080/"
        },
        "outputId": "4f61bf44-cdb2-42a6-c276-e954acacac0a"
      },
      "outputs": [
        {
          "output_type": "stream",
          "name": "stdout",
          "text": [
            "11.26283314583084 12.979591096593403\n"
          ]
        }
      ],
      "source": [
        "# Calculate your confidence interval (upper and lower limits).\n",
        "lower_limit = highest_mean_value - margin_of_error\n",
        "upper_limit = highest_mean_value + margin_of_error\n",
        "\n",
        "print(lower_limit, upper_limit)\n",
        "### YOUR CODE HERE ###"
      ],
      "id": "f83a7ba7-afdd-4d8c-8b78-849cff363180"
    },
    {
      "cell_type": "markdown",
      "metadata": {
        "id": "5c6af474-8803-40c3-88fe-3ae8d4523097"
      },
      "source": [
        "<details>\n",
        "  <summary><h4><strong>Hint 1</strong></h4></summary>\n",
        "\n",
        "Refer to [the content about constructing a confidence interval](https://www.coursera.org/learn/the-power-of-statistics/lecture/3jbsX/construct-a-confidence-interval-for-a-proportion).\n",
        "    \n",
        "</details>"
      ],
      "id": "5c6af474-8803-40c3-88fe-3ae8d4523097"
    },
    {
      "cell_type": "markdown",
      "metadata": {
        "id": "d515ba65-5524-492e-ba06-64d3a4e90e8f"
      },
      "source": [
        "<details>\n",
        "  <summary><h4><strong>Hint 2</strong></h4></summary>\n",
        "\n",
        "Identify the sample mean from your prior work. Then use the margin of error to construct your upper and lower limits.  \n",
        "    \n",
        "</details>"
      ],
      "id": "d515ba65-5524-492e-ba06-64d3a4e90e8f"
    },
    {
      "cell_type": "markdown",
      "metadata": {
        "id": "22532a0b-8db5-4874-9869-39d3e80a5ea9"
      },
      "source": [
        "<details>\n",
        "  <summary><h4><strong>Hint 3</strong></h4></summary>\n",
        "\n",
        "Subtract the margin of error from the sample mean to construct your lower limit, and add the margin of error to your sample mean to construct your upper limit.\n",
        "    \n",
        "</details>"
      ],
      "id": "22532a0b-8db5-4874-9869-39d3e80a5ea9"
    },
    {
      "cell_type": "markdown",
      "metadata": {
        "id": "82e06ed3-2ec3-4851-b3df-2c6d969ea616"
      },
      "source": [
        "### Alternative: Construct the interval using `scipy.stats.norm.interval()`\n",
        "\n",
        "`scipy` presents a simpler solution to developing a confidence interval. To use this, first import the `stats` module from `scipy`."
      ],
      "id": "82e06ed3-2ec3-4851-b3df-2c6d969ea616"
    },
    {
      "cell_type": "code",
      "execution_count": 30,
      "metadata": {
        "id": "0b6d2ecc-03ff-47ab-9d2d-57857fc38ca0",
        "colab": {
          "base_uri": "https://localhost:8080/"
        },
        "outputId": "d8d7ca32-af4a-4c74-f8f3-b87059d081c9"
      },
      "outputs": [
        {
          "output_type": "execute_result",
          "data": {
            "text/plain": [
              "(11.262848918745945, 12.979575323678297)"
            ]
          },
          "metadata": {},
          "execution_count": 30
        }
      ],
      "source": [
        "# Import stats from scipy.\n",
        "from scipy import stats\n",
        "\n",
        "stats.norm.interval(confidence=0.95, loc=highest_mean_value, scale=standard_error)\n",
        "### YOUR CODE HERE ###"
      ],
      "id": "0b6d2ecc-03ff-47ab-9d2d-57857fc38ca0"
    },
    {
      "cell_type": "markdown",
      "metadata": {
        "id": "ba8af068-f28e-4c29-82c9-238bc0f16ed1"
      },
      "source": [
        "## Step 4: Results and evaluation\n",
        "\n",
        "### Recalculate your confidence interval\n",
        "\n",
        "Provide your chosen `confidence_level`, `sample_mean`, and `standard_error` to `stats.norm.interval()` and recalculate your confidence interval."
      ],
      "id": "ba8af068-f28e-4c29-82c9-238bc0f16ed1"
    },
    {
      "cell_type": "code",
      "execution_count": null,
      "metadata": {
        "id": "f908eb99-ce5c-472f-891e-80a47cef5fed"
      },
      "outputs": [],
      "source": [
        "### YOUR CODE HERE ###"
      ],
      "id": "f908eb99-ce5c-472f-891e-80a47cef5fed"
    },
    {
      "cell_type": "markdown",
      "metadata": {
        "id": "feb3e273-1aab-4965-bceb-8b8933c743b5"
      },
      "source": [
        "# Considerations\n",
        "\n",
        "**What are some key takeaways that you learned from this lab?**\n",
        "\n",
        "[Write your response here. Double-click (or enter) to edit.]\n",
        "\n",
        "**What findings would you share with others?**\n",
        "\n",
        "[Write your response here. Double-click (or enter) to edit.]\n",
        "\n",
        "**What would you convey to external stakeholders?**\n",
        "\n",
        "[Write your response here. Double-click (or enter) to edit.]"
      ],
      "id": "feb3e273-1aab-4965-bceb-8b8933c743b5"
    },
    {
      "cell_type": "markdown",
      "metadata": {
        "id": "0IVWUekbeFEq"
      },
      "source": [
        "**References**\n",
        "\n",
        "[seaborn.boxplot — seaborn 0.12.1 documentation](https://seaborn.pydata.org/generated/seaborn.boxplot.html). (n.d.)."
      ],
      "id": "0IVWUekbeFEq"
    },
    {
      "cell_type": "markdown",
      "metadata": {
        "id": "HNbIigUXUqHp"
      },
      "source": [
        "**Congratulations!** You've completed this lab. However, you may not notice a green check mark next to this item on Coursera's platform. Please continue your progress regardless of the check mark. Just click on the \"save\" icon at the top of this notebook to ensure your work has been logged."
      ],
      "id": "HNbIigUXUqHp"
    }
  ],
  "metadata": {
    "colab": {
      "provenance": [],
      "include_colab_link": true
    },
    "kernelspec": {
      "display_name": "Python 3",
      "language": "python",
      "name": "python3"
    },
    "language_info": {
      "codemirror_mode": {
        "name": "ipython",
        "version": 3
      },
      "file_extension": ".py",
      "mimetype": "text/x-python",
      "name": "python",
      "nbconvert_exporter": "python",
      "pygments_lexer": "ipython3",
      "version": "3.7.6"
    }
  },
  "nbformat": 4,
  "nbformat_minor": 5
}